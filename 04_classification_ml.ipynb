{
  "cells": [
    {
      "cell_type": "markdown",
      "metadata": {
        "id": "18e66f99"
      },
      "source": [
        "# Classification - Hotel Booking Cancellation Prediction\n",
        "\n",
        "-----------------------------\n",
        "\n",
        "**Author**: Ciara Adkins\n",
        "\n",
        "**Email**: adkins.ciara@gmail.com\n",
        "\n",
        "**LinkedIn**: https://www.linkedin.com/in/ciara-adkins/\n",
        "\n",
        "-----------------------------\n",
        "\n",
        "This is the project on classification. We will use the INN Hotels dataset for this problem.\n",
        "\n",
        "Completed as a part of the MIT Applied Data Science course in the Spring of 2022. Full e-portfolio can be viewed here: https://eportfolio.mygreatlearning.com/ciara-adkins\n"
      ],
      "id": "18e66f99"
    },
    {
      "cell_type": "markdown",
      "metadata": {
        "id": "960c4399"
      },
      "source": [
        "## Context\n",
        "\n",
        "A significant number of hotel bookings are called off due to cancellations or no-shows. The typical reasons for cancellations include change of plans, scheduling conflicts, etc. This is often made easier by the option to do so free of charge or preferably at a low cost which is beneficial to hotel guests but it is a less desirable and possibly revenue-diminishing factor for hotels to deal with. Such losses are particularly high on last-minute cancellations.\n",
        "\n",
        "The new technologies involving online booking channels have dramatically changed customers' booking possibilities and behavior. This adds a further dimension to the challenge of how hotels handle cancellations, which are no longer limited to traditional booking and guest characteristics.\n",
        "\n",
        "The cancellation of bookings impact a hotel on various fronts:\n",
        "1. Loss of resources (revenue) when the hotel cannot resell the room.\n",
        "2. Additional costs of distribution channels by increasing commissions or paying for publicity to help sell these rooms.\n",
        "3. Lowering prices last minute, so the hotel can resell a room, resulting in reducing the profit margin.\n",
        "4. Human resources to make arrangements for the guests.\n",
        "\n",
        "## Objective\n",
        "\n",
        "The increasing number of cancellations calls for a Machine Learning based solution that can help in predicting which booking is likely to be canceled. INN Hotels Group has a chain of hotels in Portugal, they are facing problems with the high number of booking cancellations and have reached out to your firm for data-driven solutions. You as a data scientist have to analyze the data provided to find which factors have a high influence on booking cancellations, build a predictive model that can predict which booking is going to be canceled in advance, and help in formulating profitable policies for cancellations and refunds.\n",
        "\n",
        "\n",
        "## Data Description\n",
        "\n",
        "The data contains the different attributes of customers' booking details. The detailed data dictionary is given below.\n",
        "\n",
        "\n",
        "**Data Dictionary**\n",
        "\n",
        "* Booking_ID: unique identifier of each booking\n",
        "* no_of_adults: Number of adults\n",
        "* no_of_children: Number of Children\n",
        "* no_of_weekend_nights: Number of weekend nights (Saturday or Sunday) the guest stayed or booked to stay at the hotel\n",
        "* no_of_week_nights: Number of week nights (Monday to Friday) the guest stayed or booked to stay at the hotel\n",
        "* type_of_meal_plan: Type of meal plan booked by the customer:\n",
        "    * Not Selected – No meal plan selected\n",
        "    * Meal Plan 1 – Breakfast\n",
        "    * Meal Plan 2 – Half board (breakfast and one other meal)\n",
        "    * Meal Plan 3 – Full board (breakfast, lunch, and dinner)\n",
        "* required_car_parking_space: Does the customer require a car parking space? (0 - No, 1- Yes)\n",
        "* room_type_reserved: Type of room reserved by the customer. The values are ciphered (encoded) by INN Hotels.\n",
        "* lead_time: Number of days between the date of booking and the arrival date\n",
        "* arrival_year: Year of arrival date\n",
        "* arrival_month: Month of arrival date\n",
        "* arrival_date: Date of the month\n",
        "* market_segment_type: Market segment designation.\n",
        "* repeated_guest: Is the customer a repeated guest? (0 - No, 1- Yes)\n",
        "* no_of_previous_cancellations: Number of previous bookings that were canceled by the customer prior to the current booking\n",
        "* no_of_previous_bookings_not_canceled: Number of previous bookings not canceled by the customer prior to the current booking\n",
        "* avg_price_per_room: Average price per day of the reservation; prices of the rooms are dynamic. (in euros)\n",
        "* no_of_special_requests: Total number of special requests made by the customer (e.g. high floor, view from the room, etc)\n",
        "* booking_status: Flag indicating if the booking was canceled or not."
      ],
      "id": "960c4399"
    },
    {
      "cell_type": "markdown",
      "metadata": {
        "id": "d284d019"
      },
      "source": [
        "## Importing necessary libraries and overview of the dataset"
      ],
      "id": "d284d019"
    },
    {
      "cell_type": "code",
      "execution_count": null,
      "metadata": {
        "id": "68fe4539"
      },
      "outputs": [],
      "source": [
        "import warnings\n",
        "warnings.filterwarnings(\"ignore\")\n",
        "\n",
        "import pandas as pd\n",
        "import numpy as np\n",
        "import matplotlib.pyplot as plt\n",
        "import seaborn as sns\n",
        "\n",
        "#To scale the data using z-score \n",
        "from sklearn.preprocessing import StandardScaler\n",
        "\n",
        "from sklearn.model_selection import train_test_split\n",
        "\n",
        "#Algorithms to use\n",
        "from sklearn.linear_model import LogisticRegression\n",
        "from sklearn.neighbors import KNeighborsClassifier\n",
        "\n",
        "#To tune the model\n",
        "from sklearn.model_selection import GridSearchCV\n",
        "\n",
        "#Metrics to evaluate the model\n",
        "from sklearn.metrics import confusion_matrix, classification_report, precision_recall_curve"
      ],
      "id": "68fe4539"
    },
    {
      "cell_type": "markdown",
      "metadata": {
        "id": "002d8f98"
      },
      "source": [
        "#### Loading data"
      ],
      "id": "002d8f98"
    },
    {
      "cell_type": "code",
      "execution_count": null,
      "metadata": {
        "colab": {
          "base_uri": "https://localhost:8080/",
          "height": 74,
          "resources": {
            "http://localhost:8080/nbextensions/google.colab/files.js": {
              "data": "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",
              "headers": [
                [
                  "content-type",
                  "application/javascript"
                ]
              ],
              "ok": true,
              "status": 200,
              "status_text": ""
            }
          }
        },
        "id": "MylqHcUI_YL4",
        "outputId": "861ed92c-55bd-4751-d18a-fc4308554e2a"
      },
      "outputs": [
        {
          "output_type": "display_data",
          "data": {
            "text/html": [
              "\n",
              "     <input type=\"file\" id=\"files-a276712f-3914-47d1-ade7-0ca2dbb06f95\" name=\"files[]\" multiple disabled\n",
              "        style=\"border:none\" />\n",
              "     <output id=\"result-a276712f-3914-47d1-ade7-0ca2dbb06f95\">\n",
              "      Upload widget is only available when the cell has been executed in the\n",
              "      current browser session. Please rerun this cell to enable.\n",
              "      </output>\n",
              "      <script src=\"/nbextensions/google.colab/files.js\"></script> "
            ],
            "text/plain": [
              "<IPython.core.display.HTML object>"
            ]
          },
          "metadata": {}
        },
        {
          "output_type": "stream",
          "name": "stdout",
          "text": [
            "Saving INNHotelsGroup.csv to INNHotelsGroup (1).csv\n"
          ]
        }
      ],
      "source": [
        "from google.colab import files\n",
        "uploaded = files.upload()"
      ],
      "id": "MylqHcUI_YL4"
    },
    {
      "cell_type": "code",
      "execution_count": null,
      "metadata": {
        "id": "c3e43770"
      },
      "outputs": [],
      "source": [
        "hotel = pd.read_csv(\"INNHotelsGroup.csv\")"
      ],
      "id": "c3e43770"
    },
    {
      "cell_type": "code",
      "execution_count": null,
      "metadata": {
        "id": "ddd324ae"
      },
      "outputs": [],
      "source": [
        "# copying data to another variable to avoid any changes to original data\n",
        "data = hotel.copy()"
      ],
      "id": "ddd324ae"
    },
    {
      "cell_type": "markdown",
      "metadata": {
        "id": "81a71b28"
      },
      "source": [
        "#### View the first and last 5 rows of the dataset"
      ],
      "id": "81a71b28"
    },
    {
      "cell_type": "code",
      "execution_count": null,
      "metadata": {
        "colab": {
          "base_uri": "https://localhost:8080/",
          "height": 270
        },
        "id": "2f476c30",
        "outputId": "49ef46fd-9ed3-4fb1-cbb9-77c5c7bb8006"
      },
      "outputs": [
        {
          "output_type": "execute_result",
          "data": {
            "text/html": [
              "\n",
              "  <div id=\"df-d6d44eff-f86b-458a-9623-690e07f66787\">\n",
              "    <div class=\"colab-df-container\">\n",
              "      <div>\n",
              "<style scoped>\n",
              "    .dataframe tbody tr th:only-of-type {\n",
              "        vertical-align: middle;\n",
              "    }\n",
              "\n",
              "    .dataframe tbody tr th {\n",
              "        vertical-align: top;\n",
              "    }\n",
              "\n",
              "    .dataframe thead th {\n",
              "        text-align: right;\n",
              "    }\n",
              "</style>\n",
              "<table border=\"1\" class=\"dataframe\">\n",
              "  <thead>\n",
              "    <tr style=\"text-align: right;\">\n",
              "      <th></th>\n",
              "      <th>Booking_ID</th>\n",
              "      <th>no_of_adults</th>\n",
              "      <th>no_of_children</th>\n",
              "      <th>no_of_weekend_nights</th>\n",
              "      <th>no_of_week_nights</th>\n",
              "      <th>type_of_meal_plan</th>\n",
              "      <th>required_car_parking_space</th>\n",
              "      <th>room_type_reserved</th>\n",
              "      <th>lead_time</th>\n",
              "      <th>arrival_year</th>\n",
              "      <th>arrival_month</th>\n",
              "      <th>arrival_date</th>\n",
              "      <th>market_segment_type</th>\n",
              "      <th>repeated_guest</th>\n",
              "      <th>no_of_previous_cancellations</th>\n",
              "      <th>no_of_previous_bookings_not_canceled</th>\n",
              "      <th>avg_price_per_room</th>\n",
              "      <th>no_of_special_requests</th>\n",
              "      <th>booking_status</th>\n",
              "    </tr>\n",
              "  </thead>\n",
              "  <tbody>\n",
              "    <tr>\n",
              "      <th>0</th>\n",
              "      <td>INN00001</td>\n",
              "      <td>2</td>\n",
              "      <td>0</td>\n",
              "      <td>1</td>\n",
              "      <td>2</td>\n",
              "      <td>Meal Plan 1</td>\n",
              "      <td>0</td>\n",
              "      <td>Room_Type 1</td>\n",
              "      <td>224</td>\n",
              "      <td>2017</td>\n",
              "      <td>10</td>\n",
              "      <td>2</td>\n",
              "      <td>Offline</td>\n",
              "      <td>0</td>\n",
              "      <td>0</td>\n",
              "      <td>0</td>\n",
              "      <td>65.00</td>\n",
              "      <td>0</td>\n",
              "      <td>Not_Canceled</td>\n",
              "    </tr>\n",
              "    <tr>\n",
              "      <th>1</th>\n",
              "      <td>INN00002</td>\n",
              "      <td>2</td>\n",
              "      <td>0</td>\n",
              "      <td>2</td>\n",
              "      <td>3</td>\n",
              "      <td>Not Selected</td>\n",
              "      <td>0</td>\n",
              "      <td>Room_Type 1</td>\n",
              "      <td>5</td>\n",
              "      <td>2018</td>\n",
              "      <td>11</td>\n",
              "      <td>6</td>\n",
              "      <td>Online</td>\n",
              "      <td>0</td>\n",
              "      <td>0</td>\n",
              "      <td>0</td>\n",
              "      <td>106.68</td>\n",
              "      <td>1</td>\n",
              "      <td>Not_Canceled</td>\n",
              "    </tr>\n",
              "    <tr>\n",
              "      <th>2</th>\n",
              "      <td>INN00003</td>\n",
              "      <td>1</td>\n",
              "      <td>0</td>\n",
              "      <td>2</td>\n",
              "      <td>1</td>\n",
              "      <td>Meal Plan 1</td>\n",
              "      <td>0</td>\n",
              "      <td>Room_Type 1</td>\n",
              "      <td>1</td>\n",
              "      <td>2018</td>\n",
              "      <td>2</td>\n",
              "      <td>28</td>\n",
              "      <td>Online</td>\n",
              "      <td>0</td>\n",
              "      <td>0</td>\n",
              "      <td>0</td>\n",
              "      <td>60.00</td>\n",
              "      <td>0</td>\n",
              "      <td>Canceled</td>\n",
              "    </tr>\n",
              "    <tr>\n",
              "      <th>3</th>\n",
              "      <td>INN00004</td>\n",
              "      <td>2</td>\n",
              "      <td>0</td>\n",
              "      <td>0</td>\n",
              "      <td>2</td>\n",
              "      <td>Meal Plan 1</td>\n",
              "      <td>0</td>\n",
              "      <td>Room_Type 1</td>\n",
              "      <td>211</td>\n",
              "      <td>2018</td>\n",
              "      <td>5</td>\n",
              "      <td>20</td>\n",
              "      <td>Online</td>\n",
              "      <td>0</td>\n",
              "      <td>0</td>\n",
              "      <td>0</td>\n",
              "      <td>100.00</td>\n",
              "      <td>0</td>\n",
              "      <td>Canceled</td>\n",
              "    </tr>\n",
              "    <tr>\n",
              "      <th>4</th>\n",
              "      <td>INN00005</td>\n",
              "      <td>2</td>\n",
              "      <td>0</td>\n",
              "      <td>1</td>\n",
              "      <td>1</td>\n",
              "      <td>Not Selected</td>\n",
              "      <td>0</td>\n",
              "      <td>Room_Type 1</td>\n",
              "      <td>48</td>\n",
              "      <td>2018</td>\n",
              "      <td>4</td>\n",
              "      <td>11</td>\n",
              "      <td>Online</td>\n",
              "      <td>0</td>\n",
              "      <td>0</td>\n",
              "      <td>0</td>\n",
              "      <td>94.50</td>\n",
              "      <td>0</td>\n",
              "      <td>Canceled</td>\n",
              "    </tr>\n",
              "  </tbody>\n",
              "</table>\n",
              "</div>\n",
              "      <button class=\"colab-df-convert\" onclick=\"convertToInteractive('df-d6d44eff-f86b-458a-9623-690e07f66787')\"\n",
              "              title=\"Convert this dataframe to an interactive table.\"\n",
              "              style=\"display:none;\">\n",
              "        \n",
              "  <svg xmlns=\"http://www.w3.org/2000/svg\" height=\"24px\"viewBox=\"0 0 24 24\"\n",
              "       width=\"24px\">\n",
              "    <path d=\"M0 0h24v24H0V0z\" fill=\"none\"/>\n",
              "    <path d=\"M18.56 5.44l.94 2.06.94-2.06 2.06-.94-2.06-.94-.94-2.06-.94 2.06-2.06.94zm-11 1L8.5 8.5l.94-2.06 2.06-.94-2.06-.94L8.5 2.5l-.94 2.06-2.06.94zm10 10l.94 2.06.94-2.06 2.06-.94-2.06-.94-.94-2.06-.94 2.06-2.06.94z\"/><path d=\"M17.41 7.96l-1.37-1.37c-.4-.4-.92-.59-1.43-.59-.52 0-1.04.2-1.43.59L10.3 9.45l-7.72 7.72c-.78.78-.78 2.05 0 2.83L4 21.41c.39.39.9.59 1.41.59.51 0 1.02-.2 1.41-.59l7.78-7.78 2.81-2.81c.8-.78.8-2.07 0-2.86zM5.41 20L4 18.59l7.72-7.72 1.47 1.35L5.41 20z\"/>\n",
              "  </svg>\n",
              "      </button>\n",
              "      \n",
              "  <style>\n",
              "    .colab-df-container {\n",
              "      display:flex;\n",
              "      flex-wrap:wrap;\n",
              "      gap: 12px;\n",
              "    }\n",
              "\n",
              "    .colab-df-convert {\n",
              "      background-color: #E8F0FE;\n",
              "      border: none;\n",
              "      border-radius: 50%;\n",
              "      cursor: pointer;\n",
              "      display: none;\n",
              "      fill: #1967D2;\n",
              "      height: 32px;\n",
              "      padding: 0 0 0 0;\n",
              "      width: 32px;\n",
              "    }\n",
              "\n",
              "    .colab-df-convert:hover {\n",
              "      background-color: #E2EBFA;\n",
              "      box-shadow: 0px 1px 2px rgba(60, 64, 67, 0.3), 0px 1px 3px 1px rgba(60, 64, 67, 0.15);\n",
              "      fill: #174EA6;\n",
              "    }\n",
              "\n",
              "    [theme=dark] .colab-df-convert {\n",
              "      background-color: #3B4455;\n",
              "      fill: #D2E3FC;\n",
              "    }\n",
              "\n",
              "    [theme=dark] .colab-df-convert:hover {\n",
              "      background-color: #434B5C;\n",
              "      box-shadow: 0px 1px 3px 1px rgba(0, 0, 0, 0.15);\n",
              "      filter: drop-shadow(0px 1px 2px rgba(0, 0, 0, 0.3));\n",
              "      fill: #FFFFFF;\n",
              "    }\n",
              "  </style>\n",
              "\n",
              "      <script>\n",
              "        const buttonEl =\n",
              "          document.querySelector('#df-d6d44eff-f86b-458a-9623-690e07f66787 button.colab-df-convert');\n",
              "        buttonEl.style.display =\n",
              "          google.colab.kernel.accessAllowed ? 'block' : 'none';\n",
              "\n",
              "        async function convertToInteractive(key) {\n",
              "          const element = document.querySelector('#df-d6d44eff-f86b-458a-9623-690e07f66787');\n",
              "          const dataTable =\n",
              "            await google.colab.kernel.invokeFunction('convertToInteractive',\n",
              "                                                     [key], {});\n",
              "          if (!dataTable) return;\n",
              "\n",
              "          const docLinkHtml = 'Like what you see? Visit the ' +\n",
              "            '<a target=\"_blank\" href=https://colab.research.google.com/notebooks/data_table.ipynb>data table notebook</a>'\n",
              "            + ' to learn more about interactive tables.';\n",
              "          element.innerHTML = '';\n",
              "          dataTable['output_type'] = 'display_data';\n",
              "          await google.colab.output.renderOutput(dataTable, element);\n",
              "          const docLink = document.createElement('div');\n",
              "          docLink.innerHTML = docLinkHtml;\n",
              "          element.appendChild(docLink);\n",
              "        }\n",
              "      </script>\n",
              "    </div>\n",
              "  </div>\n",
              "  "
            ],
            "text/plain": [
              "  Booking_ID  no_of_adults  ...  no_of_special_requests  booking_status\n",
              "0   INN00001             2  ...                       0    Not_Canceled\n",
              "1   INN00002             2  ...                       1    Not_Canceled\n",
              "2   INN00003             1  ...                       0        Canceled\n",
              "3   INN00004             2  ...                       0        Canceled\n",
              "4   INN00005             2  ...                       0        Canceled\n",
              "\n",
              "[5 rows x 19 columns]"
            ]
          },
          "metadata": {},
          "execution_count": 64
        }
      ],
      "source": [
        "data.head()"
      ],
      "id": "2f476c30"
    },
    {
      "cell_type": "code",
      "execution_count": null,
      "metadata": {
        "colab": {
          "base_uri": "https://localhost:8080/",
          "height": 270
        },
        "id": "17bb7956",
        "outputId": "18252adc-19ca-4ab4-906a-0f9e5c1e46b0"
      },
      "outputs": [
        {
          "output_type": "execute_result",
          "data": {
            "text/html": [
              "\n",
              "  <div id=\"df-955a4b36-28fe-460c-93ed-722cff614c2b\">\n",
              "    <div class=\"colab-df-container\">\n",
              "      <div>\n",
              "<style scoped>\n",
              "    .dataframe tbody tr th:only-of-type {\n",
              "        vertical-align: middle;\n",
              "    }\n",
              "\n",
              "    .dataframe tbody tr th {\n",
              "        vertical-align: top;\n",
              "    }\n",
              "\n",
              "    .dataframe thead th {\n",
              "        text-align: right;\n",
              "    }\n",
              "</style>\n",
              "<table border=\"1\" class=\"dataframe\">\n",
              "  <thead>\n",
              "    <tr style=\"text-align: right;\">\n",
              "      <th></th>\n",
              "      <th>Booking_ID</th>\n",
              "      <th>no_of_adults</th>\n",
              "      <th>no_of_children</th>\n",
              "      <th>no_of_weekend_nights</th>\n",
              "      <th>no_of_week_nights</th>\n",
              "      <th>type_of_meal_plan</th>\n",
              "      <th>required_car_parking_space</th>\n",
              "      <th>room_type_reserved</th>\n",
              "      <th>lead_time</th>\n",
              "      <th>arrival_year</th>\n",
              "      <th>arrival_month</th>\n",
              "      <th>arrival_date</th>\n",
              "      <th>market_segment_type</th>\n",
              "      <th>repeated_guest</th>\n",
              "      <th>no_of_previous_cancellations</th>\n",
              "      <th>no_of_previous_bookings_not_canceled</th>\n",
              "      <th>avg_price_per_room</th>\n",
              "      <th>no_of_special_requests</th>\n",
              "      <th>booking_status</th>\n",
              "    </tr>\n",
              "  </thead>\n",
              "  <tbody>\n",
              "    <tr>\n",
              "      <th>36270</th>\n",
              "      <td>INN36271</td>\n",
              "      <td>3</td>\n",
              "      <td>0</td>\n",
              "      <td>2</td>\n",
              "      <td>6</td>\n",
              "      <td>Meal Plan 1</td>\n",
              "      <td>0</td>\n",
              "      <td>Room_Type 4</td>\n",
              "      <td>85</td>\n",
              "      <td>2018</td>\n",
              "      <td>8</td>\n",
              "      <td>3</td>\n",
              "      <td>Online</td>\n",
              "      <td>0</td>\n",
              "      <td>0</td>\n",
              "      <td>0</td>\n",
              "      <td>167.80</td>\n",
              "      <td>1</td>\n",
              "      <td>Not_Canceled</td>\n",
              "    </tr>\n",
              "    <tr>\n",
              "      <th>36271</th>\n",
              "      <td>INN36272</td>\n",
              "      <td>2</td>\n",
              "      <td>0</td>\n",
              "      <td>1</td>\n",
              "      <td>3</td>\n",
              "      <td>Meal Plan 1</td>\n",
              "      <td>0</td>\n",
              "      <td>Room_Type 1</td>\n",
              "      <td>228</td>\n",
              "      <td>2018</td>\n",
              "      <td>10</td>\n",
              "      <td>17</td>\n",
              "      <td>Online</td>\n",
              "      <td>0</td>\n",
              "      <td>0</td>\n",
              "      <td>0</td>\n",
              "      <td>90.95</td>\n",
              "      <td>2</td>\n",
              "      <td>Canceled</td>\n",
              "    </tr>\n",
              "    <tr>\n",
              "      <th>36272</th>\n",
              "      <td>INN36273</td>\n",
              "      <td>2</td>\n",
              "      <td>0</td>\n",
              "      <td>2</td>\n",
              "      <td>6</td>\n",
              "      <td>Meal Plan 1</td>\n",
              "      <td>0</td>\n",
              "      <td>Room_Type 1</td>\n",
              "      <td>148</td>\n",
              "      <td>2018</td>\n",
              "      <td>7</td>\n",
              "      <td>1</td>\n",
              "      <td>Online</td>\n",
              "      <td>0</td>\n",
              "      <td>0</td>\n",
              "      <td>0</td>\n",
              "      <td>98.39</td>\n",
              "      <td>2</td>\n",
              "      <td>Not_Canceled</td>\n",
              "    </tr>\n",
              "    <tr>\n",
              "      <th>36273</th>\n",
              "      <td>INN36274</td>\n",
              "      <td>2</td>\n",
              "      <td>0</td>\n",
              "      <td>0</td>\n",
              "      <td>3</td>\n",
              "      <td>Not Selected</td>\n",
              "      <td>0</td>\n",
              "      <td>Room_Type 1</td>\n",
              "      <td>63</td>\n",
              "      <td>2018</td>\n",
              "      <td>4</td>\n",
              "      <td>21</td>\n",
              "      <td>Online</td>\n",
              "      <td>0</td>\n",
              "      <td>0</td>\n",
              "      <td>0</td>\n",
              "      <td>94.50</td>\n",
              "      <td>0</td>\n",
              "      <td>Canceled</td>\n",
              "    </tr>\n",
              "    <tr>\n",
              "      <th>36274</th>\n",
              "      <td>INN36275</td>\n",
              "      <td>2</td>\n",
              "      <td>0</td>\n",
              "      <td>1</td>\n",
              "      <td>2</td>\n",
              "      <td>Meal Plan 1</td>\n",
              "      <td>0</td>\n",
              "      <td>Room_Type 1</td>\n",
              "      <td>207</td>\n",
              "      <td>2018</td>\n",
              "      <td>12</td>\n",
              "      <td>30</td>\n",
              "      <td>Offline</td>\n",
              "      <td>0</td>\n",
              "      <td>0</td>\n",
              "      <td>0</td>\n",
              "      <td>161.67</td>\n",
              "      <td>0</td>\n",
              "      <td>Not_Canceled</td>\n",
              "    </tr>\n",
              "  </tbody>\n",
              "</table>\n",
              "</div>\n",
              "      <button class=\"colab-df-convert\" onclick=\"convertToInteractive('df-955a4b36-28fe-460c-93ed-722cff614c2b')\"\n",
              "              title=\"Convert this dataframe to an interactive table.\"\n",
              "              style=\"display:none;\">\n",
              "        \n",
              "  <svg xmlns=\"http://www.w3.org/2000/svg\" height=\"24px\"viewBox=\"0 0 24 24\"\n",
              "       width=\"24px\">\n",
              "    <path d=\"M0 0h24v24H0V0z\" fill=\"none\"/>\n",
              "    <path d=\"M18.56 5.44l.94 2.06.94-2.06 2.06-.94-2.06-.94-.94-2.06-.94 2.06-2.06.94zm-11 1L8.5 8.5l.94-2.06 2.06-.94-2.06-.94L8.5 2.5l-.94 2.06-2.06.94zm10 10l.94 2.06.94-2.06 2.06-.94-2.06-.94-.94-2.06-.94 2.06-2.06.94z\"/><path d=\"M17.41 7.96l-1.37-1.37c-.4-.4-.92-.59-1.43-.59-.52 0-1.04.2-1.43.59L10.3 9.45l-7.72 7.72c-.78.78-.78 2.05 0 2.83L4 21.41c.39.39.9.59 1.41.59.51 0 1.02-.2 1.41-.59l7.78-7.78 2.81-2.81c.8-.78.8-2.07 0-2.86zM5.41 20L4 18.59l7.72-7.72 1.47 1.35L5.41 20z\"/>\n",
              "  </svg>\n",
              "      </button>\n",
              "      \n",
              "  <style>\n",
              "    .colab-df-container {\n",
              "      display:flex;\n",
              "      flex-wrap:wrap;\n",
              "      gap: 12px;\n",
              "    }\n",
              "\n",
              "    .colab-df-convert {\n",
              "      background-color: #E8F0FE;\n",
              "      border: none;\n",
              "      border-radius: 50%;\n",
              "      cursor: pointer;\n",
              "      display: none;\n",
              "      fill: #1967D2;\n",
              "      height: 32px;\n",
              "      padding: 0 0 0 0;\n",
              "      width: 32px;\n",
              "    }\n",
              "\n",
              "    .colab-df-convert:hover {\n",
              "      background-color: #E2EBFA;\n",
              "      box-shadow: 0px 1px 2px rgba(60, 64, 67, 0.3), 0px 1px 3px 1px rgba(60, 64, 67, 0.15);\n",
              "      fill: #174EA6;\n",
              "    }\n",
              "\n",
              "    [theme=dark] .colab-df-convert {\n",
              "      background-color: #3B4455;\n",
              "      fill: #D2E3FC;\n",
              "    }\n",
              "\n",
              "    [theme=dark] .colab-df-convert:hover {\n",
              "      background-color: #434B5C;\n",
              "      box-shadow: 0px 1px 3px 1px rgba(0, 0, 0, 0.15);\n",
              "      filter: drop-shadow(0px 1px 2px rgba(0, 0, 0, 0.3));\n",
              "      fill: #FFFFFF;\n",
              "    }\n",
              "  </style>\n",
              "\n",
              "      <script>\n",
              "        const buttonEl =\n",
              "          document.querySelector('#df-955a4b36-28fe-460c-93ed-722cff614c2b button.colab-df-convert');\n",
              "        buttonEl.style.display =\n",
              "          google.colab.kernel.accessAllowed ? 'block' : 'none';\n",
              "\n",
              "        async function convertToInteractive(key) {\n",
              "          const element = document.querySelector('#df-955a4b36-28fe-460c-93ed-722cff614c2b');\n",
              "          const dataTable =\n",
              "            await google.colab.kernel.invokeFunction('convertToInteractive',\n",
              "                                                     [key], {});\n",
              "          if (!dataTable) return;\n",
              "\n",
              "          const docLinkHtml = 'Like what you see? Visit the ' +\n",
              "            '<a target=\"_blank\" href=https://colab.research.google.com/notebooks/data_table.ipynb>data table notebook</a>'\n",
              "            + ' to learn more about interactive tables.';\n",
              "          element.innerHTML = '';\n",
              "          dataTable['output_type'] = 'display_data';\n",
              "          await google.colab.output.renderOutput(dataTable, element);\n",
              "          const docLink = document.createElement('div');\n",
              "          docLink.innerHTML = docLinkHtml;\n",
              "          element.appendChild(docLink);\n",
              "        }\n",
              "      </script>\n",
              "    </div>\n",
              "  </div>\n",
              "  "
            ],
            "text/plain": [
              "      Booking_ID  no_of_adults  ...  no_of_special_requests  booking_status\n",
              "36270   INN36271             3  ...                       1    Not_Canceled\n",
              "36271   INN36272             2  ...                       2        Canceled\n",
              "36272   INN36273             2  ...                       2    Not_Canceled\n",
              "36273   INN36274             2  ...                       0        Canceled\n",
              "36274   INN36275             2  ...                       0    Not_Canceled\n",
              "\n",
              "[5 rows x 19 columns]"
            ]
          },
          "metadata": {},
          "execution_count": 65
        }
      ],
      "source": [
        "data.tail()"
      ],
      "id": "17bb7956"
    },
    {
      "cell_type": "markdown",
      "metadata": {
        "id": "8295ada7"
      },
      "source": [
        "#### Check the info of the data"
      ],
      "id": "8295ada7"
    },
    {
      "cell_type": "code",
      "execution_count": null,
      "metadata": {
        "colab": {
          "base_uri": "https://localhost:8080/"
        },
        "id": "2b825944",
        "outputId": "02477131-5932-49fb-b57f-bbed22c8c3ef"
      },
      "outputs": [
        {
          "output_type": "stream",
          "name": "stdout",
          "text": [
            "<class 'pandas.core.frame.DataFrame'>\n",
            "RangeIndex: 36275 entries, 0 to 36274\n",
            "Data columns (total 19 columns):\n",
            " #   Column                                Non-Null Count  Dtype  \n",
            "---  ------                                --------------  -----  \n",
            " 0   Booking_ID                            36275 non-null  object \n",
            " 1   no_of_adults                          36275 non-null  int64  \n",
            " 2   no_of_children                        36275 non-null  int64  \n",
            " 3   no_of_weekend_nights                  36275 non-null  int64  \n",
            " 4   no_of_week_nights                     36275 non-null  int64  \n",
            " 5   type_of_meal_plan                     36275 non-null  object \n",
            " 6   required_car_parking_space            36275 non-null  int64  \n",
            " 7   room_type_reserved                    36275 non-null  object \n",
            " 8   lead_time                             36275 non-null  int64  \n",
            " 9   arrival_year                          36275 non-null  int64  \n",
            " 10  arrival_month                         36275 non-null  int64  \n",
            " 11  arrival_date                          36275 non-null  int64  \n",
            " 12  market_segment_type                   36275 non-null  object \n",
            " 13  repeated_guest                        36275 non-null  int64  \n",
            " 14  no_of_previous_cancellations          36275 non-null  int64  \n",
            " 15  no_of_previous_bookings_not_canceled  36275 non-null  int64  \n",
            " 16  avg_price_per_room                    36275 non-null  float64\n",
            " 17  no_of_special_requests                36275 non-null  int64  \n",
            " 18  booking_status                        36275 non-null  object \n",
            "dtypes: float64(1), int64(13), object(5)\n",
            "memory usage: 5.3+ MB\n"
          ]
        }
      ],
      "source": [
        "data.info()"
      ],
      "id": "2b825944"
    },
    {
      "cell_type": "markdown",
      "metadata": {
        "id": "84b2a33c"
      },
      "source": [
        "* The dataset has **36,275 rows and 19 columns**. \n",
        "\n",
        "* `Booking_ID`, `type_of_meal_plan`, `room_type_reserved`, `market_segment_type`, and `booking_status` are of **object type** while rest columns are numeric in nature.\n",
        "\n",
        "* There are **no null values** in the dataset.\n",
        "\n",
        "* **Booking_ID column is an identifier**. Let's check if each entry of the column is unique."
      ],
      "id": "84b2a33c"
    },
    {
      "cell_type": "code",
      "execution_count": null,
      "metadata": {
        "colab": {
          "base_uri": "https://localhost:8080/"
        },
        "id": "5da1cb1c",
        "outputId": "a854bfda-3772-42c6-8491-2cd80ddca5b0"
      },
      "outputs": [
        {
          "output_type": "execute_result",
          "data": {
            "text/plain": [
              "36275"
            ]
          },
          "metadata": {},
          "execution_count": 67
        }
      ],
      "source": [
        "data.Booking_ID.nunique()"
      ],
      "id": "5da1cb1c"
    },
    {
      "cell_type": "markdown",
      "metadata": {
        "id": "5d19aff6"
      },
      "source": [
        "**Observations:**\n",
        "- We can see that **all the entries of this column are unique**. Hence, this column would not add any value to our analysis. \n",
        "- Let's drop this column."
      ],
      "id": "5d19aff6"
    },
    {
      "cell_type": "markdown",
      "metadata": {
        "id": "aab349b7"
      },
      "source": [
        "#### Dropping the Booking_ID column"
      ],
      "id": "aab349b7"
    },
    {
      "cell_type": "code",
      "execution_count": null,
      "metadata": {
        "id": "7fbebc47"
      },
      "outputs": [],
      "source": [
        "data = data.drop([\"Booking_ID\"], axis=1)"
      ],
      "id": "7fbebc47"
    },
    {
      "cell_type": "code",
      "execution_count": null,
      "metadata": {
        "colab": {
          "base_uri": "https://localhost:8080/",
          "height": 270
        },
        "id": "f3d3e8ac",
        "outputId": "d4b82349-746c-476a-f267-11c94b7a09d6"
      },
      "outputs": [
        {
          "output_type": "execute_result",
          "data": {
            "text/html": [
              "\n",
              "  <div id=\"df-95164219-295c-4906-8fb1-12e4d5678bcd\">\n",
              "    <div class=\"colab-df-container\">\n",
              "      <div>\n",
              "<style scoped>\n",
              "    .dataframe tbody tr th:only-of-type {\n",
              "        vertical-align: middle;\n",
              "    }\n",
              "\n",
              "    .dataframe tbody tr th {\n",
              "        vertical-align: top;\n",
              "    }\n",
              "\n",
              "    .dataframe thead th {\n",
              "        text-align: right;\n",
              "    }\n",
              "</style>\n",
              "<table border=\"1\" class=\"dataframe\">\n",
              "  <thead>\n",
              "    <tr style=\"text-align: right;\">\n",
              "      <th></th>\n",
              "      <th>no_of_adults</th>\n",
              "      <th>no_of_children</th>\n",
              "      <th>no_of_weekend_nights</th>\n",
              "      <th>no_of_week_nights</th>\n",
              "      <th>type_of_meal_plan</th>\n",
              "      <th>required_car_parking_space</th>\n",
              "      <th>room_type_reserved</th>\n",
              "      <th>lead_time</th>\n",
              "      <th>arrival_year</th>\n",
              "      <th>arrival_month</th>\n",
              "      <th>arrival_date</th>\n",
              "      <th>market_segment_type</th>\n",
              "      <th>repeated_guest</th>\n",
              "      <th>no_of_previous_cancellations</th>\n",
              "      <th>no_of_previous_bookings_not_canceled</th>\n",
              "      <th>avg_price_per_room</th>\n",
              "      <th>no_of_special_requests</th>\n",
              "      <th>booking_status</th>\n",
              "    </tr>\n",
              "  </thead>\n",
              "  <tbody>\n",
              "    <tr>\n",
              "      <th>0</th>\n",
              "      <td>2</td>\n",
              "      <td>0</td>\n",
              "      <td>1</td>\n",
              "      <td>2</td>\n",
              "      <td>Meal Plan 1</td>\n",
              "      <td>0</td>\n",
              "      <td>Room_Type 1</td>\n",
              "      <td>224</td>\n",
              "      <td>2017</td>\n",
              "      <td>10</td>\n",
              "      <td>2</td>\n",
              "      <td>Offline</td>\n",
              "      <td>0</td>\n",
              "      <td>0</td>\n",
              "      <td>0</td>\n",
              "      <td>65.00</td>\n",
              "      <td>0</td>\n",
              "      <td>Not_Canceled</td>\n",
              "    </tr>\n",
              "    <tr>\n",
              "      <th>1</th>\n",
              "      <td>2</td>\n",
              "      <td>0</td>\n",
              "      <td>2</td>\n",
              "      <td>3</td>\n",
              "      <td>Not Selected</td>\n",
              "      <td>0</td>\n",
              "      <td>Room_Type 1</td>\n",
              "      <td>5</td>\n",
              "      <td>2018</td>\n",
              "      <td>11</td>\n",
              "      <td>6</td>\n",
              "      <td>Online</td>\n",
              "      <td>0</td>\n",
              "      <td>0</td>\n",
              "      <td>0</td>\n",
              "      <td>106.68</td>\n",
              "      <td>1</td>\n",
              "      <td>Not_Canceled</td>\n",
              "    </tr>\n",
              "    <tr>\n",
              "      <th>2</th>\n",
              "      <td>1</td>\n",
              "      <td>0</td>\n",
              "      <td>2</td>\n",
              "      <td>1</td>\n",
              "      <td>Meal Plan 1</td>\n",
              "      <td>0</td>\n",
              "      <td>Room_Type 1</td>\n",
              "      <td>1</td>\n",
              "      <td>2018</td>\n",
              "      <td>2</td>\n",
              "      <td>28</td>\n",
              "      <td>Online</td>\n",
              "      <td>0</td>\n",
              "      <td>0</td>\n",
              "      <td>0</td>\n",
              "      <td>60.00</td>\n",
              "      <td>0</td>\n",
              "      <td>Canceled</td>\n",
              "    </tr>\n",
              "    <tr>\n",
              "      <th>3</th>\n",
              "      <td>2</td>\n",
              "      <td>0</td>\n",
              "      <td>0</td>\n",
              "      <td>2</td>\n",
              "      <td>Meal Plan 1</td>\n",
              "      <td>0</td>\n",
              "      <td>Room_Type 1</td>\n",
              "      <td>211</td>\n",
              "      <td>2018</td>\n",
              "      <td>5</td>\n",
              "      <td>20</td>\n",
              "      <td>Online</td>\n",
              "      <td>0</td>\n",
              "      <td>0</td>\n",
              "      <td>0</td>\n",
              "      <td>100.00</td>\n",
              "      <td>0</td>\n",
              "      <td>Canceled</td>\n",
              "    </tr>\n",
              "    <tr>\n",
              "      <th>4</th>\n",
              "      <td>2</td>\n",
              "      <td>0</td>\n",
              "      <td>1</td>\n",
              "      <td>1</td>\n",
              "      <td>Not Selected</td>\n",
              "      <td>0</td>\n",
              "      <td>Room_Type 1</td>\n",
              "      <td>48</td>\n",
              "      <td>2018</td>\n",
              "      <td>4</td>\n",
              "      <td>11</td>\n",
              "      <td>Online</td>\n",
              "      <td>0</td>\n",
              "      <td>0</td>\n",
              "      <td>0</td>\n",
              "      <td>94.50</td>\n",
              "      <td>0</td>\n",
              "      <td>Canceled</td>\n",
              "    </tr>\n",
              "  </tbody>\n",
              "</table>\n",
              "</div>\n",
              "      <button class=\"colab-df-convert\" onclick=\"convertToInteractive('df-95164219-295c-4906-8fb1-12e4d5678bcd')\"\n",
              "              title=\"Convert this dataframe to an interactive table.\"\n",
              "              style=\"display:none;\">\n",
              "        \n",
              "  <svg xmlns=\"http://www.w3.org/2000/svg\" height=\"24px\"viewBox=\"0 0 24 24\"\n",
              "       width=\"24px\">\n",
              "    <path d=\"M0 0h24v24H0V0z\" fill=\"none\"/>\n",
              "    <path d=\"M18.56 5.44l.94 2.06.94-2.06 2.06-.94-2.06-.94-.94-2.06-.94 2.06-2.06.94zm-11 1L8.5 8.5l.94-2.06 2.06-.94-2.06-.94L8.5 2.5l-.94 2.06-2.06.94zm10 10l.94 2.06.94-2.06 2.06-.94-2.06-.94-.94-2.06-.94 2.06-2.06.94z\"/><path d=\"M17.41 7.96l-1.37-1.37c-.4-.4-.92-.59-1.43-.59-.52 0-1.04.2-1.43.59L10.3 9.45l-7.72 7.72c-.78.78-.78 2.05 0 2.83L4 21.41c.39.39.9.59 1.41.59.51 0 1.02-.2 1.41-.59l7.78-7.78 2.81-2.81c.8-.78.8-2.07 0-2.86zM5.41 20L4 18.59l7.72-7.72 1.47 1.35L5.41 20z\"/>\n",
              "  </svg>\n",
              "      </button>\n",
              "      \n",
              "  <style>\n",
              "    .colab-df-container {\n",
              "      display:flex;\n",
              "      flex-wrap:wrap;\n",
              "      gap: 12px;\n",
              "    }\n",
              "\n",
              "    .colab-df-convert {\n",
              "      background-color: #E8F0FE;\n",
              "      border: none;\n",
              "      border-radius: 50%;\n",
              "      cursor: pointer;\n",
              "      display: none;\n",
              "      fill: #1967D2;\n",
              "      height: 32px;\n",
              "      padding: 0 0 0 0;\n",
              "      width: 32px;\n",
              "    }\n",
              "\n",
              "    .colab-df-convert:hover {\n",
              "      background-color: #E2EBFA;\n",
              "      box-shadow: 0px 1px 2px rgba(60, 64, 67, 0.3), 0px 1px 3px 1px rgba(60, 64, 67, 0.15);\n",
              "      fill: #174EA6;\n",
              "    }\n",
              "\n",
              "    [theme=dark] .colab-df-convert {\n",
              "      background-color: #3B4455;\n",
              "      fill: #D2E3FC;\n",
              "    }\n",
              "\n",
              "    [theme=dark] .colab-df-convert:hover {\n",
              "      background-color: #434B5C;\n",
              "      box-shadow: 0px 1px 3px 1px rgba(0, 0, 0, 0.15);\n",
              "      filter: drop-shadow(0px 1px 2px rgba(0, 0, 0, 0.3));\n",
              "      fill: #FFFFFF;\n",
              "    }\n",
              "  </style>\n",
              "\n",
              "      <script>\n",
              "        const buttonEl =\n",
              "          document.querySelector('#df-95164219-295c-4906-8fb1-12e4d5678bcd button.colab-df-convert');\n",
              "        buttonEl.style.display =\n",
              "          google.colab.kernel.accessAllowed ? 'block' : 'none';\n",
              "\n",
              "        async function convertToInteractive(key) {\n",
              "          const element = document.querySelector('#df-95164219-295c-4906-8fb1-12e4d5678bcd');\n",
              "          const dataTable =\n",
              "            await google.colab.kernel.invokeFunction('convertToInteractive',\n",
              "                                                     [key], {});\n",
              "          if (!dataTable) return;\n",
              "\n",
              "          const docLinkHtml = 'Like what you see? Visit the ' +\n",
              "            '<a target=\"_blank\" href=https://colab.research.google.com/notebooks/data_table.ipynb>data table notebook</a>'\n",
              "            + ' to learn more about interactive tables.';\n",
              "          element.innerHTML = '';\n",
              "          dataTable['output_type'] = 'display_data';\n",
              "          await google.colab.output.renderOutput(dataTable, element);\n",
              "          const docLink = document.createElement('div');\n",
              "          docLink.innerHTML = docLinkHtml;\n",
              "          element.appendChild(docLink);\n",
              "        }\n",
              "      </script>\n",
              "    </div>\n",
              "  </div>\n",
              "  "
            ],
            "text/plain": [
              "   no_of_adults  no_of_children  ...  no_of_special_requests  booking_status\n",
              "0             2               0  ...                       0    Not_Canceled\n",
              "1             2               0  ...                       1    Not_Canceled\n",
              "2             1               0  ...                       0        Canceled\n",
              "3             2               0  ...                       0        Canceled\n",
              "4             2               0  ...                       0        Canceled\n",
              "\n",
              "[5 rows x 18 columns]"
            ]
          },
          "metadata": {},
          "execution_count": 69
        }
      ],
      "source": [
        "data.head()"
      ],
      "id": "f3d3e8ac"
    },
    {
      "cell_type": "markdown",
      "metadata": {
        "id": "be464dfc"
      },
      "source": [
        "## Exploratory Data Analysis"
      ],
      "id": "be464dfc"
    },
    {
      "cell_type": "markdown",
      "metadata": {
        "id": "5d45f3b1"
      },
      "source": [
        "#### Summary Statistics for numerical columns"
      ],
      "id": "5d45f3b1"
    },
    {
      "cell_type": "markdown",
      "metadata": {
        "id": "02be105c"
      },
      "source": [
        "#### Question 1: Write the observations from the below summary statistics (2 Marks)"
      ],
      "id": "02be105c"
    },
    {
      "cell_type": "code",
      "execution_count": null,
      "metadata": {
        "colab": {
          "base_uri": "https://localhost:8080/",
          "height": 552
        },
        "id": "ee7284ed",
        "outputId": "611a586c-7e4c-4d94-e483-b237bcb63861"
      },
      "outputs": [
        {
          "output_type": "execute_result",
          "data": {
            "text/html": [
              "\n",
              "  <div id=\"df-f92a10ff-970a-4ebb-99b9-7cc8ca65ee38\">\n",
              "    <div class=\"colab-df-container\">\n",
              "      <div>\n",
              "<style scoped>\n",
              "    .dataframe tbody tr th:only-of-type {\n",
              "        vertical-align: middle;\n",
              "    }\n",
              "\n",
              "    .dataframe tbody tr th {\n",
              "        vertical-align: top;\n",
              "    }\n",
              "\n",
              "    .dataframe thead th {\n",
              "        text-align: right;\n",
              "    }\n",
              "</style>\n",
              "<table border=\"1\" class=\"dataframe\">\n",
              "  <thead>\n",
              "    <tr style=\"text-align: right;\">\n",
              "      <th></th>\n",
              "      <th>count</th>\n",
              "      <th>mean</th>\n",
              "      <th>std</th>\n",
              "      <th>min</th>\n",
              "      <th>25%</th>\n",
              "      <th>50%</th>\n",
              "      <th>75%</th>\n",
              "      <th>max</th>\n",
              "    </tr>\n",
              "  </thead>\n",
              "  <tbody>\n",
              "    <tr>\n",
              "      <th>no_of_adults</th>\n",
              "      <td>36275.0</td>\n",
              "      <td>1.844962</td>\n",
              "      <td>0.518715</td>\n",
              "      <td>0.0</td>\n",
              "      <td>2.0</td>\n",
              "      <td>2.00</td>\n",
              "      <td>2.0</td>\n",
              "      <td>4.0</td>\n",
              "    </tr>\n",
              "    <tr>\n",
              "      <th>no_of_children</th>\n",
              "      <td>36275.0</td>\n",
              "      <td>0.105279</td>\n",
              "      <td>0.402648</td>\n",
              "      <td>0.0</td>\n",
              "      <td>0.0</td>\n",
              "      <td>0.00</td>\n",
              "      <td>0.0</td>\n",
              "      <td>10.0</td>\n",
              "    </tr>\n",
              "    <tr>\n",
              "      <th>no_of_weekend_nights</th>\n",
              "      <td>36275.0</td>\n",
              "      <td>0.810724</td>\n",
              "      <td>0.870644</td>\n",
              "      <td>0.0</td>\n",
              "      <td>0.0</td>\n",
              "      <td>1.00</td>\n",
              "      <td>2.0</td>\n",
              "      <td>7.0</td>\n",
              "    </tr>\n",
              "    <tr>\n",
              "      <th>no_of_week_nights</th>\n",
              "      <td>36275.0</td>\n",
              "      <td>2.204300</td>\n",
              "      <td>1.410905</td>\n",
              "      <td>0.0</td>\n",
              "      <td>1.0</td>\n",
              "      <td>2.00</td>\n",
              "      <td>3.0</td>\n",
              "      <td>17.0</td>\n",
              "    </tr>\n",
              "    <tr>\n",
              "      <th>required_car_parking_space</th>\n",
              "      <td>36275.0</td>\n",
              "      <td>0.030986</td>\n",
              "      <td>0.173281</td>\n",
              "      <td>0.0</td>\n",
              "      <td>0.0</td>\n",
              "      <td>0.00</td>\n",
              "      <td>0.0</td>\n",
              "      <td>1.0</td>\n",
              "    </tr>\n",
              "    <tr>\n",
              "      <th>lead_time</th>\n",
              "      <td>36275.0</td>\n",
              "      <td>85.232557</td>\n",
              "      <td>85.930817</td>\n",
              "      <td>0.0</td>\n",
              "      <td>17.0</td>\n",
              "      <td>57.00</td>\n",
              "      <td>126.0</td>\n",
              "      <td>443.0</td>\n",
              "    </tr>\n",
              "    <tr>\n",
              "      <th>arrival_year</th>\n",
              "      <td>36275.0</td>\n",
              "      <td>2017.820427</td>\n",
              "      <td>0.383836</td>\n",
              "      <td>2017.0</td>\n",
              "      <td>2018.0</td>\n",
              "      <td>2018.00</td>\n",
              "      <td>2018.0</td>\n",
              "      <td>2018.0</td>\n",
              "    </tr>\n",
              "    <tr>\n",
              "      <th>arrival_month</th>\n",
              "      <td>36275.0</td>\n",
              "      <td>7.423653</td>\n",
              "      <td>3.069894</td>\n",
              "      <td>1.0</td>\n",
              "      <td>5.0</td>\n",
              "      <td>8.00</td>\n",
              "      <td>10.0</td>\n",
              "      <td>12.0</td>\n",
              "    </tr>\n",
              "    <tr>\n",
              "      <th>arrival_date</th>\n",
              "      <td>36275.0</td>\n",
              "      <td>15.596995</td>\n",
              "      <td>8.740447</td>\n",
              "      <td>1.0</td>\n",
              "      <td>8.0</td>\n",
              "      <td>16.00</td>\n",
              "      <td>23.0</td>\n",
              "      <td>31.0</td>\n",
              "    </tr>\n",
              "    <tr>\n",
              "      <th>repeated_guest</th>\n",
              "      <td>36275.0</td>\n",
              "      <td>0.025637</td>\n",
              "      <td>0.158053</td>\n",
              "      <td>0.0</td>\n",
              "      <td>0.0</td>\n",
              "      <td>0.00</td>\n",
              "      <td>0.0</td>\n",
              "      <td>1.0</td>\n",
              "    </tr>\n",
              "    <tr>\n",
              "      <th>no_of_previous_cancellations</th>\n",
              "      <td>36275.0</td>\n",
              "      <td>0.023349</td>\n",
              "      <td>0.368331</td>\n",
              "      <td>0.0</td>\n",
              "      <td>0.0</td>\n",
              "      <td>0.00</td>\n",
              "      <td>0.0</td>\n",
              "      <td>13.0</td>\n",
              "    </tr>\n",
              "    <tr>\n",
              "      <th>no_of_previous_bookings_not_canceled</th>\n",
              "      <td>36275.0</td>\n",
              "      <td>0.153411</td>\n",
              "      <td>1.754171</td>\n",
              "      <td>0.0</td>\n",
              "      <td>0.0</td>\n",
              "      <td>0.00</td>\n",
              "      <td>0.0</td>\n",
              "      <td>58.0</td>\n",
              "    </tr>\n",
              "    <tr>\n",
              "      <th>avg_price_per_room</th>\n",
              "      <td>36275.0</td>\n",
              "      <td>103.423539</td>\n",
              "      <td>35.089424</td>\n",
              "      <td>0.0</td>\n",
              "      <td>80.3</td>\n",
              "      <td>99.45</td>\n",
              "      <td>120.0</td>\n",
              "      <td>540.0</td>\n",
              "    </tr>\n",
              "    <tr>\n",
              "      <th>no_of_special_requests</th>\n",
              "      <td>36275.0</td>\n",
              "      <td>0.619655</td>\n",
              "      <td>0.786236</td>\n",
              "      <td>0.0</td>\n",
              "      <td>0.0</td>\n",
              "      <td>0.00</td>\n",
              "      <td>1.0</td>\n",
              "      <td>5.0</td>\n",
              "    </tr>\n",
              "  </tbody>\n",
              "</table>\n",
              "</div>\n",
              "      <button class=\"colab-df-convert\" onclick=\"convertToInteractive('df-f92a10ff-970a-4ebb-99b9-7cc8ca65ee38')\"\n",
              "              title=\"Convert this dataframe to an interactive table.\"\n",
              "              style=\"display:none;\">\n",
              "        \n",
              "  <svg xmlns=\"http://www.w3.org/2000/svg\" height=\"24px\"viewBox=\"0 0 24 24\"\n",
              "       width=\"24px\">\n",
              "    <path d=\"M0 0h24v24H0V0z\" fill=\"none\"/>\n",
              "    <path d=\"M18.56 5.44l.94 2.06.94-2.06 2.06-.94-2.06-.94-.94-2.06-.94 2.06-2.06.94zm-11 1L8.5 8.5l.94-2.06 2.06-.94-2.06-.94L8.5 2.5l-.94 2.06-2.06.94zm10 10l.94 2.06.94-2.06 2.06-.94-2.06-.94-.94-2.06-.94 2.06-2.06.94z\"/><path d=\"M17.41 7.96l-1.37-1.37c-.4-.4-.92-.59-1.43-.59-.52 0-1.04.2-1.43.59L10.3 9.45l-7.72 7.72c-.78.78-.78 2.05 0 2.83L4 21.41c.39.39.9.59 1.41.59.51 0 1.02-.2 1.41-.59l7.78-7.78 2.81-2.81c.8-.78.8-2.07 0-2.86zM5.41 20L4 18.59l7.72-7.72 1.47 1.35L5.41 20z\"/>\n",
              "  </svg>\n",
              "      </button>\n",
              "      \n",
              "  <style>\n",
              "    .colab-df-container {\n",
              "      display:flex;\n",
              "      flex-wrap:wrap;\n",
              "      gap: 12px;\n",
              "    }\n",
              "\n",
              "    .colab-df-convert {\n",
              "      background-color: #E8F0FE;\n",
              "      border: none;\n",
              "      border-radius: 50%;\n",
              "      cursor: pointer;\n",
              "      display: none;\n",
              "      fill: #1967D2;\n",
              "      height: 32px;\n",
              "      padding: 0 0 0 0;\n",
              "      width: 32px;\n",
              "    }\n",
              "\n",
              "    .colab-df-convert:hover {\n",
              "      background-color: #E2EBFA;\n",
              "      box-shadow: 0px 1px 2px rgba(60, 64, 67, 0.3), 0px 1px 3px 1px rgba(60, 64, 67, 0.15);\n",
              "      fill: #174EA6;\n",
              "    }\n",
              "\n",
              "    [theme=dark] .colab-df-convert {\n",
              "      background-color: #3B4455;\n",
              "      fill: #D2E3FC;\n",
              "    }\n",
              "\n",
              "    [theme=dark] .colab-df-convert:hover {\n",
              "      background-color: #434B5C;\n",
              "      box-shadow: 0px 1px 3px 1px rgba(0, 0, 0, 0.15);\n",
              "      filter: drop-shadow(0px 1px 2px rgba(0, 0, 0, 0.3));\n",
              "      fill: #FFFFFF;\n",
              "    }\n",
              "  </style>\n",
              "\n",
              "      <script>\n",
              "        const buttonEl =\n",
              "          document.querySelector('#df-f92a10ff-970a-4ebb-99b9-7cc8ca65ee38 button.colab-df-convert');\n",
              "        buttonEl.style.display =\n",
              "          google.colab.kernel.accessAllowed ? 'block' : 'none';\n",
              "\n",
              "        async function convertToInteractive(key) {\n",
              "          const element = document.querySelector('#df-f92a10ff-970a-4ebb-99b9-7cc8ca65ee38');\n",
              "          const dataTable =\n",
              "            await google.colab.kernel.invokeFunction('convertToInteractive',\n",
              "                                                     [key], {});\n",
              "          if (!dataTable) return;\n",
              "\n",
              "          const docLinkHtml = 'Like what you see? Visit the ' +\n",
              "            '<a target=\"_blank\" href=https://colab.research.google.com/notebooks/data_table.ipynb>data table notebook</a>'\n",
              "            + ' to learn more about interactive tables.';\n",
              "          element.innerHTML = '';\n",
              "          dataTable['output_type'] = 'display_data';\n",
              "          await google.colab.output.renderOutput(dataTable, element);\n",
              "          const docLink = document.createElement('div');\n",
              "          docLink.innerHTML = docLinkHtml;\n",
              "          element.appendChild(docLink);\n",
              "        }\n",
              "      </script>\n",
              "    </div>\n",
              "  </div>\n",
              "  "
            ],
            "text/plain": [
              "                                        count         mean  ...     75%     max\n",
              "no_of_adults                          36275.0     1.844962  ...     2.0     4.0\n",
              "no_of_children                        36275.0     0.105279  ...     0.0    10.0\n",
              "no_of_weekend_nights                  36275.0     0.810724  ...     2.0     7.0\n",
              "no_of_week_nights                     36275.0     2.204300  ...     3.0    17.0\n",
              "required_car_parking_space            36275.0     0.030986  ...     0.0     1.0\n",
              "lead_time                             36275.0    85.232557  ...   126.0   443.0\n",
              "arrival_year                          36275.0  2017.820427  ...  2018.0  2018.0\n",
              "arrival_month                         36275.0     7.423653  ...    10.0    12.0\n",
              "arrival_date                          36275.0    15.596995  ...    23.0    31.0\n",
              "repeated_guest                        36275.0     0.025637  ...     0.0     1.0\n",
              "no_of_previous_cancellations          36275.0     0.023349  ...     0.0    13.0\n",
              "no_of_previous_bookings_not_canceled  36275.0     0.153411  ...     0.0    58.0\n",
              "avg_price_per_room                    36275.0   103.423539  ...   120.0   540.0\n",
              "no_of_special_requests                36275.0     0.619655  ...     1.0     5.0\n",
              "\n",
              "[14 rows x 8 columns]"
            ]
          },
          "metadata": {},
          "execution_count": 70
        }
      ],
      "source": [
        "#Selecting numerical columns and checking summary statistics\n",
        "num_cols = data.select_dtypes('number').columns\n",
        "\n",
        "data[num_cols].describe().T"
      ],
      "id": "ee7284ed"
    },
    {
      "cell_type": "markdown",
      "metadata": {
        "id": "29b8e6e1"
      },
      "source": [
        "**Observations:**\n",
        "- No_of_children is likely right skewed since it looks like even up to the 75th percentile has 0 children\n",
        "- Repeated_guest and required_car_parking_spaces look to only have the values 0 and 1 with most values being 0\n",
        "- A lot of the variables seem to be right skewed given the fact that so many have a median value of 0"
      ],
      "id": "29b8e6e1"
    },
    {
      "cell_type": "code",
      "execution_count": null,
      "metadata": {
        "colab": {
          "base_uri": "https://localhost:8080/",
          "height": 487
        },
        "id": "3689fe31",
        "outputId": "ae4fbf04-e992-4733-a84d-f7889b3db641"
      },
      "outputs": [
        {
          "output_type": "execute_result",
          "data": {
            "text/html": [
              "\n",
              "  <div id=\"df-6b33fa96-0f31-4ce1-b4f1-bc55196eca7e\">\n",
              "    <div class=\"colab-df-container\">\n",
              "      <div>\n",
              "<style scoped>\n",
              "    .dataframe tbody tr th:only-of-type {\n",
              "        vertical-align: middle;\n",
              "    }\n",
              "\n",
              "    .dataframe tbody tr th {\n",
              "        vertical-align: top;\n",
              "    }\n",
              "\n",
              "    .dataframe thead th {\n",
              "        text-align: right;\n",
              "    }\n",
              "</style>\n",
              "<table border=\"1\" class=\"dataframe\">\n",
              "  <thead>\n",
              "    <tr style=\"text-align: right;\">\n",
              "      <th></th>\n",
              "      <th>no_of_adults</th>\n",
              "      <th>no_of_children</th>\n",
              "      <th>no_of_weekend_nights</th>\n",
              "      <th>no_of_week_nights</th>\n",
              "      <th>type_of_meal_plan</th>\n",
              "      <th>required_car_parking_space</th>\n",
              "      <th>room_type_reserved</th>\n",
              "      <th>lead_time</th>\n",
              "      <th>arrival_year</th>\n",
              "      <th>arrival_month</th>\n",
              "      <th>arrival_date</th>\n",
              "      <th>market_segment_type</th>\n",
              "      <th>repeated_guest</th>\n",
              "      <th>no_of_previous_cancellations</th>\n",
              "      <th>no_of_previous_bookings_not_canceled</th>\n",
              "      <th>avg_price_per_room</th>\n",
              "      <th>no_of_special_requests</th>\n",
              "      <th>booking_status</th>\n",
              "    </tr>\n",
              "  </thead>\n",
              "  <tbody>\n",
              "    <tr>\n",
              "      <th>63</th>\n",
              "      <td>1</td>\n",
              "      <td>0</td>\n",
              "      <td>0</td>\n",
              "      <td>1</td>\n",
              "      <td>Meal Plan 1</td>\n",
              "      <td>0</td>\n",
              "      <td>Room_Type 1</td>\n",
              "      <td>2</td>\n",
              "      <td>2017</td>\n",
              "      <td>9</td>\n",
              "      <td>10</td>\n",
              "      <td>Complementary</td>\n",
              "      <td>0</td>\n",
              "      <td>0</td>\n",
              "      <td>0</td>\n",
              "      <td>0.0</td>\n",
              "      <td>1</td>\n",
              "      <td>Not_Canceled</td>\n",
              "    </tr>\n",
              "    <tr>\n",
              "      <th>145</th>\n",
              "      <td>1</td>\n",
              "      <td>0</td>\n",
              "      <td>0</td>\n",
              "      <td>2</td>\n",
              "      <td>Meal Plan 1</td>\n",
              "      <td>0</td>\n",
              "      <td>Room_Type 1</td>\n",
              "      <td>13</td>\n",
              "      <td>2018</td>\n",
              "      <td>6</td>\n",
              "      <td>1</td>\n",
              "      <td>Complementary</td>\n",
              "      <td>1</td>\n",
              "      <td>3</td>\n",
              "      <td>5</td>\n",
              "      <td>0.0</td>\n",
              "      <td>1</td>\n",
              "      <td>Not_Canceled</td>\n",
              "    </tr>\n",
              "    <tr>\n",
              "      <th>209</th>\n",
              "      <td>1</td>\n",
              "      <td>0</td>\n",
              "      <td>0</td>\n",
              "      <td>0</td>\n",
              "      <td>Meal Plan 1</td>\n",
              "      <td>0</td>\n",
              "      <td>Room_Type 1</td>\n",
              "      <td>4</td>\n",
              "      <td>2018</td>\n",
              "      <td>2</td>\n",
              "      <td>27</td>\n",
              "      <td>Complementary</td>\n",
              "      <td>0</td>\n",
              "      <td>0</td>\n",
              "      <td>0</td>\n",
              "      <td>0.0</td>\n",
              "      <td>1</td>\n",
              "      <td>Not_Canceled</td>\n",
              "    </tr>\n",
              "    <tr>\n",
              "      <th>266</th>\n",
              "      <td>1</td>\n",
              "      <td>0</td>\n",
              "      <td>0</td>\n",
              "      <td>2</td>\n",
              "      <td>Meal Plan 1</td>\n",
              "      <td>0</td>\n",
              "      <td>Room_Type 1</td>\n",
              "      <td>1</td>\n",
              "      <td>2017</td>\n",
              "      <td>8</td>\n",
              "      <td>12</td>\n",
              "      <td>Complementary</td>\n",
              "      <td>1</td>\n",
              "      <td>0</td>\n",
              "      <td>1</td>\n",
              "      <td>0.0</td>\n",
              "      <td>1</td>\n",
              "      <td>Not_Canceled</td>\n",
              "    </tr>\n",
              "    <tr>\n",
              "      <th>267</th>\n",
              "      <td>1</td>\n",
              "      <td>0</td>\n",
              "      <td>2</td>\n",
              "      <td>1</td>\n",
              "      <td>Meal Plan 1</td>\n",
              "      <td>0</td>\n",
              "      <td>Room_Type 1</td>\n",
              "      <td>4</td>\n",
              "      <td>2017</td>\n",
              "      <td>8</td>\n",
              "      <td>23</td>\n",
              "      <td>Complementary</td>\n",
              "      <td>0</td>\n",
              "      <td>0</td>\n",
              "      <td>0</td>\n",
              "      <td>0.0</td>\n",
              "      <td>1</td>\n",
              "      <td>Not_Canceled</td>\n",
              "    </tr>\n",
              "    <tr>\n",
              "      <th>...</th>\n",
              "      <td>...</td>\n",
              "      <td>...</td>\n",
              "      <td>...</td>\n",
              "      <td>...</td>\n",
              "      <td>...</td>\n",
              "      <td>...</td>\n",
              "      <td>...</td>\n",
              "      <td>...</td>\n",
              "      <td>...</td>\n",
              "      <td>...</td>\n",
              "      <td>...</td>\n",
              "      <td>...</td>\n",
              "      <td>...</td>\n",
              "      <td>...</td>\n",
              "      <td>...</td>\n",
              "      <td>...</td>\n",
              "      <td>...</td>\n",
              "      <td>...</td>\n",
              "    </tr>\n",
              "    <tr>\n",
              "      <th>35983</th>\n",
              "      <td>1</td>\n",
              "      <td>0</td>\n",
              "      <td>0</td>\n",
              "      <td>1</td>\n",
              "      <td>Meal Plan 1</td>\n",
              "      <td>0</td>\n",
              "      <td>Room_Type 7</td>\n",
              "      <td>0</td>\n",
              "      <td>2018</td>\n",
              "      <td>6</td>\n",
              "      <td>7</td>\n",
              "      <td>Complementary</td>\n",
              "      <td>1</td>\n",
              "      <td>4</td>\n",
              "      <td>17</td>\n",
              "      <td>0.0</td>\n",
              "      <td>1</td>\n",
              "      <td>Not_Canceled</td>\n",
              "    </tr>\n",
              "    <tr>\n",
              "      <th>36080</th>\n",
              "      <td>1</td>\n",
              "      <td>0</td>\n",
              "      <td>1</td>\n",
              "      <td>1</td>\n",
              "      <td>Meal Plan 1</td>\n",
              "      <td>0</td>\n",
              "      <td>Room_Type 7</td>\n",
              "      <td>0</td>\n",
              "      <td>2018</td>\n",
              "      <td>3</td>\n",
              "      <td>21</td>\n",
              "      <td>Complementary</td>\n",
              "      <td>1</td>\n",
              "      <td>3</td>\n",
              "      <td>15</td>\n",
              "      <td>0.0</td>\n",
              "      <td>1</td>\n",
              "      <td>Not_Canceled</td>\n",
              "    </tr>\n",
              "    <tr>\n",
              "      <th>36114</th>\n",
              "      <td>1</td>\n",
              "      <td>0</td>\n",
              "      <td>0</td>\n",
              "      <td>1</td>\n",
              "      <td>Meal Plan 1</td>\n",
              "      <td>0</td>\n",
              "      <td>Room_Type 1</td>\n",
              "      <td>1</td>\n",
              "      <td>2018</td>\n",
              "      <td>3</td>\n",
              "      <td>2</td>\n",
              "      <td>Online</td>\n",
              "      <td>0</td>\n",
              "      <td>0</td>\n",
              "      <td>0</td>\n",
              "      <td>0.0</td>\n",
              "      <td>0</td>\n",
              "      <td>Not_Canceled</td>\n",
              "    </tr>\n",
              "    <tr>\n",
              "      <th>36217</th>\n",
              "      <td>2</td>\n",
              "      <td>0</td>\n",
              "      <td>2</td>\n",
              "      <td>1</td>\n",
              "      <td>Meal Plan 1</td>\n",
              "      <td>0</td>\n",
              "      <td>Room_Type 2</td>\n",
              "      <td>3</td>\n",
              "      <td>2017</td>\n",
              "      <td>8</td>\n",
              "      <td>9</td>\n",
              "      <td>Online</td>\n",
              "      <td>0</td>\n",
              "      <td>0</td>\n",
              "      <td>0</td>\n",
              "      <td>0.0</td>\n",
              "      <td>2</td>\n",
              "      <td>Not_Canceled</td>\n",
              "    </tr>\n",
              "    <tr>\n",
              "      <th>36250</th>\n",
              "      <td>1</td>\n",
              "      <td>0</td>\n",
              "      <td>0</td>\n",
              "      <td>2</td>\n",
              "      <td>Meal Plan 2</td>\n",
              "      <td>0</td>\n",
              "      <td>Room_Type 1</td>\n",
              "      <td>6</td>\n",
              "      <td>2017</td>\n",
              "      <td>12</td>\n",
              "      <td>10</td>\n",
              "      <td>Online</td>\n",
              "      <td>0</td>\n",
              "      <td>0</td>\n",
              "      <td>0</td>\n",
              "      <td>0.0</td>\n",
              "      <td>0</td>\n",
              "      <td>Not_Canceled</td>\n",
              "    </tr>\n",
              "  </tbody>\n",
              "</table>\n",
              "<p>545 rows × 18 columns</p>\n",
              "</div>\n",
              "      <button class=\"colab-df-convert\" onclick=\"convertToInteractive('df-6b33fa96-0f31-4ce1-b4f1-bc55196eca7e')\"\n",
              "              title=\"Convert this dataframe to an interactive table.\"\n",
              "              style=\"display:none;\">\n",
              "        \n",
              "  <svg xmlns=\"http://www.w3.org/2000/svg\" height=\"24px\"viewBox=\"0 0 24 24\"\n",
              "       width=\"24px\">\n",
              "    <path d=\"M0 0h24v24H0V0z\" fill=\"none\"/>\n",
              "    <path d=\"M18.56 5.44l.94 2.06.94-2.06 2.06-.94-2.06-.94-.94-2.06-.94 2.06-2.06.94zm-11 1L8.5 8.5l.94-2.06 2.06-.94-2.06-.94L8.5 2.5l-.94 2.06-2.06.94zm10 10l.94 2.06.94-2.06 2.06-.94-2.06-.94-.94-2.06-.94 2.06-2.06.94z\"/><path d=\"M17.41 7.96l-1.37-1.37c-.4-.4-.92-.59-1.43-.59-.52 0-1.04.2-1.43.59L10.3 9.45l-7.72 7.72c-.78.78-.78 2.05 0 2.83L4 21.41c.39.39.9.59 1.41.59.51 0 1.02-.2 1.41-.59l7.78-7.78 2.81-2.81c.8-.78.8-2.07 0-2.86zM5.41 20L4 18.59l7.72-7.72 1.47 1.35L5.41 20z\"/>\n",
              "  </svg>\n",
              "      </button>\n",
              "      \n",
              "  <style>\n",
              "    .colab-df-container {\n",
              "      display:flex;\n",
              "      flex-wrap:wrap;\n",
              "      gap: 12px;\n",
              "    }\n",
              "\n",
              "    .colab-df-convert {\n",
              "      background-color: #E8F0FE;\n",
              "      border: none;\n",
              "      border-radius: 50%;\n",
              "      cursor: pointer;\n",
              "      display: none;\n",
              "      fill: #1967D2;\n",
              "      height: 32px;\n",
              "      padding: 0 0 0 0;\n",
              "      width: 32px;\n",
              "    }\n",
              "\n",
              "    .colab-df-convert:hover {\n",
              "      background-color: #E2EBFA;\n",
              "      box-shadow: 0px 1px 2px rgba(60, 64, 67, 0.3), 0px 1px 3px 1px rgba(60, 64, 67, 0.15);\n",
              "      fill: #174EA6;\n",
              "    }\n",
              "\n",
              "    [theme=dark] .colab-df-convert {\n",
              "      background-color: #3B4455;\n",
              "      fill: #D2E3FC;\n",
              "    }\n",
              "\n",
              "    [theme=dark] .colab-df-convert:hover {\n",
              "      background-color: #434B5C;\n",
              "      box-shadow: 0px 1px 3px 1px rgba(0, 0, 0, 0.15);\n",
              "      filter: drop-shadow(0px 1px 2px rgba(0, 0, 0, 0.3));\n",
              "      fill: #FFFFFF;\n",
              "    }\n",
              "  </style>\n",
              "\n",
              "      <script>\n",
              "        const buttonEl =\n",
              "          document.querySelector('#df-6b33fa96-0f31-4ce1-b4f1-bc55196eca7e button.colab-df-convert');\n",
              "        buttonEl.style.display =\n",
              "          google.colab.kernel.accessAllowed ? 'block' : 'none';\n",
              "\n",
              "        async function convertToInteractive(key) {\n",
              "          const element = document.querySelector('#df-6b33fa96-0f31-4ce1-b4f1-bc55196eca7e');\n",
              "          const dataTable =\n",
              "            await google.colab.kernel.invokeFunction('convertToInteractive',\n",
              "                                                     [key], {});\n",
              "          if (!dataTable) return;\n",
              "\n",
              "          const docLinkHtml = 'Like what you see? Visit the ' +\n",
              "            '<a target=\"_blank\" href=https://colab.research.google.com/notebooks/data_table.ipynb>data table notebook</a>'\n",
              "            + ' to learn more about interactive tables.';\n",
              "          element.innerHTML = '';\n",
              "          dataTable['output_type'] = 'display_data';\n",
              "          await google.colab.output.renderOutput(dataTable, element);\n",
              "          const docLink = document.createElement('div');\n",
              "          docLink.innerHTML = docLinkHtml;\n",
              "          element.appendChild(docLink);\n",
              "        }\n",
              "      </script>\n",
              "    </div>\n",
              "  </div>\n",
              "  "
            ],
            "text/plain": [
              "       no_of_adults  no_of_children  ...  no_of_special_requests  booking_status\n",
              "63                1               0  ...                       1    Not_Canceled\n",
              "145               1               0  ...                       1    Not_Canceled\n",
              "209               1               0  ...                       1    Not_Canceled\n",
              "266               1               0  ...                       1    Not_Canceled\n",
              "267               1               0  ...                       1    Not_Canceled\n",
              "...             ...             ...  ...                     ...             ...\n",
              "35983             1               0  ...                       1    Not_Canceled\n",
              "36080             1               0  ...                       1    Not_Canceled\n",
              "36114             1               0  ...                       0    Not_Canceled\n",
              "36217             2               0  ...                       2    Not_Canceled\n",
              "36250             1               0  ...                       0    Not_Canceled\n",
              "\n",
              "[545 rows x 18 columns]"
            ]
          },
          "metadata": {},
          "execution_count": 71
        }
      ],
      "source": [
        "#Checking the rows where avg_price_per_room is 0\n",
        "data[data[\"avg_price_per_room\"] == 0]"
      ],
      "id": "3689fe31"
    },
    {
      "cell_type": "markdown",
      "metadata": {
        "id": "82ca5e78"
      },
      "source": [
        "- In the market segment column, it looks like **many values are complementary**. Let's check the market segment where the room prices are equal to 0."
      ],
      "id": "82ca5e78"
    },
    {
      "cell_type": "code",
      "execution_count": null,
      "metadata": {
        "colab": {
          "base_uri": "https://localhost:8080/"
        },
        "id": "ebd622c6",
        "outputId": "0f371987-c5ae-4146-8f17-0ec655daded3"
      },
      "outputs": [
        {
          "output_type": "execute_result",
          "data": {
            "text/plain": [
              "Complementary    354\n",
              "Online           191\n",
              "Name: market_segment_type, dtype: int64"
            ]
          },
          "metadata": {},
          "execution_count": 72
        }
      ],
      "source": [
        "data.loc[data[\"avg_price_per_room\"] == 0, \"market_segment_type\"].value_counts()"
      ],
      "id": "ebd622c6"
    },
    {
      "cell_type": "markdown",
      "metadata": {
        "id": "0b063e30"
      },
      "source": [
        "* It makes sense that most values with room prices equal to 0 are the rooms given as complimentary service given by the hotel.\n",
        "* The rooms booked online might be a part of some promotional campaign done by the hotel. We will not treat these rows as we don't have the data to test this claim."
      ],
      "id": "0b063e30"
    },
    {
      "cell_type": "markdown",
      "metadata": {
        "id": "053f0a5e"
      },
      "source": [
        "#### Check the distribution and outliers for some columns in the data"
      ],
      "id": "053f0a5e"
    },
    {
      "cell_type": "code",
      "execution_count": null,
      "metadata": {
        "colab": {
          "base_uri": "https://localhost:8080/",
          "height": 893
        },
        "id": "12b57f40",
        "outputId": "a3150923-66e5-4fb0-9f0d-e66d6016dc35",
        "scrolled": false
      },
      "outputs": [
        {
          "output_type": "stream",
          "name": "stdout",
          "text": [
            "lead_time\n",
            "Skew : 1.29\n"
          ]
        },
        {
          "output_type": "display_data",
          "data": {
            "image/png": "[encoded data removed]",
            "text/plain": [
              "<Figure size 1080x288 with 2 Axes>"
            ]
          },
          "metadata": {
            "needs_background": "light"
          }
        },
        {
          "output_type": "stream",
          "name": "stdout",
          "text": [
            "no_of_previous_cancellations\n",
            "Skew : 25.2\n"
          ]
        },
        {
          "output_type": "display_data",
          "data": {
            "image/png": "[encoded data removed]",
            "text/plain": [
              "<Figure size 1080x288 with 2 Axes>"
            ]
          },
          "metadata": {
            "needs_background": "light"
          }
        },
        {
          "output_type": "stream",
          "name": "stdout",
          "text": [
            "no_of_previous_bookings_not_canceled\n",
            "Skew : 19.25\n"
          ]
        },
        {
          "output_type": "display_data",
          "data": {
            "image/png": "[encoded data removed]",
            "text/plain": [
              "<Figure size 1080x288 with 2 Axes>"
            ]
          },
          "metadata": {
            "needs_background": "light"
          }
        },
        {
          "output_type": "stream",
          "name": "stdout",
          "text": [
            "avg_price_per_room\n",
            "Skew : 0.67\n"
          ]
        },
        {
          "output_type": "display_data",
          "data": {
            "image/png": "[encoded data removed]",
            "text/plain": [
              "<Figure size 1080x288 with 2 Axes>"
            ]
          },
          "metadata": {
            "needs_background": "light"
          }
        }
      ],
      "source": [
        "for col in ['lead_time', 'no_of_previous_cancellations', 'no_of_previous_bookings_not_canceled', 'avg_price_per_room']:\n",
        "    print(col)\n",
        "    print('Skew :',round(data[col].skew(),2))\n",
        "    plt.figure(figsize=(15,4))\n",
        "    plt.subplot(1,2,1)\n",
        "    data[col].hist(bins=10, grid=False)\n",
        "    plt.ylabel('count')\n",
        "    plt.subplot(1,2,2)\n",
        "    sns.boxplot(x=data[col])\n",
        "    plt.show()"
      ],
      "id": "12b57f40"
    },
    {
      "cell_type": "markdown",
      "metadata": {
        "id": "e28ed68d"
      },
      "source": [
        "- The distribution of **lead time is right-skewed**. Many customers have made the booking on the same day of arrival as well. There are many outliers, **some customers made booking more than 400 days in advance**. \n",
        "- **Very few customers have more than one cancellation**. Some customers canceled more than 12 times.\n",
        "- **Very few customers have more than 1 booking not canceled previously**. Some customers have not canceled their bookings around 60 times.\n",
        "- **The distribution of average price per room is skewed to right**. There are outliers on both sides. The median price of a room is around ~100 euros. There is 1 observation where the average price of the room is more than 500 euros. This observation is quite far away from the rest of the values. We can treat this by clipping the value to the upper whisker (Q3 + 1.5 * IQR)."
      ],
      "id": "e28ed68d"
    },
    {
      "cell_type": "code",
      "execution_count": null,
      "metadata": {
        "colab": {
          "base_uri": "https://localhost:8080/"
        },
        "id": "986e890d",
        "outputId": "d27ecea4-dadc-4243-bdcf-79a69641f5e2"
      },
      "outputs": [
        {
          "output_type": "execute_result",
          "data": {
            "text/plain": [
              "179.55"
            ]
          },
          "metadata": {},
          "execution_count": 74
        }
      ],
      "source": [
        "# Calculating the 25th quantile\n",
        "Q1 = data[\"avg_price_per_room\"].quantile(0.25)\n",
        "\n",
        "# Calculating the 75th quantile\n",
        "Q3 = data[\"avg_price_per_room\"].quantile(0.75)\n",
        "\n",
        "# Calculating IQR\n",
        "IQR = Q3 - Q1\n",
        "\n",
        "# Calculating value of upper whisker\n",
        "Upper_Whisker = Q3 + 1.5 * IQR\n",
        "Upper_Whisker"
      ],
      "id": "986e890d"
    },
    {
      "cell_type": "code",
      "execution_count": null,
      "metadata": {
        "id": "a3382a90"
      },
      "outputs": [],
      "source": [
        "# assigning the outliers the value of upper whisker\n",
        "data.loc[data[\"avg_price_per_room\"] >= 500, \"avg_price_per_room\"] = Upper_Whisker"
      ],
      "id": "a3382a90"
    },
    {
      "cell_type": "markdown",
      "metadata": {
        "id": "4badc531"
      },
      "source": [
        "#### Now, let's check percentage of each category for some variables"
      ],
      "id": "4badc531"
    },
    {
      "cell_type": "markdown",
      "metadata": {
        "id": "bca965d6"
      },
      "source": [
        "#### Question 2: \n",
        "\n",
        "- **Write the code to check the percentage of each category for columns mentioned below (cat_cols) (2 Marks)**\n",
        "- **Write your observations (2 Marks)**"
      ],
      "id": "bca965d6"
    },
    {
      "cell_type": "code",
      "execution_count": null,
      "metadata": {
        "colab": {
          "base_uri": "https://localhost:8080/"
        },
        "id": "7b540d6c",
        "outputId": "28390202-704f-4363-a721-485f5b58fb0d"
      },
      "outputs": [
        {
          "output_type": "stream",
          "name": "stdout",
          "text": [
            "2    0.719724\n",
            "1    0.212130\n",
            "3    0.063873\n",
            "0    0.003832\n",
            "4    0.000441\n",
            "Name: no_of_adults, dtype: float64\n",
            "---------------------------------------------\n",
            "0     0.925624\n",
            "1     0.044604\n",
            "2     0.029166\n",
            "3     0.000524\n",
            "9     0.000055\n",
            "10    0.000028\n",
            "Name: no_of_children, dtype: float64\n",
            "---------------------------------------------\n",
            "2     0.315479\n",
            "1     0.261558\n",
            "3     0.216099\n",
            "4     0.082426\n",
            "0     0.065803\n",
            "5     0.044493\n",
            "6     0.005210\n",
            "7     0.003115\n",
            "10    0.001709\n",
            "8     0.001709\n",
            "9     0.000937\n",
            "11    0.000469\n",
            "15    0.000276\n",
            "12    0.000248\n",
            "14    0.000193\n",
            "13    0.000138\n",
            "17    0.000083\n",
            "16    0.000055\n",
            "Name: no_of_week_nights, dtype: float64\n",
            "---------------------------------------------\n",
            "0    0.465114\n",
            "1    0.275534\n",
            "2    0.250062\n",
            "3    0.004218\n",
            "4    0.003556\n",
            "5    0.000937\n",
            "6    0.000551\n",
            "7    0.000028\n",
            "Name: no_of_weekend_nights, dtype: float64\n",
            "---------------------------------------------\n",
            "0    0.969014\n",
            "1    0.030986\n",
            "Name: required_car_parking_space, dtype: float64\n",
            "---------------------------------------------\n",
            "Meal Plan 1     0.767333\n",
            "Not Selected    0.141420\n",
            "Meal Plan 2     0.091110\n",
            "Meal Plan 3     0.000138\n",
            "Name: type_of_meal_plan, dtype: float64\n",
            "---------------------------------------------\n",
            "Room_Type 1    0.775465\n",
            "Room_Type 4    0.166975\n",
            "Room_Type 6    0.026630\n",
            "Room_Type 2    0.019076\n",
            "Room_Type 5    0.007305\n",
            "Room_Type 7    0.004356\n",
            "Room_Type 3    0.000193\n",
            "Name: room_type_reserved, dtype: float64\n",
            "---------------------------------------------\n",
            "10    0.146575\n",
            "9     0.127112\n",
            "8     0.105114\n",
            "6     0.088298\n",
            "12    0.083280\n",
            "11    0.082150\n",
            "7     0.080496\n",
            "4     0.075424\n",
            "5     0.071620\n",
            "3     0.065003\n",
            "2     0.046975\n",
            "1     0.027953\n",
            "Name: arrival_month, dtype: float64\n",
            "---------------------------------------------\n",
            "Online           0.639945\n",
            "Offline          0.290227\n",
            "Corporate        0.055603\n",
            "Complementary    0.010779\n",
            "Aviation         0.003446\n",
            "Name: market_segment_type, dtype: float64\n",
            "---------------------------------------------\n",
            "0    0.545196\n",
            "1    0.313522\n",
            "2    0.120303\n",
            "3    0.018608\n",
            "4    0.002150\n",
            "5    0.000221\n",
            "Name: no_of_special_requests, dtype: float64\n",
            "---------------------------------------------\n",
            "Not_Canceled    0.672364\n",
            "Canceled        0.327636\n",
            "Name: booking_status, dtype: float64\n",
            "---------------------------------------------\n"
          ]
        }
      ],
      "source": [
        "cat_cols = ['no_of_adults', 'no_of_children', 'no_of_week_nights', 'no_of_weekend_nights', 'required_car_parking_space', \n",
        "        'type_of_meal_plan', 'room_type_reserved', 'arrival_month', 'market_segment_type', 'no_of_special_requests', \n",
        "        'booking_status']\n",
        "\n",
        "#Write your code here\n",
        "for i in cat_cols:\n",
        "  print(data[i].value_counts(normalize = True))\n",
        "  print('-'*45)"
      ],
      "id": "7b540d6c"
    },
    {
      "cell_type": "markdown",
      "metadata": {
        "id": "91681e10"
      },
      "source": [
        "**Observations:**\n",
        "- Most of the reservations (~71%) are for 2 adults and ~92.5% of the reservations have no children\n",
        "- 75% of the reservations are for 1-3 weeknights\n",
        "- Barely any reservations span multiple weekends\n",
        "- Most reservations are between August and October (36%)\n",
        "- Most reservations don't need parking spots (~97%)\n",
        "- 64% of the reservations are online\n",
        "- 32.7% of the bookings were cancelled"
      ],
      "id": "91681e10"
    },
    {
      "cell_type": "markdown",
      "metadata": {
        "id": "165d8282"
      },
      "source": [
        "**Replacing values 9 and 10 for the number of children with 3 and encoding the target variable**"
      ],
      "id": "165d8282"
    },
    {
      "cell_type": "code",
      "execution_count": null,
      "metadata": {
        "id": "440d07a9"
      },
      "outputs": [],
      "source": [
        "# replacing 9, and 10 children with 3\n",
        "data[\"no_of_children\"] = data[\"no_of_children\"].replace([9, 10], 3)"
      ],
      "id": "440d07a9"
    },
    {
      "cell_type": "code",
      "execution_count": null,
      "metadata": {
        "id": "1d43e46c"
      },
      "outputs": [],
      "source": [
        "data[\"booking_status\"] = data[\"booking_status\"].apply(lambda x: 1 if x == \"Canceled\" else 0)"
      ],
      "id": "1d43e46c"
    },
    {
      "cell_type": "markdown",
      "metadata": {
        "id": "5c0de669"
      },
      "source": [
        "**We are done with univariate analysis and data preprocessing. Let's explore the data a bit more with bivariate analysis.**\n",
        "\n",
        "Let's check the relationship of market segment type with the average price per room."
      ],
      "id": "5c0de669"
    },
    {
      "cell_type": "code",
      "execution_count": null,
      "metadata": {
        "colab": {
          "base_uri": "https://localhost:8080/",
          "height": 389
        },
        "id": "0eeb7c61",
        "outputId": "91c5e223-e509-48d0-d317-fa90761fef87"
      },
      "outputs": [
        {
          "output_type": "display_data",
          "data": {
            "image/png": "[encoded data removed]",
            "text/plain": [
              "<Figure size 720x432 with 1 Axes>"
            ]
          },
          "metadata": {
            "needs_background": "light"
          }
        }
      ],
      "source": [
        "plt.figure(figsize=(10, 6))\n",
        "sns.boxplot(data=data, x=\"market_segment_type\", y=\"avg_price_per_room\")\n",
        "plt.show()"
      ],
      "id": "0eeb7c61"
    },
    {
      "cell_type": "markdown",
      "metadata": {
        "id": "cf132364"
      },
      "source": [
        "* **Rooms booked online have the highest variations in prices.**\n",
        "* The distribution for offline and corporate room prices are almost similar except for some outliers.\n",
        "* Complementary market segment gets the rooms at very low prices, which makes sense."
      ],
      "id": "cf132364"
    },
    {
      "cell_type": "markdown",
      "metadata": {
        "id": "fb79160f"
      },
      "source": [
        "**Let's see how booking status varies across different market segments. Also, how lead time impacts booking status**"
      ],
      "id": "fb79160f"
    },
    {
      "cell_type": "code",
      "execution_count": null,
      "metadata": {
        "colab": {
          "base_uri": "https://localhost:8080/",
          "height": 389
        },
        "id": "611d10cc",
        "outputId": "dc0a7afe-3784-449f-ac06-49ce2e98db8a"
      },
      "outputs": [
        {
          "output_type": "display_data",
          "data": {
            "image/png": "[encoded data removed]",
            "text/plain": [
              "<Figure size 720x432 with 1 Axes>"
            ]
          },
          "metadata": {
            "needs_background": "light"
          }
        }
      ],
      "source": [
        "plt.figure(figsize=(10, 6))\n",
        "sns.countplot(x='market_segment_type', hue='booking_status', data=data)\n",
        "plt.show()"
      ],
      "id": "611d10cc"
    },
    {
      "cell_type": "markdown",
      "metadata": {
        "id": "7d9bcf56"
      },
      "source": [
        "* **Online bookings have the highest number of cancellations.**\n",
        "* Bookings made offline are less prone to cancellations.\n",
        "* Corporate and complementary segment shows very low cancellations."
      ],
      "id": "7d9bcf56"
    },
    {
      "cell_type": "code",
      "execution_count": null,
      "metadata": {
        "colab": {
          "base_uri": "https://localhost:8080/",
          "height": 389
        },
        "id": "025b6d42",
        "outputId": "2e672aa2-65ce-42ba-b160-9754bf5cc058"
      },
      "outputs": [
        {
          "output_type": "display_data",
          "data": {
            "image/png": "[encoded data removed]",
            "text/plain": [
              "<Figure size 720x432 with 1 Axes>"
            ]
          },
          "metadata": {
            "needs_background": "light"
          }
        }
      ],
      "source": [
        "plt.figure(figsize=(10, 6))\n",
        "sns.boxplot(data=data, x=\"booking_status\", y=\"lead_time\")\n",
        "plt.show()"
      ],
      "id": "025b6d42"
    },
    {
      "cell_type": "markdown",
      "metadata": {
        "id": "b8013008"
      },
      "source": [
        "* There's a big difference in the median value of lead time for bookings that were canceled and bookings that were not canceled. **The higher the lead time higher is the chances of a booking being canceled.**"
      ],
      "id": "b8013008"
    },
    {
      "cell_type": "markdown",
      "metadata": {
        "id": "fe71546f"
      },
      "source": [
        "**Now, let's check how the arrival month impacts the booking status**"
      ],
      "id": "fe71546f"
    },
    {
      "cell_type": "code",
      "execution_count": null,
      "metadata": {
        "colab": {
          "base_uri": "https://localhost:8080/",
          "height": 389
        },
        "id": "7d5133ed",
        "outputId": "ae963ae7-55c9-4674-8bda-95d74fb670e9"
      },
      "outputs": [
        {
          "output_type": "display_data",
          "data": {
            "image/png": "[encoded data removed]",
            "text/plain": [
              "<Figure size 720x432 with 1 Axes>"
            ]
          },
          "metadata": {
            "needs_background": "light"
          }
        }
      ],
      "source": [
        "plt.figure(figsize=(10, 6))\n",
        "sns.countplot(x='arrival_month', hue='booking_status', data=data)\n",
        "plt.show()"
      ],
      "id": "7d5133ed"
    },
    {
      "cell_type": "markdown",
      "metadata": {
        "id": "c5e56e5c"
      },
      "source": [
        "- We observed earlier that the month of October has the highest number of bookings but the above plot shows that **October has the highest number of cancellations** as well.\n",
        "- Bookings made for **December and January are less prone to cancellations**."
      ],
      "id": "c5e56e5c"
    },
    {
      "cell_type": "markdown",
      "metadata": {
        "id": "2487f5cb"
      },
      "source": [
        "**Repeating guests are the guests who stay in the hotel often and are important to brand equity. Let's see what percentage of repeating guests cancel?**"
      ],
      "id": "2487f5cb"
    },
    {
      "cell_type": "code",
      "execution_count": null,
      "metadata": {
        "colab": {
          "base_uri": "https://localhost:8080/",
          "height": 389
        },
        "id": "acf88b8a",
        "outputId": "3f1f0fbb-bcc3-4074-84f6-6292bec00990"
      },
      "outputs": [
        {
          "output_type": "display_data",
          "data": {
            "image/png": "[encoded data removed]",
            "text/plain": [
              "<Figure size 720x432 with 1 Axes>"
            ]
          },
          "metadata": {
            "needs_background": "light"
          }
        }
      ],
      "source": [
        "plt.figure(figsize=(10, 6))\n",
        "sns.countplot(x='repeated_guest', hue='booking_status', data=data)\n",
        "plt.show()"
      ],
      "id": "acf88b8a"
    },
    {
      "cell_type": "markdown",
      "metadata": {
        "id": "6bb0270c"
      },
      "source": [
        "* There are **very few repeat customers but the cancellation among them is very less**. This is a good indication as repeat customers are important for the hospitality industry as they can help in spreading the word of mouth."
      ],
      "id": "6bb0270c"
    },
    {
      "cell_type": "markdown",
      "metadata": {
        "id": "edf2d19d"
      },
      "source": [
        "**We have explored different combinations of variables. Now, let's see the pairwise correlations between all the variables.**"
      ],
      "id": "edf2d19d"
    },
    {
      "cell_type": "code",
      "execution_count": null,
      "metadata": {
        "colab": {
          "base_uri": "https://localhost:8080/",
          "height": 469
        },
        "id": "bce88900",
        "outputId": "c5955991-7f9d-4e43-c3f1-deafa5e03a9d"
      },
      "outputs": [
        {
          "output_type": "display_data",
          "data": {
            "image/png": "[encoded data removed]",
            "text/plain": [
              "<Figure size 864x504 with 2 Axes>"
            ]
          },
          "metadata": {
            "needs_background": "light"
          }
        }
      ],
      "source": [
        "plt.figure(figsize=(12, 7))\n",
        "sns.heatmap(data.corr(), annot=True, fmt=\".2f\")\n",
        "plt.show()"
      ],
      "id": "bce88900"
    },
    {
      "cell_type": "markdown",
      "metadata": {
        "id": "7ae8cf59"
      },
      "source": [
        "* There's a **positive correlation between the number of customers (adults and children) and the average price per room**. This makes sense as more the number of customers more rooms they will require thus increasing the cost.\n",
        "* There's a **negative correlation between average room price and repeated guests**. The hotel might be giving some loyalty benefits to the customers.\n",
        "* **Repeated guests have a positive correlation with the number of previous bookings canceled and previous bookings not canceled.** This implies that repeated customers are also likely to cancel their bookings.  \n",
        "* There's a positive correlation between lead time and the number of weeknights a customer is planning to stay in the hotel.\n",
        "* There's a **positive correlation between booking status and lead time**, indicating higher the lead time higher are the chances of cancellation.\n",
        "* There's a negative correlation between the number of special requests from the customer and the booking status, indicating **if a customer has made some special requests the chances of cancellation might decrease**"
      ],
      "id": "7ae8cf59"
    },
    {
      "cell_type": "markdown",
      "metadata": {
        "id": "9c88aed9"
      },
      "source": [
        "**Now that we have explored our data, let's prepare it for modeling.**"
      ],
      "id": "9c88aed9"
    },
    {
      "cell_type": "markdown",
      "metadata": {
        "id": "b0cc09d7"
      },
      "source": [
        "## Preparing data for modeling"
      ],
      "id": "b0cc09d7"
    },
    {
      "cell_type": "markdown",
      "metadata": {
        "id": "29e35d89"
      },
      "source": [
        "- Models cannot take non-numeric inputs. So, we will first create dummy variables for all the categorical variables.\n",
        "- We will then split the data into train and test sets."
      ],
      "id": "29e35d89"
    },
    {
      "cell_type": "markdown",
      "metadata": {
        "id": "c70a7aef"
      },
      "source": [
        "#### Question 3: \n",
        "\n",
        "- **Drop the target variable from the original data and store it in a separate dataframe `X` (1 Mark)**\n",
        "- **Store the target variable in a separate series `Y` (1 Mark)**"
      ],
      "id": "c70a7aef"
    },
    {
      "cell_type": "code",
      "execution_count": null,
      "metadata": {
        "id": "e94fa79a"
      },
      "outputs": [],
      "source": [
        "#Remove the blanks and complete the below code\n",
        "X= data.drop(columns=['booking_status'])\n",
        "Y=data.booking_status"
      ],
      "id": "e94fa79a"
    },
    {
      "cell_type": "code",
      "execution_count": null,
      "metadata": {
        "id": "3c6d4878"
      },
      "outputs": [],
      "source": [
        "#Creating dummy variables \n",
        "#drop_first=True is used to avoid redundant variables\n",
        "X = pd.get_dummies(X, drop_first=True)"
      ],
      "id": "3c6d4878"
    },
    {
      "cell_type": "code",
      "execution_count": null,
      "metadata": {
        "id": "d408befa"
      },
      "outputs": [],
      "source": [
        "#Splitting the data into train and test sets\n",
        "X_train,X_test,y_train,y_test=train_test_split(X, Y, test_size=0.30, random_state=1)"
      ],
      "id": "d408befa"
    },
    {
      "cell_type": "markdown",
      "metadata": {
        "id": "fd6c6663"
      },
      "source": [
        "## Building Classification Models"
      ],
      "id": "fd6c6663"
    },
    {
      "cell_type": "markdown",
      "metadata": {
        "id": "c8e4cd60"
      },
      "source": [
        "**Before training the model, let's choose the appropriate model evaluation criterion as per the problem on hand.**\n",
        "\n",
        "### Model evaluation criterion\n",
        "\n",
        "#### Model can make wrong predictions as:\n",
        "\n",
        "1. Predicting a customer will not cancel their booking but in reality, the customer will cancel their booking.\n",
        "2. Predicting a customer will cancel their booking but in reality, the customer will not cancel their booking. \n",
        "\n",
        "#### Which case is more important? \n",
        "* Both the cases are important as:\n",
        "\n",
        "* If we predict that a booking will not be canceled and the booking gets canceled then the hotel will lose resources and will have to bear additional costs of unsold rooms. The hotel might also have to bear an additional cost of advertising the room again on different distribution channels.\n",
        "\n",
        "* If we predict that a booking will get canceled and the booking doesn't get canceled the hotel might not be able to provide satisfactory services to the customer by assuming that this booking will be canceled. This might damage the brand equity. \n",
        "\n",
        "\n",
        "#### How to reduce the losses?\n",
        "\n",
        "* Hotel would want `F1 Score` to be maximized, greater the F1 score higher are the chances of minimizing False Negatives and False Positives. "
      ],
      "id": "c8e4cd60"
    },
    {
      "cell_type": "markdown",
      "metadata": {
        "id": "d94ab199"
      },
      "source": [
        "**Also, let's create a function to calculate and print the classification report and confusion matrix so that we don't have to rewrite the same code repeatedly for each model.**"
      ],
      "id": "d94ab199"
    },
    {
      "cell_type": "code",
      "execution_count": null,
      "metadata": {
        "id": "bda2e079"
      },
      "outputs": [],
      "source": [
        "#function to print classification report and get confusion matrix in a proper format\n",
        "\n",
        "def metrics_score(actual, predicted):\n",
        "    print(classification_report(actual, predicted))\n",
        "    cm = confusion_matrix(actual, predicted)\n",
        "    plt.figure(figsize=(8,5))\n",
        "    sns.heatmap(cm, annot=True,  fmt='.2f', xticklabels=['Not Canceled', 'Canceled'], yticklabels=['Not Canceled', 'Canceled'])\n",
        "    plt.ylabel('Actual')\n",
        "    plt.xlabel('Predicted')\n",
        "    plt.show()"
      ],
      "id": "bda2e079"
    },
    {
      "cell_type": "markdown",
      "metadata": {
        "id": "e48f6a96"
      },
      "source": [
        "### Logistic Regression"
      ],
      "id": "e48f6a96"
    },
    {
      "cell_type": "markdown",
      "metadata": {
        "id": "d30422c6"
      },
      "source": [
        "#### Question 4: Fit the logistic regression model on the train dataset using random_state=1 (2 Marks)"
      ],
      "id": "d30422c6"
    },
    {
      "cell_type": "code",
      "execution_count": null,
      "metadata": {
        "colab": {
          "base_uri": "https://localhost:8080/"
        },
        "id": "eb230295",
        "outputId": "bd240589-3cb5-4a08-da0c-1f9f0a252ac3"
      },
      "outputs": [
        {
          "output_type": "execute_result",
          "data": {
            "text/plain": [
              "LogisticRegression()"
            ]
          },
          "metadata": {},
          "execution_count": 89
        }
      ],
      "source": [
        "#define logistic regression model \n",
        "log_reg= LogisticRegression() #write your code here\n",
        "\n",
        "#fit the model\n",
        "#write you code here\n",
        "\n",
        "log_reg.fit(X_train,y_train)"
      ],
      "id": "eb230295"
    },
    {
      "cell_type": "markdown",
      "metadata": {
        "id": "990f1d67"
      },
      "source": [
        "**Let's check the coefficient of each dependent variable in the data**"
      ],
      "id": "990f1d67"
    },
    {
      "cell_type": "markdown",
      "metadata": {
        "id": "40225632"
      },
      "source": [
        "#### Question 5: Write your observations on the below coefficients obtained from the logistic regression model (3 Marks)"
      ],
      "id": "40225632"
    },
    {
      "cell_type": "code",
      "execution_count": null,
      "metadata": {
        "colab": {
          "base_uri": "https://localhost:8080/"
        },
        "id": "a44b33dc",
        "outputId": "ebb116e9-78ed-44cf-e186-c75d17dc8102"
      },
      "outputs": [
        {
          "output_type": "execute_result",
          "data": {
            "text/plain": [
              "market_segment_type_Online              0.623121\n",
              "type_of_meal_plan_Not Selected          0.321111\n",
              "no_of_weekend_nights                    0.180795\n",
              "avg_price_per_room                      0.019723\n",
              "lead_time                               0.015402\n",
              "no_of_adults                            0.011352\n",
              "no_of_week_nights                       0.006674\n",
              "arrival_date                            0.001338\n",
              "type_of_meal_plan_Meal Plan 3           0.000400\n",
              "room_type_reserved_Room_Type 3          0.000341\n",
              "arrival_year                           -0.001733\n",
              "room_type_reserved_Room_Type 2         -0.004279\n",
              "market_segment_type_Complementary      -0.008769\n",
              "room_type_reserved_Room_Type 5         -0.011113\n",
              "room_type_reserved_Room_Type 7         -0.017792\n",
              "no_of_previous_cancellations           -0.024645\n",
              "market_segment_type_Corporate          -0.031233\n",
              "room_type_reserved_Room_Type 4         -0.032691\n",
              "repeated_guest                         -0.043351\n",
              "room_type_reserved_Room_Type 6         -0.045530\n",
              "no_of_children                         -0.053768\n",
              "arrival_month                          -0.057421\n",
              "type_of_meal_plan_Meal Plan 2          -0.094162\n",
              "required_car_parking_space             -0.138885\n",
              "no_of_previous_bookings_not_canceled   -0.212053\n",
              "market_segment_type_Offline            -0.597352\n",
              "no_of_special_requests                 -1.548210\n",
              "dtype: float64"
            ]
          },
          "metadata": {},
          "execution_count": 90
        }
      ],
      "source": [
        "pd.Series(log_reg.coef_[0], index=X_train.columns).sort_values(ascending=False)"
      ],
      "id": "a44b33dc"
    },
    {
      "cell_type": "markdown",
      "metadata": {
        "id": "71c31b4a"
      },
      "source": [
        "**Observations:**\n",
        "\n",
        "The top features which positively affect the cancellation rate:\n",
        "- market_segment_type_Online\n",
        "- type_of_meal_plan_Not\n",
        "\n",
        "The top features which negatively affect the cancellation rate:\n",
        "- required_car_parking_space\n",
        "- no_of_previous_bookings_not_canceled\n",
        "- market_segment_type_Offline\n",
        "- no_of_special_requests\n",
        "\n",
        "Findings:\n",
        "- Based on the logression model, folks placing their reservations online seems to be the most important feature in predicting whether someone will cancel their reservation\n",
        "- The model also shows that the selection of \"Not Selected\" as the meal plan is another good predictor of a cancellation\n",
        "- Number of weekend nights seems to be another predictor of cancellation\n",
        "- Number of special requests seems to have a negative relationship with cancellation so the more special requests, the less likely they cancel"
      ],
      "id": "71c31b4a"
    },
    {
      "cell_type": "markdown",
      "metadata": {
        "id": "8a884b9c"
      },
      "source": [
        "#### Question 6: Write your interpretations of the odds calculated from the logistic regression model coefficients (3 Marks)"
      ],
      "id": "8a884b9c"
    },
    {
      "cell_type": "code",
      "execution_count": null,
      "metadata": {
        "colab": {
          "base_uri": "https://localhost:8080/",
          "height": 895
        },
        "id": "23e7a8a9",
        "outputId": "09680a3a-c4df-4b68-dc1e-f11015d12dab"
      },
      "outputs": [
        {
          "output_type": "execute_result",
          "data": {
            "text/html": [
              "\n",
              "  <div id=\"df-3647dd45-8d2b-4348-b2b5-a880bce87073\">\n",
              "    <div class=\"colab-df-container\">\n",
              "      <div>\n",
              "<style scoped>\n",
              "    .dataframe tbody tr th:only-of-type {\n",
              "        vertical-align: middle;\n",
              "    }\n",
              "\n",
              "    .dataframe tbody tr th {\n",
              "        vertical-align: top;\n",
              "    }\n",
              "\n",
              "    .dataframe thead th {\n",
              "        text-align: right;\n",
              "    }\n",
              "</style>\n",
              "<table border=\"1\" class=\"dataframe\">\n",
              "  <thead>\n",
              "    <tr style=\"text-align: right;\">\n",
              "      <th></th>\n",
              "      <th>odds</th>\n",
              "    </tr>\n",
              "  </thead>\n",
              "  <tbody>\n",
              "    <tr>\n",
              "      <th>market_segment_type_Online</th>\n",
              "      <td>1.864738</td>\n",
              "    </tr>\n",
              "    <tr>\n",
              "      <th>type_of_meal_plan_Not Selected</th>\n",
              "      <td>1.378658</td>\n",
              "    </tr>\n",
              "    <tr>\n",
              "      <th>no_of_weekend_nights</th>\n",
              "      <td>1.198170</td>\n",
              "    </tr>\n",
              "    <tr>\n",
              "      <th>avg_price_per_room</th>\n",
              "      <td>1.019919</td>\n",
              "    </tr>\n",
              "    <tr>\n",
              "      <th>lead_time</th>\n",
              "      <td>1.015521</td>\n",
              "    </tr>\n",
              "    <tr>\n",
              "      <th>no_of_adults</th>\n",
              "      <td>1.011417</td>\n",
              "    </tr>\n",
              "    <tr>\n",
              "      <th>no_of_week_nights</th>\n",
              "      <td>1.006696</td>\n",
              "    </tr>\n",
              "    <tr>\n",
              "      <th>arrival_date</th>\n",
              "      <td>1.001339</td>\n",
              "    </tr>\n",
              "    <tr>\n",
              "      <th>type_of_meal_plan_Meal Plan 3</th>\n",
              "      <td>1.000400</td>\n",
              "    </tr>\n",
              "    <tr>\n",
              "      <th>room_type_reserved_Room_Type 3</th>\n",
              "      <td>1.000341</td>\n",
              "    </tr>\n",
              "    <tr>\n",
              "      <th>arrival_year</th>\n",
              "      <td>0.998269</td>\n",
              "    </tr>\n",
              "    <tr>\n",
              "      <th>room_type_reserved_Room_Type 2</th>\n",
              "      <td>0.995730</td>\n",
              "    </tr>\n",
              "    <tr>\n",
              "      <th>market_segment_type_Complementary</th>\n",
              "      <td>0.991269</td>\n",
              "    </tr>\n",
              "    <tr>\n",
              "      <th>room_type_reserved_Room_Type 5</th>\n",
              "      <td>0.988949</td>\n",
              "    </tr>\n",
              "    <tr>\n",
              "      <th>room_type_reserved_Room_Type 7</th>\n",
              "      <td>0.982365</td>\n",
              "    </tr>\n",
              "    <tr>\n",
              "      <th>no_of_previous_cancellations</th>\n",
              "      <td>0.975656</td>\n",
              "    </tr>\n",
              "    <tr>\n",
              "      <th>market_segment_type_Corporate</th>\n",
              "      <td>0.969249</td>\n",
              "    </tr>\n",
              "    <tr>\n",
              "      <th>room_type_reserved_Room_Type 4</th>\n",
              "      <td>0.967838</td>\n",
              "    </tr>\n",
              "    <tr>\n",
              "      <th>repeated_guest</th>\n",
              "      <td>0.957575</td>\n",
              "    </tr>\n",
              "    <tr>\n",
              "      <th>room_type_reserved_Room_Type 6</th>\n",
              "      <td>0.955491</td>\n",
              "    </tr>\n",
              "    <tr>\n",
              "      <th>no_of_children</th>\n",
              "      <td>0.947652</td>\n",
              "    </tr>\n",
              "    <tr>\n",
              "      <th>arrival_month</th>\n",
              "      <td>0.944197</td>\n",
              "    </tr>\n",
              "    <tr>\n",
              "      <th>type_of_meal_plan_Meal Plan 2</th>\n",
              "      <td>0.910135</td>\n",
              "    </tr>\n",
              "    <tr>\n",
              "      <th>required_car_parking_space</th>\n",
              "      <td>0.870328</td>\n",
              "    </tr>\n",
              "    <tr>\n",
              "      <th>no_of_previous_bookings_not_canceled</th>\n",
              "      <td>0.808922</td>\n",
              "    </tr>\n",
              "    <tr>\n",
              "      <th>market_segment_type_Offline</th>\n",
              "      <td>0.550267</td>\n",
              "    </tr>\n",
              "    <tr>\n",
              "      <th>no_of_special_requests</th>\n",
              "      <td>0.212628</td>\n",
              "    </tr>\n",
              "  </tbody>\n",
              "</table>\n",
              "</div>\n",
              "      <button class=\"colab-df-convert\" onclick=\"convertToInteractive('df-3647dd45-8d2b-4348-b2b5-a880bce87073')\"\n",
              "              title=\"Convert this dataframe to an interactive table.\"\n",
              "              style=\"display:none;\">\n",
              "        \n",
              "  <svg xmlns=\"http://www.w3.org/2000/svg\" height=\"24px\"viewBox=\"0 0 24 24\"\n",
              "       width=\"24px\">\n",
              "    <path d=\"M0 0h24v24H0V0z\" fill=\"none\"/>\n",
              "    <path d=\"M18.56 5.44l.94 2.06.94-2.06 2.06-.94-2.06-.94-.94-2.06-.94 2.06-2.06.94zm-11 1L8.5 8.5l.94-2.06 2.06-.94-2.06-.94L8.5 2.5l-.94 2.06-2.06.94zm10 10l.94 2.06.94-2.06 2.06-.94-2.06-.94-.94-2.06-.94 2.06-2.06.94z\"/><path d=\"M17.41 7.96l-1.37-1.37c-.4-.4-.92-.59-1.43-.59-.52 0-1.04.2-1.43.59L10.3 9.45l-7.72 7.72c-.78.78-.78 2.05 0 2.83L4 21.41c.39.39.9.59 1.41.59.51 0 1.02-.2 1.41-.59l7.78-7.78 2.81-2.81c.8-.78.8-2.07 0-2.86zM5.41 20L4 18.59l7.72-7.72 1.47 1.35L5.41 20z\"/>\n",
              "  </svg>\n",
              "      </button>\n",
              "      \n",
              "  <style>\n",
              "    .colab-df-container {\n",
              "      display:flex;\n",
              "      flex-wrap:wrap;\n",
              "      gap: 12px;\n",
              "    }\n",
              "\n",
              "    .colab-df-convert {\n",
              "      background-color: #E8F0FE;\n",
              "      border: none;\n",
              "      border-radius: 50%;\n",
              "      cursor: pointer;\n",
              "      display: none;\n",
              "      fill: #1967D2;\n",
              "      height: 32px;\n",
              "      padding: 0 0 0 0;\n",
              "      width: 32px;\n",
              "    }\n",
              "\n",
              "    .colab-df-convert:hover {\n",
              "      background-color: #E2EBFA;\n",
              "      box-shadow: 0px 1px 2px rgba(60, 64, 67, 0.3), 0px 1px 3px 1px rgba(60, 64, 67, 0.15);\n",
              "      fill: #174EA6;\n",
              "    }\n",
              "\n",
              "    [theme=dark] .colab-df-convert {\n",
              "      background-color: #3B4455;\n",
              "      fill: #D2E3FC;\n",
              "    }\n",
              "\n",
              "    [theme=dark] .colab-df-convert:hover {\n",
              "      background-color: #434B5C;\n",
              "      box-shadow: 0px 1px 3px 1px rgba(0, 0, 0, 0.15);\n",
              "      filter: drop-shadow(0px 1px 2px rgba(0, 0, 0, 0.3));\n",
              "      fill: #FFFFFF;\n",
              "    }\n",
              "  </style>\n",
              "\n",
              "      <script>\n",
              "        const buttonEl =\n",
              "          document.querySelector('#df-3647dd45-8d2b-4348-b2b5-a880bce87073 button.colab-df-convert');\n",
              "        buttonEl.style.display =\n",
              "          google.colab.kernel.accessAllowed ? 'block' : 'none';\n",
              "\n",
              "        async function convertToInteractive(key) {\n",
              "          const element = document.querySelector('#df-3647dd45-8d2b-4348-b2b5-a880bce87073');\n",
              "          const dataTable =\n",
              "            await google.colab.kernel.invokeFunction('convertToInteractive',\n",
              "                                                     [key], {});\n",
              "          if (!dataTable) return;\n",
              "\n",
              "          const docLinkHtml = 'Like what you see? Visit the ' +\n",
              "            '<a target=\"_blank\" href=https://colab.research.google.com/notebooks/data_table.ipynb>data table notebook</a>'\n",
              "            + ' to learn more about interactive tables.';\n",
              "          element.innerHTML = '';\n",
              "          dataTable['output_type'] = 'display_data';\n",
              "          await google.colab.output.renderOutput(dataTable, element);\n",
              "          const docLink = document.createElement('div');\n",
              "          docLink.innerHTML = docLinkHtml;\n",
              "          element.appendChild(docLink);\n",
              "        }\n",
              "      </script>\n",
              "    </div>\n",
              "  </div>\n",
              "  "
            ],
            "text/plain": [
              "                                          odds\n",
              "market_segment_type_Online            1.864738\n",
              "type_of_meal_plan_Not Selected        1.378658\n",
              "no_of_weekend_nights                  1.198170\n",
              "avg_price_per_room                    1.019919\n",
              "lead_time                             1.015521\n",
              "no_of_adults                          1.011417\n",
              "no_of_week_nights                     1.006696\n",
              "arrival_date                          1.001339\n",
              "type_of_meal_plan_Meal Plan 3         1.000400\n",
              "room_type_reserved_Room_Type 3        1.000341\n",
              "arrival_year                          0.998269\n",
              "room_type_reserved_Room_Type 2        0.995730\n",
              "market_segment_type_Complementary     0.991269\n",
              "room_type_reserved_Room_Type 5        0.988949\n",
              "room_type_reserved_Room_Type 7        0.982365\n",
              "no_of_previous_cancellations          0.975656\n",
              "market_segment_type_Corporate         0.969249\n",
              "room_type_reserved_Room_Type 4        0.967838\n",
              "repeated_guest                        0.957575\n",
              "room_type_reserved_Room_Type 6        0.955491\n",
              "no_of_children                        0.947652\n",
              "arrival_month                         0.944197\n",
              "type_of_meal_plan_Meal Plan 2         0.910135\n",
              "required_car_parking_space            0.870328\n",
              "no_of_previous_bookings_not_canceled  0.808922\n",
              "market_segment_type_Offline           0.550267\n",
              "no_of_special_requests                0.212628"
            ]
          },
          "metadata": {},
          "execution_count": 91
        }
      ],
      "source": [
        "odds = np.exp(log_reg.coef_[0]) #finding the odds\n",
        "\n",
        "# adding the odds to a dataframe and sorting the values\n",
        "pd.DataFrame(odds, X_train.columns, columns=['odds']).sort_values(by='odds', ascending=False) "
      ],
      "id": "23e7a8a9"
    },
    {
      "cell_type": "markdown",
      "metadata": {
        "id": "1fa190cd"
      },
      "source": [
        "**Observations:**\n",
        "- The odds of a reservation booked online cancelling is 1.86 times the odds of one who didn't book online\n",
        "- The odds of someone who selected their meal type as \"Not Selected\" cancelling is 1.38 times someone who selected a meal plan"
      ],
      "id": "1fa190cd"
    },
    {
      "cell_type": "markdown",
      "metadata": {
        "id": "aefb52e9"
      },
      "source": [
        "**Now, let's check the performance of the model on the training set**"
      ],
      "id": "aefb52e9"
    },
    {
      "cell_type": "markdown",
      "metadata": {
        "id": "79a0d068"
      },
      "source": [
        "#### Question 7: Check the performance on the training data and write your observations from the classification report and confusion matrix for the training set (3 Marks)"
      ],
      "id": "79a0d068"
    },
    {
      "cell_type": "code",
      "execution_count": null,
      "metadata": {
        "colab": {
          "base_uri": "https://localhost:8080/",
          "height": 495
        },
        "id": "5cd55c08",
        "outputId": "96513f9b-2863-4d5e-9580-e9d225ee84e0"
      },
      "outputs": [
        {
          "output_type": "stream",
          "name": "stdout",
          "text": [
            "              precision    recall  f1-score   support\n",
            "\n",
            "           0       0.82      0.89      0.86     17029\n",
            "           1       0.74      0.61      0.67      8363\n",
            "\n",
            "    accuracy                           0.80     25392\n",
            "   macro avg       0.78      0.75      0.76     25392\n",
            "weighted avg       0.80      0.80      0.79     25392\n",
            "\n"
          ]
        },
        {
          "output_type": "display_data",
          "data": {
            "image/png": "[encoded data removed]",
            "text/plain": [
              "<Figure size 576x360 with 2 Axes>"
            ]
          },
          "metadata": {
            "needs_background": "light"
          }
        }
      ],
      "source": [
        "# Checking performance on the training data\n",
        "y_pred_train = log_reg.predict(X_train)\n",
        "metrics_score(y_train,y_pred_train)"
      ],
      "id": "5cd55c08"
    },
    {
      "cell_type": "markdown",
      "metadata": {
        "id": "1f57d784"
      },
      "source": [
        "**Reading confusion matrix (clockwise):**\n",
        "\n",
        "- **True Positive**: Predicting the customer will not cancel the booking and the customer does not cancel the booking\n",
        "- **False Negative**: Predicting the customer will cancel the booking but the customer does not cancel the booking\n",
        "- **True Negative**: Predicting the customer will cancel the booking and the customer cancels the booking\n",
        "- **False Positive**: Predicting the customer will not cancel the booking but the customer cancels the booking"
      ],
      "id": "1f57d784"
    },
    {
      "cell_type": "markdown",
      "metadata": {
        "id": "0c8eb5b5"
      },
      "source": [
        "**Observations:**\n",
        "- The accuracy is around 80% \n",
        "- However the recall for this model is only 61% meaning that the model is only able to correctly identify 61% of those that will cancel (the remaining are predicted to not cancel but still end up cancelling)"
      ],
      "id": "0c8eb5b5"
    },
    {
      "cell_type": "markdown",
      "metadata": {
        "id": "393bc8da"
      },
      "source": [
        "**Precision-Recall Curve for Logistic Regression**"
      ],
      "id": "393bc8da"
    },
    {
      "cell_type": "code",
      "execution_count": null,
      "metadata": {
        "colab": {
          "base_uri": "https://localhost:8080/",
          "height": 446
        },
        "id": "f093159e",
        "outputId": "4e1df7c5-98c6-45be-a5ac-835123fe8298"
      },
      "outputs": [
        {
          "output_type": "display_data",
          "data": {
            "image/png": "[encoded data removed]",
            "text/plain": [
              "<Figure size 720x504 with 1 Axes>"
            ]
          },
          "metadata": {
            "needs_background": "light"
          }
        }
      ],
      "source": [
        "y_scores=log_reg.predict_proba(X_train) #predict_proba gives the probability of each observation belonging to each class\n",
        "\n",
        "\n",
        "precisions, recalls, thresholds = precision_recall_curve(y_train, y_scores[:,1])\n",
        "\n",
        "#Plot values of precisions, recalls, and thresholds\n",
        "plt.figure(figsize=(10,7))\n",
        "plt.plot(thresholds, precisions[:-1], 'b--', label='precision')\n",
        "plt.plot(thresholds, recalls[:-1], 'g--', label = 'recall')\n",
        "plt.xlabel('Threshold')\n",
        "plt.legend(loc='upper left')\n",
        "plt.ylim([0,1])\n",
        "plt.show()"
      ],
      "id": "f093159e"
    },
    {
      "cell_type": "markdown",
      "metadata": {
        "id": "edbaf926"
      },
      "source": [
        "**Observations:**\n",
        "- We can see that **precision and recall are balanced for the threshold of about 0.4.**\n",
        "- Let's try to calculate the exact threshold where precision and recall are equal."
      ],
      "id": "edbaf926"
    },
    {
      "cell_type": "code",
      "execution_count": null,
      "metadata": {
        "id": "f116154a"
      },
      "outputs": [],
      "source": [
        "#calculating the exact threshold where precision and recall are equal.\n",
        "for i in np.arange(len(thresholds)):\n",
        "    if precisions[i]==recalls[i]:\n",
        "        print(thresholds[i])"
      ],
      "id": "f116154a"
    },
    {
      "cell_type": "markdown",
      "metadata": {
        "id": "ea0a92eb"
      },
      "source": [
        "- The threshold of 0.42 would give a balanced precision and recall."
      ],
      "id": "ea0a92eb"
    },
    {
      "cell_type": "markdown",
      "metadata": {
        "id": "288d0888"
      },
      "source": [
        "#### Question 8: Compare the performance of the model on training and testing sets after changing the threshold (2 Marks)"
      ],
      "id": "288d0888"
    },
    {
      "cell_type": "code",
      "execution_count": null,
      "metadata": {
        "colab": {
          "base_uri": "https://localhost:8080/",
          "height": 495
        },
        "id": "a61a64d6",
        "outputId": "07fb5b3e-2f76-4af8-d897-8a9b4c3a7e29"
      },
      "outputs": [
        {
          "output_type": "stream",
          "name": "stdout",
          "text": [
            "              precision    recall  f1-score   support\n",
            "\n",
            "           0       0.84      0.84      0.84     17029\n",
            "           1       0.68      0.68      0.68      8363\n",
            "\n",
            "    accuracy                           0.79     25392\n",
            "   macro avg       0.76      0.76      0.76     25392\n",
            "weighted avg       0.79      0.79      0.79     25392\n",
            "\n"
          ]
        },
        {
          "output_type": "display_data",
          "data": {
            "image/png": "[encoded data removed]",
            "text/plain": [
              "<Figure size 576x360 with 2 Axes>"
            ]
          },
          "metadata": {
            "needs_background": "light"
          }
        }
      ],
      "source": [
        "optimal_threshold1 = 0.42\n",
        "metrics_score(y_train, y_scores[:,1]>optimal_threshold1)"
      ],
      "id": "a61a64d6"
    },
    {
      "cell_type": "markdown",
      "metadata": {
        "id": "39985115"
      },
      "source": [
        "**Let's check the performance of the model on the test data**"
      ],
      "id": "39985115"
    },
    {
      "cell_type": "code",
      "execution_count": null,
      "metadata": {
        "colab": {
          "base_uri": "https://localhost:8080/",
          "height": 495
        },
        "id": "2e92c69d",
        "outputId": "75152f48-88b9-4b34-b891-62e922a2f707"
      },
      "outputs": [
        {
          "output_type": "stream",
          "name": "stdout",
          "text": [
            "              precision    recall  f1-score   support\n",
            "\n",
            "           0       0.85      0.85      0.85      7361\n",
            "           1       0.68      0.68      0.68      3522\n",
            "\n",
            "    accuracy                           0.79     10883\n",
            "   macro avg       0.77      0.77      0.77     10883\n",
            "weighted avg       0.79      0.79      0.79     10883\n",
            "\n"
          ]
        },
        {
          "output_type": "display_data",
          "data": {
            "image/png": "[encoded data removed]",
            "text/plain": [
              "<Figure size 576x360 with 2 Axes>"
            ]
          },
          "metadata": {
            "needs_background": "light"
          }
        }
      ],
      "source": [
        "#Checking performance on the testing data\n",
        "y_pred_test = log_reg.predict_proba(X_test)\n",
        "metrics_score(y_test, y_pred_test[:,1]>optimal_threshold1)"
      ],
      "id": "2e92c69d"
    },
    {
      "cell_type": "markdown",
      "metadata": {
        "id": "c259399b"
      },
      "source": [
        "**Observations:**\n",
        "- The precision and the recall are both around ~78% on average for both the testing and the training data\n",
        "- The model is now doing a better job of picking up the false positives aka predicting that the customer will not cancel and they end up cancel hence the lowered recall betwene now and the original confusion matric"
      ],
      "id": "c259399b"
    },
    {
      "cell_type": "markdown",
      "metadata": {
        "id": "61f7d313"
      },
      "source": [
        "### K - Nearest Neighbors (KNN)"
      ],
      "id": "61f7d313"
    },
    {
      "cell_type": "markdown",
      "metadata": {
        "id": "78a2a4f4"
      },
      "source": [
        "- KNN is a distance based algorithm and all distance based algorithms are affected by the scale of the data.\n",
        "- We will scale the attributes (dataframe X defined above) before building the KNN model.\n",
        "- Then We need to identify the value of K to be used in KNN. We will use **GridSearchCV** to find the optimal value of K along with other hyperparameters."
      ],
      "id": "78a2a4f4"
    },
    {
      "cell_type": "code",
      "execution_count": null,
      "metadata": {
        "id": "47b4541a"
      },
      "outputs": [],
      "source": [
        "# scaling the data\n",
        "scaler=StandardScaler()\n",
        "X_train_scaled=pd.DataFrame(scaler.fit_transform(X_train), columns=X_train.columns)  #fit_transform the training data\n",
        "X_test_scaled=pd.DataFrame(scaler.transform(X_test), columns=X_test.columns) #transform the testing data"
      ],
      "id": "47b4541a"
    },
    {
      "cell_type": "markdown",
      "metadata": {
        "id": "4cedb564"
      },
      "source": [
        "### Using GridSearchCV for find the value of K and hyperparameter tuning"
      ],
      "id": "4cedb564"
    },
    {
      "cell_type": "markdown",
      "metadata": {
        "id": "03244e9e"
      },
      "source": [
        "**Points to note:**\n",
        "\n",
        "* Hyperparameter tuning is tricky in the sense that there is no direct way to calculate how a change in the hyperparameter value will reduce the loss of your model, so we usually resort to experimentation.\n",
        "* **Grid search** is a tuning technique that attempts to compute the optimum values of hyperparameters. \n",
        "* Grid search is an exhaustive search of values that tries many iterations to compute the optimum values of hyperparameters. So, **it might take up to 30 minutes for the code to run depending on the number of values and hyperparameters passed.**  \n",
        "* The hyperparameters that we are tuning are:\n",
        "\n",
        "    - **n_neighbors**: Number of neighbors to use.\n",
        "\n",
        "    - **weights={'uniform', 'distance'}**\n",
        "        - uniform : uniform weights. All points in each neighborhood are weighted equally.\n",
        "        - distance : weight points by the inverse of their distance. In this case, closer neighbors of a query point will have a greater influence than neighbors that are further away.\n",
        "\n",
        "    - **p**: When p = 1, this is equivalent to using Manhattan_distance (L1), and Euclidean_distance (L2) is used for p = 2."
      ],
      "id": "03244e9e"
    },
    {
      "cell_type": "code",
      "execution_count": null,
      "metadata": {
        "colab": {
          "base_uri": "https://localhost:8080/"
        },
        "id": "5ce7a9bf",
        "outputId": "7293c5ad-1b97-4227-95a0-471d53b0b93d"
      },
      "outputs": [
        {
          "output_type": "stream",
          "name": "stdout",
          "text": [
            "KNeighborsClassifier(n_neighbors=14, p=1, weights='distance')\n"
          ]
        }
      ],
      "source": [
        "knn = KNeighborsClassifier()\n",
        "\n",
        "params_knn = {'n_neighbors':np.arange(2,20,2), 'weights':['uniform','distance'], 'p':[1,2]}\n",
        "\n",
        "grid_knn = GridSearchCV(estimator=knn, param_grid=params_knn, scoring='f1', cv=10)\n",
        "\n",
        "model_knn=grid_knn.fit(X_train_scaled,y_train)\n",
        "\n",
        "knn_estimator = model_knn.best_estimator_\n",
        "print(knn_estimator)"
      ],
      "id": "5ce7a9bf"
    },
    {
      "cell_type": "markdown",
      "metadata": {
        "id": "783622ff"
      },
      "source": [
        "#### Question 9: \n",
        "\n",
        "- **Fit the KNN model on the scaled training data using the optimal values of hyperparameters obtained from GridSearchCV (1 mark)**\n",
        "- **Check the performance of the model on the scaled training and testing sets (2 Marks)**\n",
        "- **Compare the performance and write your observations (1 Marks)**"
      ],
      "id": "783622ff"
    },
    {
      "cell_type": "code",
      "execution_count": null,
      "metadata": {
        "id": "fb86102e",
        "colab": {
          "base_uri": "https://localhost:8080/"
        },
        "outputId": "f82d5625-825c-4aaa-93ba-b6c26dca10a2"
      },
      "outputs": [
        {
          "output_type": "execute_result",
          "data": {
            "text/plain": [
              "KNeighborsClassifier()"
            ]
          },
          "metadata": {},
          "execution_count": 99
        }
      ],
      "source": [
        "#Fit the KNN model on the scaled training data\n",
        "knn.fit(X_train_scaled,y_train)"
      ],
      "id": "fb86102e"
    },
    {
      "cell_type": "code",
      "execution_count": null,
      "metadata": {
        "id": "d4c00c9e",
        "colab": {
          "base_uri": "https://localhost:8080/",
          "height": 495
        },
        "outputId": "28202520-1e54-4370-e688-431ac875c8b4"
      },
      "outputs": [
        {
          "output_type": "stream",
          "name": "stdout",
          "text": [
            "              precision    recall  f1-score   support\n",
            "\n",
            "           0       0.91      0.93      0.92     17029\n",
            "           1       0.85      0.81      0.83      8363\n",
            "\n",
            "    accuracy                           0.89     25392\n",
            "   macro avg       0.88      0.87      0.87     25392\n",
            "weighted avg       0.89      0.89      0.89     25392\n",
            "\n"
          ]
        },
        {
          "output_type": "display_data",
          "data": {
            "image/png": "[encoded data removed]",
            "text/plain": [
              "<Figure size 576x360 with 2 Axes>"
            ]
          },
          "metadata": {
            "needs_background": "light"
          }
        }
      ],
      "source": [
        "#Make predictions on the scaled training data and check the performance (using metrics_score function)\n",
        "\n",
        "y_pred_train = knn.predict(X_train_scaled) \n",
        "metrics_score(y_train,y_pred_train)"
      ],
      "id": "d4c00c9e"
    },
    {
      "cell_type": "code",
      "execution_count": null,
      "metadata": {
        "id": "56508721",
        "colab": {
          "base_uri": "https://localhost:8080/",
          "height": 495
        },
        "outputId": "31e45222-2a28-45fc-cb95-5434489e5e54"
      },
      "outputs": [
        {
          "output_type": "stream",
          "name": "stdout",
          "text": [
            "              precision    recall  f1-score   support\n",
            "\n",
            "           0       0.83      0.52      0.64      7361\n",
            "           1       0.44      0.78      0.56      3522\n",
            "\n",
            "    accuracy                           0.61     10883\n",
            "   macro avg       0.63      0.65      0.60     10883\n",
            "weighted avg       0.70      0.61      0.62     10883\n",
            "\n"
          ]
        },
        {
          "output_type": "display_data",
          "data": {
            "image/png": "[encoded data removed]",
            "text/plain": [
              "<Figure size 576x360 with 2 Axes>"
            ]
          },
          "metadata": {
            "needs_background": "light"
          }
        }
      ],
      "source": [
        "#Make predictions on the scaled testing data and check the performance (using metrics_score function)\n",
        "y_pred_test = knn.predict(X_test)\n",
        "metrics_score(y_test,y_pred_test)"
      ],
      "id": "56508721"
    },
    {
      "cell_type": "markdown",
      "metadata": {
        "id": "3d595b8b"
      },
      "source": [
        "**Observations:**\n",
        "- Given the fact that this model seems to perform so well on the training data but so poorly in certain areas on the test data set, it is likely that this model is overfitting the data\n",
        "- Even so, it has the highest chance of all of the models (81% on training data, 78% on testing data) of detecting reservations that are likely to cancel"
      ],
      "id": "3d595b8b"
    },
    {
      "cell_type": "markdown",
      "metadata": {
        "id": "048b3836"
      },
      "source": [
        "#### Question 10: Write the conclusion on the key factors that are driving the cancellations and write your recommendations to the business on how can they minimize the number of cancellations. (5 Marks)"
      ],
      "id": "048b3836"
    },
    {
      "cell_type": "markdown",
      "metadata": {
        "id": "10d4b2d0"
      },
      "source": [
        "### Conclusion:\n",
        "\n",
        "Write your conclusion here\n",
        "\n",
        "- After looking at multiple models we were able to explore and determine the key features involved in the cancelation rate of the hotel reservations\n",
        "- The final model is a KNN classifier model"
      ],
      "id": "10d4b2d0"
    },
    {
      "cell_type": "markdown",
      "metadata": {
        "id": "0fbb7021"
      },
      "source": [
        "### Recommendations:\n",
        "\n",
        "Write your recommendations here\n",
        "- Based off the models we found that a couple of different features were important factors in determining whether or not a reservation is cancelled\n",
        "- Most important among them is that the reservation was placed online\n",
        "- The company might want to brainstorm ways to make it harder for folks who have made the reservation online to cancel\n",
        "- It might be worth even concidering adding in a cancellation fee in order to make it so that there are fewer cancellations\n",
        "- On the other hand, they could also add another option for the reservation to be updated to different dates free of charge so that the money isn't completely lost. This could be an option for reservations that are maybe at least 48 hours from the reservation date so that there is still time to fill the room\n",
        "- Another important indicator is that the reservation did not select a meal plan\n",
        "- It could be worth doing further investigation into what kinds of guests select the meal plan and how to attract more of those types of guests since they tend to not cancel"
      ],
      "id": "0fbb7021"
    },
    {
      "cell_type": "code",
      "source": [
        "%%shell\n",
        "jupyter nbconvert --to html /content/Finished_Learner_Notebook_Project_Classification_ML.ipynb"
      ],
      "metadata": {
        "colab": {
          "base_uri": "https://localhost:8080/"
        },
        "id": "rN-SsqT0zmGH",
        "outputId": "4202e406-2851-4dea-cef7-becafc06cfa7"
      },
      "id": "rN-SsqT0zmGH",
      "execution_count": null,
      "outputs": [
        {
          "output_type": "stream",
          "name": "stdout",
          "text": [
            "[NbConvertApp] Converting notebook /content/Finished_Learner_Notebook_Project_Classification_ML.ipynb to html\n",
            "[NbConvertApp] Writing 788952 bytes to /content/Finished_Learner_Notebook_Project_Classification_ML.html\n"
          ]
        },
        {
          "output_type": "execute_result",
          "data": {
            "text/plain": [
              ""
            ]
          },
          "metadata": {},
          "execution_count": 102
        }
      ]
    }
  ],
  "metadata": {
    "colab": {
      "name": "04 project classification ml.ipynb",
      "provenance": []
    },
    "kernelspec": {
      "display_name": "Python 3 (ipykernel)",
      "language": "python",
      "name": "python3"
    },
    "language_info": {
      "codemirror_mode": {
        "name": "ipython",
        "version": 3
      },
      "file_extension": ".py",
      "mimetype": "text/x-python",
      "name": "python",
      "nbconvert_exporter": "python",
      "pygments_lexer": "ipython3",
      "version": "3.8.8"
    }
  },
  "nbformat": 4,
  "nbformat_minor": 5
}
