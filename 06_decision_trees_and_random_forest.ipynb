{
  "cells": [
    {
      "cell_type": "markdown",
      "metadata": {
        "id": "0KhGE3JHG5Ni"
      },
      "source": [
        "# **Decision Trees and Random Forest - Predicting Potential Customers**\n",
        "\n",
        "-----------------------------\n",
        "\n",
        "**Author**: Ciara Adkins\n",
        "\n",
        "**Email**: adkins.ciara@gmail.com\n",
        "\n",
        "**LinkedIn**: https://www.linkedin.com/in/ciara-adkins/\n",
        "\n",
        "-----------------------------\n",
        "\n",
        "This is the project on classification using decision trees and random forests. \n",
        "\n",
        "Completed as a part of the MIT Applied Data Science course in the Spring of 2022. Full e-portfolio can be viewed here: https://eportfolio.mygreatlearning.com/ciara-adkins\n",
        "\n",
        "-----------------------------\n",
        "\n",
        "## Context\n",
        "\n",
        "The EdTech industry has been surging in the past decade immensely, and according to a forecast, the Online Education market would be worth $286.62bn by 2023 with a compound annual growth rate (CAGR) of 10.26% from 2018 to 2023. The modern era of online education has enforced a lot in its growth and expansion beyond any limit. Due to having many dominant features like ease of information sharing, personalized learning experience, transparency of assessment, etc, it is now preferable to traditional education. \n",
        "\n",
        "The online education sector has witnessed rapid growth and is attracting a lot of new customers. Due to this rapid growth, many new companies have emerged in this industry. With the availability and ease of use of digital marketing resources, companies can reach out to a wider audience with their offerings. The customers who show interest in these offerings are termed as **leads**. There are various sources of obtaining leads for Edtech companies, like\n",
        "\n",
        "* The customer interacts with the marketing front on social media or other online platforms. \n",
        "* The customer browses the website/app and downloads the brochure\n",
        "* The customer connects through emails for more information.\n",
        "\n",
        "The company then nurtures these leads and tries to convert them to paid customers. For this, the representative from the organization connects with the lead on call or through email to share further details.\n",
        "\n",
        "## Objective\n",
        "\n",
        "ExtraaLearn is an initial stage startup that offers programs on cutting-edge technologies to students and professionals to help them upskill/reskill. With a large number of leads being generated on a regular basis, one of the issues faced by ExtraaLearn is to identify which of the leads are more likely to convert so that they can allocate resources accordingly. You, as a data scientist at ExtraaLearn, have been provided the leads data to:\n",
        "* Analyze and build an ML model to help identify which leads are more likely to convert to paid customers, \n",
        "* Find the factors driving the lead conversion process\n",
        "* Create a profile of the leads which are likely to convert\n",
        "\n",
        "\n",
        "## Data Description\n",
        "\n",
        "The data contains the different attributes of leads and their interaction details with ExtraaLearn. The detailed data dictionary is given below.\n",
        "\n",
        "\n",
        "**Data Dictionary**\n",
        "* ID: ID of the lead\n",
        "* age: Age of the lead\n",
        "* current_occupation: Current occupation of the lead. Values include 'Professional','Unemployed',and 'Student'\n",
        "* first_interaction: How did the lead first interact with ExtraaLearn. Values include 'Website', 'Mobile App'\n",
        "* profile_completed: What percentage of the profile has been filled by the lead on the website/mobile app. Values include Low - (0-50%), Medium - (50-75%), High (75-100%)\n",
        "* website_visits: How many times has a lead visited the website\n",
        "* time_spent_on_website: Total time spent on the website\n",
        "* page_views_per_visit: Average number of pages on the website viewed during the visits.\n",
        "* last_activity: Last interaction between the lead and ExtraaLearn. \n",
        "    * Email Activity: Seeking details about the program through email, Representative shared information with a lead like a brochure of program, etc.\n",
        "    * Phone Activity: Had a Phone Conversation with a representative, Had a conversation over SMS with a representative, etc.\n",
        "    * Website Activity: Interacted on live chat with a representative, Updated profile on the website, etc.\n",
        "\n",
        "* print_media_type1: Flag indicating whether the lead had seen the ad of ExtraaLearn in the Newspaper.\n",
        "* print_media_type2: Flag indicating whether the lead had seen the ad of ExtraaLearn in the Magazine.\n",
        "* digital_media: Flag indicating whether the lead had seen the ad of ExtraaLearn on the digital platforms.\n",
        "* educational_channels: Flag indicating whether the lead had heard about ExtraaLearn in the education channels like online forums, discussion threads, educational websites, etc.\n",
        "* referral: Flag indicating whether the lead had heard about ExtraaLearn through reference.\n",
        "* status: Flag indicating whether the lead was converted to a paid customer or not."
      ],
      "id": "0KhGE3JHG5Ni"
    },
    {
      "cell_type": "markdown",
      "metadata": {
        "id": "x7IpO2PWG5No"
      },
      "source": [
        "### Importing the necessary libraries"
      ],
      "id": "x7IpO2PWG5No"
    },
    {
      "cell_type": "code",
      "execution_count": 1,
      "metadata": {
        "id": "rFc2ccgeG5Nq"
      },
      "outputs": [],
      "source": [
        "import warnings\n",
        "warnings.filterwarnings(\"ignore\")\n",
        "\n",
        "#Libraries for data manipulation and visualization\n",
        "import pandas as pd\n",
        "import numpy as np\n",
        "import matplotlib.pyplot as plt\n",
        "import seaborn as sns\n",
        "\n",
        "from sklearn.model_selection import train_test_split\n",
        "\n",
        "#Algorithms to use\n",
        "from sklearn.tree import DecisionTreeClassifier\n",
        "from sklearn import tree\n",
        "from sklearn.ensemble import RandomForestClassifier\n",
        "\n",
        "#Metrics to evaluate the model\n",
        "from sklearn.metrics import confusion_matrix, classification_report, recall_score\n",
        "from sklearn import metrics\n",
        "\n",
        "#For hyperparameter tuning\n",
        "from sklearn.model_selection import GridSearchCV\n",
        "\n",
        "import warnings\n",
        "warnings.filterwarnings(\"ignore\")"
      ],
      "id": "rFc2ccgeG5Nq"
    },
    {
      "cell_type": "markdown",
      "metadata": {
        "id": "6X56-wToG5Nr"
      },
      "source": [
        "### Import Dataset"
      ],
      "id": "6X56-wToG5Nr"
    },
    {
      "cell_type": "code",
      "source": [
        "from google.colab import files\n",
        "uploaded = files.upload()"
      ],
      "metadata": {
        "colab": {
          "resources": {
            "http://localhost:8080/nbextensions/google.colab/files.js": {
              "data": "Ly8gQ29weXJpZ2h0IDIwMTcgR29vZ2xlIExMQwovLwovLyBMaWNlbnNlZCB1bmRlciB0aGUgQXBhY2hlIExpY2Vuc2UsIFZlcnNpb24gMi4wICh0aGUgIkxpY2Vuc2UiKTsKLy8geW91IG1heSBub3QgdXNlIHRoaXMgZmlsZSBleGNlcHQgaW4gY29tcGxpYW5jZSB3aXRoIHRoZSBMaWNlbnNlLgovLyBZb3UgbWF5IG9idGFpbiBhIGNvcHkgb2YgdGhlIExpY2Vuc2UgYXQKLy8KLy8gICAgICBodHRwOi8vd3d3LmFwYWNoZS5vcmcvbGljZW5zZXMvTElDRU5TRS0yLjAKLy8KLy8gVW5sZXNzIHJlcXVpcmVkIGJ5IGFwcGxpY2FibGUgbGF3IG9yIGFncmVlZCB0byBpbiB3cml0aW5nLCBzb2Z0d2FyZQovLyBkaXN0cmlidXRlZCB1bmRlciB0aGUgTGljZW5zZSBpcyBkaXN0cmlidXRlZCBvbiBhbiAiQVMgSVMiIEJBU0lTLAovLyBXSVRIT1VUIFdBUlJBTlRJRVMgT1IgQ09ORElUSU9OUyBPRiBBTlkgS0lORCwgZWl0aGVyIGV4cHJlc3Mgb3IgaW1wbGllZC4KLy8gU2VlIHRoZSBMaWNlbnNlIGZvciB0aGUgc3BlY2lmaWMgbGFuZ3VhZ2UgZ292ZXJuaW5nIHBlcm1pc3Npb25zIGFuZAovLyBsaW1pdGF0aW9ucyB1bmRlciB0aGUgTGljZW5zZS4KCi8qKgogKiBAZmlsZW92ZXJ2aWV3IEhlbHBlcnMgZm9yIGdvb2dsZS5jb2xhYiBQeXRob24gbW9kdWxlLgogKi8KKGZ1bmN0aW9uKHNjb3BlKSB7CmZ1bmN0aW9uIHNwYW4odGV4dCwgc3R5bGVBdHRyaWJ1dGVzID0ge30pIHsKICBjb25zdCBlbGVtZW50ID0gZG9jdW1lbnQuY3JlYXRlRWxlbWVudCgnc3BhbicpOwogIGVsZW1lbnQudGV4dENvbnRlbnQgPSB0ZXh0OwogIGZvciAoY29uc3Qga2V5IG9mIE9iamVjdC5rZXlzKHN0eWxlQXR0cmlidXRlcykpIHsKICAgIGVsZW1lbnQuc3R5bGVba2V5XSA9IHN0eWxlQXR0cmlidXRlc1trZXldOwogIH0KICByZXR1cm4gZWxlbWVudDsKfQoKLy8gTWF4IG51bWJlciBvZiBieXRlcyB3aGljaCB3aWxsIGJlIHVwbG9hZGVkIGF0IGEgdGltZS4KY29uc3QgTUFYX1BBWUxPQURfU0laRSA9IDEwMCAqIDEwMjQ7CgpmdW5jdGlvbiBfdXBsb2FkRmlsZXMoaW5wdXRJZCwgb3V0cHV0SWQpIHsKICBjb25zdCBzdGVwcyA9IHVwbG9hZEZpbGVzU3RlcChpbnB1dElkLCBvdXRwdXRJZCk7CiAgY29uc3Qgb3V0cHV0RWxlbWVudCA9IGRvY3VtZW50LmdldEVsZW1lbnRCeUlkKG91dHB1dElkKTsKICAvLyBDYWNoZSBzdGVwcyBvbiB0aGUgb3V0cHV0RWxlbWVudCB0byBtYWtlIGl0IGF2YWlsYWJsZSBmb3IgdGhlIG5leHQgY2FsbAogIC8vIHRvIHVwbG9hZEZpbGVzQ29udGludWUgZnJvbSBQeXRob24uCiAgb3V0cHV0RWxlbWVudC5zdGVwcyA9IHN0ZXBzOwoKICByZXR1cm4gX3VwbG9hZEZpbGVzQ29udGludWUob3V0cHV0SWQpOwp9CgovLyBUaGlzIGlzIHJvdWdobHkgYW4gYXN5bmMgZ2VuZXJhdG9yIChub3Qgc3VwcG9ydGVkIGluIHRoZSBicm93c2VyIHlldCksCi8vIHdoZXJlIHRoZXJlIGFyZSBtdWx0aXBsZSBhc3luY2hyb25vdXMgc3RlcHMgYW5kIHRoZSBQeXRob24gc2lkZSBpcyBnb2luZwovLyB0byBwb2xsIGZvciBjb21wbGV0aW9uIG9mIGVhY2ggc3RlcC4KLy8gVGhpcyB1c2VzIGEgUHJvbWlzZSB0byBibG9jayB0aGUgcHl0aG9uIHNpZGUgb24gY29tcGxldGlvbiBvZiBlYWNoIHN0ZXAsCi8vIHRoZW4gcGFzc2VzIHRoZSByZXN1bHQgb2YgdGhlIHByZXZpb3VzIHN0ZXAgYXMgdGhlIGlucHV0IHRvIHRoZSBuZXh0IHN0ZXAuCmZ1bmN0aW9uIF91cGxvYWRGaWxlc0NvbnRpbnVlKG91dHB1dElkKSB7CiAgY29uc3Qgb3V0cHV0RWxlbWVudCA9IGRvY3VtZW50LmdldEVsZW1lbnRCeUlkKG91dHB1dElkKTsKICBjb25zdCBzdGVwcyA9IG91dHB1dEVsZW1lbnQuc3RlcHM7CgogIGNvbnN0IG5leHQgPSBzdGVwcy5uZXh0KG91dHB1dEVsZW1lbnQubGFzdFByb21pc2VWYWx1ZSk7CiAgcmV0dXJuIFByb21pc2UucmVzb2x2ZShuZXh0LnZhbHVlLnByb21pc2UpLnRoZW4oKHZhbHVlKSA9PiB7CiAgICAvLyBDYWNoZSB0aGUgbGFzdCBwcm9taXNlIHZhbHVlIHRvIG1ha2UgaXQgYXZhaWxhYmxlIHRvIHRoZSBuZXh0CiAgICAvLyBzdGVwIG9mIHRoZSBnZW5lcmF0b3IuCiAgICBvdXRwdXRFbGVtZW50Lmxhc3RQcm9taXNlVmFsdWUgPSB2YWx1ZTsKICAgIHJldHVybiBuZXh0LnZhbHVlLnJlc3BvbnNlOwogIH0pOwp9CgovKioKICogR2VuZXJhdG9yIGZ1bmN0aW9uIHdoaWNoIGlzIGNhbGxlZCBiZXR3ZWVuIGVhY2ggYXN5bmMgc3RlcCBvZiB0aGUgdXBsb2FkCiAqIHByb2Nlc3MuCiAqIEBwYXJhbSB7c3RyaW5nfSBpbnB1dElkIEVsZW1lbnQgSUQgb2YgdGhlIGlucHV0IGZpbGUgcGlja2VyIGVsZW1lbnQuCiAqIEBwYXJhbSB7c3RyaW5nfSBvdXRwdXRJZCBFbGVtZW50IElEIG9mIHRoZSBvdXRwdXQgZGlzcGxheS4KICogQHJldHVybiB7IUl0ZXJhYmxlPCFPYmplY3Q+fSBJdGVyYWJsZSBvZiBuZXh0IHN0ZXBzLgogKi8KZnVuY3Rpb24qIHVwbG9hZEZpbGVzU3RlcChpbnB1dElkLCBvdXRwdXRJZCkgewogIGNvbnN0IGlucHV0RWxlbWVudCA9IGRvY3VtZW50LmdldEVsZW1lbnRCeUlkKGlucHV0SWQpOwogIGlucHV0RWxlbWVudC5kaXNhYmxlZCA9IGZhbHNlOwoKICBjb25zdCBvdXRwdXRFbGVtZW50ID0gZG9jdW1lbnQuZ2V0RWxlbWVudEJ5SWQob3V0cHV0SWQpOwogIG91dHB1dEVsZW1lbnQuaW5uZXJIVE1MID0gJyc7CgogIGNvbnN0IHBpY2tlZFByb21pc2UgPSBuZXcgUHJvbWlzZSgocmVzb2x2ZSkgPT4gewogICAgaW5wdXRFbGVtZW50LmFkZEV2ZW50TGlzdGVuZXIoJ2NoYW5nZScsIChlKSA9PiB7CiAgICAgIHJlc29sdmUoZS50YXJnZXQuZmlsZXMpOwogICAgfSk7CiAgfSk7CgogIGNvbnN0IGNhbmNlbCA9IGRvY3VtZW50LmNyZWF0ZUVsZW1lbnQoJ2J1dHRvbicpOwogIGlucHV0RWxlbWVudC5wYXJlbnRFbGVtZW50LmFwcGVuZENoaWxkKGNhbmNlbCk7CiAgY2FuY2VsLnRleHRDb250ZW50ID0gJ0NhbmNlbCB1cGxvYWQnOwogIGNvbnN0IGNhbmNlbFByb21pc2UgPSBuZXcgUHJvbWlzZSgocmVzb2x2ZSkgPT4gewogICAgY2FuY2VsLm9uY2xpY2sgPSAoKSA9PiB7CiAgICAgIHJlc29sdmUobnVsbCk7CiAgICB9OwogIH0pOwoKICAvLyBXYWl0IGZvciB0aGUgdXNlciB0byBwaWNrIHRoZSBmaWxlcy4KICBjb25zdCBmaWxlcyA9IHlpZWxkIHsKICAgIHByb21pc2U6IFByb21pc2UucmFjZShbcGlja2VkUHJvbWlzZSwgY2FuY2VsUHJvbWlzZV0pLAogICAgcmVzcG9uc2U6IHsKICAgICAgYWN0aW9uOiAnc3RhcnRpbmcnLAogICAgfQogIH07CgogIGNhbmNlbC5yZW1vdmUoKTsKCiAgLy8gRGlzYWJsZSB0aGUgaW5wdXQgZWxlbWVudCBzaW5jZSBmdXJ0aGVyIHBpY2tzIGFyZSBub3QgYWxsb3dlZC4KICBpbnB1dEVsZW1lbnQuZGlzYWJsZWQgPSB0cnVlOwoKICBpZiAoIWZpbGVzKSB7CiAgICByZXR1cm4gewogICAgICByZXNwb25zZTogewogICAgICAgIGFjdGlvbjogJ2NvbXBsZXRlJywKICAgICAgfQogICAgfTsKICB9CgogIGZvciAoY29uc3QgZmlsZSBvZiBmaWxlcykgewogICAgY29uc3QgbGkgPSBkb2N1bWVudC5jcmVhdGVFbGVtZW50KCdsaScpOwogICAgbGkuYXBwZW5kKHNwYW4oZmlsZS5uYW1lLCB7Zm9udFdlaWdodDogJ2JvbGQnfSkpOwogICAgbGkuYXBwZW5kKHNwYW4oCiAgICAgICAgYCgke2ZpbGUudHlwZSB8fCAnbi9hJ30pIC0gJHtmaWxlLnNpemV9IGJ5dGVzLCBgICsKICAgICAgICBgbGFzdCBtb2RpZmllZDogJHsKICAgICAgICAgICAgZmlsZS5sYXN0TW9kaWZpZWREYXRlID8gZmlsZS5sYXN0TW9kaWZpZWREYXRlLnRvTG9jYWxlRGF0ZVN0cmluZygpIDoKICAgICAgICAgICAgICAgICAgICAgICAgICAgICAgICAgICAgJ24vYSd9IC0gYCkpOwogICAgY29uc3QgcGVyY2VudCA9IHNwYW4oJzAlIGRvbmUnKTsKICAgIGxpLmFwcGVuZENoaWxkKHBlcmNlbnQpOwoKICAgIG91dHB1dEVsZW1lbnQuYXBwZW5kQ2hpbGQobGkpOwoKICAgIGNvbnN0IGZpbGVEYXRhUHJvbWlzZSA9IG5ldyBQcm9taXNlKChyZXNvbHZlKSA9PiB7CiAgICAgIGNvbnN0IHJlYWRlciA9IG5ldyBGaWxlUmVhZGVyKCk7CiAgICAgIHJlYWRlci5vbmxvYWQgPSAoZSkgPT4gewogICAgICAgIHJlc29sdmUoZS50YXJnZXQucmVzdWx0KTsKICAgICAgfTsKICAgICAgcmVhZGVyLnJlYWRBc0FycmF5QnVmZmVyKGZpbGUpOwogICAgfSk7CiAgICAvLyBXYWl0IGZvciB0aGUgZGF0YSB0byBiZSByZWFkeS4KICAgIGxldCBmaWxlRGF0YSA9IHlpZWxkIHsKICAgICAgcHJvbWlzZTogZmlsZURhdGFQcm9taXNlLAogICAgICByZXNwb25zZTogewogICAgICAgIGFjdGlvbjogJ2NvbnRpbnVlJywKICAgICAgfQogICAgfTsKCiAgICAvLyBVc2UgYSBjaHVua2VkIHNlbmRpbmcgdG8gYXZvaWQgbWVzc2FnZSBzaXplIGxpbWl0cy4gU2VlIGIvNjIxMTU2NjAuCiAgICBsZXQgcG9zaXRpb24gPSAwOwogICAgZG8gewogICAgICBjb25zdCBsZW5ndGggPSBNYXRoLm1pbihmaWxlRGF0YS5ieXRlTGVuZ3RoIC0gcG9zaXRpb24sIE1BWF9QQVlMT0FEX1NJWkUpOwogICAgICBjb25zdCBjaHVuayA9IG5ldyBVaW50OEFycmF5KGZpbGVEYXRhLCBwb3NpdGlvbiwgbGVuZ3RoKTsKICAgICAgcG9zaXRpb24gKz0gbGVuZ3RoOwoKICAgICAgY29uc3QgYmFzZTY0ID0gYnRvYShTdHJpbmcuZnJvbUNoYXJDb2RlLmFwcGx5KG51bGwsIGNodW5rKSk7CiAgICAgIHlpZWxkIHsKICAgICAgICByZXNwb25zZTogewogICAgICAgICAgYWN0aW9uOiAnYXBwZW5kJywKICAgICAgICAgIGZpbGU6IGZpbGUubmFtZSwKICAgICAgICAgIGRhdGE6IGJhc2U2NCwKICAgICAgICB9LAogICAgICB9OwoKICAgICAgbGV0IHBlcmNlbnREb25lID0gZmlsZURhdGEuYnl0ZUxlbmd0aCA9PT0gMCA/CiAgICAgICAgICAxMDAgOgogICAgICAgICAgTWF0aC5yb3VuZCgocG9zaXRpb24gLyBmaWxlRGF0YS5ieXRlTGVuZ3RoKSAqIDEwMCk7CiAgICAgIHBlcmNlbnQudGV4dENvbnRlbnQgPSBgJHtwZXJjZW50RG9uZX0lIGRvbmVgOwoKICAgIH0gd2hpbGUgKHBvc2l0aW9uIDwgZmlsZURhdGEuYnl0ZUxlbmd0aCk7CiAgfQoKICAvLyBBbGwgZG9uZS4KICB5aWVsZCB7CiAgICByZXNwb25zZTogewogICAgICBhY3Rpb246ICdjb21wbGV0ZScsCiAgICB9CiAgfTsKfQoKc2NvcGUuZ29vZ2xlID0gc2NvcGUuZ29vZ2xlIHx8IHt9OwpzY29wZS5nb29nbGUuY29sYWIgPSBzY29wZS5nb29nbGUuY29sYWIgfHwge307CnNjb3BlLmdvb2dsZS5jb2xhYi5fZmlsZXMgPSB7CiAgX3VwbG9hZEZpbGVzLAogIF91cGxvYWRGaWxlc0NvbnRpbnVlLAp9Owp9KShzZWxmKTsK",
              "ok": true,
              "headers": [
                [
                  "content-type",
                  "application/javascript"
                ]
              ],
              "status": 200,
              "status_text": ""
            }
          },
          "base_uri": "https://localhost:8080/",
          "height": 74
        },
        "id": "oMlUbLbfH_ZI",
        "outputId": "cf956694-9f83-4779-c07f-79e404ebd2ae"
      },
      "id": "oMlUbLbfH_ZI",
      "execution_count": 2,
      "outputs": [
        {
          "output_type": "display_data",
          "data": {
            "text/plain": [
              "<IPython.core.display.HTML object>"
            ],
            "text/html": [
              "\n",
              "     <input type=\"file\" id=\"files-3e76e553-2aff-480f-ab88-3920c3648345\" name=\"files[]\" multiple disabled\n",
              "        style=\"border:none\" />\n",
              "     <output id=\"result-3e76e553-2aff-480f-ab88-3920c3648345\">\n",
              "      Upload widget is only available when the cell has been executed in the\n",
              "      current browser session. Please rerun this cell to enable.\n",
              "      </output>\n",
              "      <script src=\"/nbextensions/google.colab/files.js\"></script> "
            ]
          },
          "metadata": {}
        },
        {
          "output_type": "stream",
          "name": "stdout",
          "text": [
            "Saving ExtraaLearn.csv to ExtraaLearn.csv\n"
          ]
        }
      ]
    },
    {
      "cell_type": "code",
      "execution_count": 3,
      "metadata": {
        "id": "bSrWKXhvG5Ns"
      },
      "outputs": [],
      "source": [
        "learn = pd.read_csv(\"ExtraaLearn.csv\")"
      ],
      "id": "bSrWKXhvG5Ns"
    },
    {
      "cell_type": "code",
      "execution_count": 4,
      "metadata": {
        "id": "fMPR1F9yG5Ns"
      },
      "outputs": [],
      "source": [
        "# copying data to another variable to avoid any changes to original data\n",
        "data = learn.copy()"
      ],
      "id": "fMPR1F9yG5Ns"
    },
    {
      "cell_type": "markdown",
      "metadata": {
        "id": "JsjDBHMsG5Ns"
      },
      "source": [
        "### View the first and last 5 rows of the dataset"
      ],
      "id": "JsjDBHMsG5Ns"
    },
    {
      "cell_type": "code",
      "execution_count": 5,
      "metadata": {
        "colab": {
          "base_uri": "https://localhost:8080/",
          "height": 270
        },
        "id": "IPtLSz3UG5Nt",
        "outputId": "94e0dc03-7a14-400b-cb46-55a76b05b90a"
      },
      "outputs": [
        {
          "output_type": "execute_result",
          "data": {
            "text/plain": [
              "       ID  age current_occupation first_interaction profile_completed  \\\n",
              "0  EXT001   57         Unemployed           Website              High   \n",
              "1  EXT002   56       Professional        Mobile App            Medium   \n",
              "2  EXT003   52       Professional           Website            Medium   \n",
              "3  EXT004   53         Unemployed           Website              High   \n",
              "4  EXT005   23            Student           Website              High   \n",
              "\n",
              "   website_visits  time_spent_on_website  page_views_per_visit  \\\n",
              "0               7                   1639                 1.861   \n",
              "1               2                     83                 0.320   \n",
              "2               3                    330                 0.074   \n",
              "3               4                    464                 2.057   \n",
              "4               4                    600                16.914   \n",
              "\n",
              "      last_activity print_media_type1 print_media_type2 digital_media  \\\n",
              "0  Website Activity               Yes                No           Yes   \n",
              "1  Website Activity                No                No            No   \n",
              "2  Website Activity                No                No           Yes   \n",
              "3  Website Activity                No                No            No   \n",
              "4    Email Activity                No                No            No   \n",
              "\n",
              "  educational_channels referral  status  \n",
              "0                   No       No       1  \n",
              "1                  Yes       No       0  \n",
              "2                   No       No       0  \n",
              "3                   No       No       1  \n",
              "4                   No       No       0  "
            ],
            "text/html": [
              "\n",
              "  <div id=\"df-49cfe6d2-1e8a-458f-aa88-4e524fe051c0\">\n",
              "    <div class=\"colab-df-container\">\n",
              "      <div>\n",
              "<style scoped>\n",
              "    .dataframe tbody tr th:only-of-type {\n",
              "        vertical-align: middle;\n",
              "    }\n",
              "\n",
              "    .dataframe tbody tr th {\n",
              "        vertical-align: top;\n",
              "    }\n",
              "\n",
              "    .dataframe thead th {\n",
              "        text-align: right;\n",
              "    }\n",
              "</style>\n",
              "<table border=\"1\" class=\"dataframe\">\n",
              "  <thead>\n",
              "    <tr style=\"text-align: right;\">\n",
              "      <th></th>\n",
              "      <th>ID</th>\n",
              "      <th>age</th>\n",
              "      <th>current_occupation</th>\n",
              "      <th>first_interaction</th>\n",
              "      <th>profile_completed</th>\n",
              "      <th>website_visits</th>\n",
              "      <th>time_spent_on_website</th>\n",
              "      <th>page_views_per_visit</th>\n",
              "      <th>last_activity</th>\n",
              "      <th>print_media_type1</th>\n",
              "      <th>print_media_type2</th>\n",
              "      <th>digital_media</th>\n",
              "      <th>educational_channels</th>\n",
              "      <th>referral</th>\n",
              "      <th>status</th>\n",
              "    </tr>\n",
              "  </thead>\n",
              "  <tbody>\n",
              "    <tr>\n",
              "      <th>0</th>\n",
              "      <td>EXT001</td>\n",
              "      <td>57</td>\n",
              "      <td>Unemployed</td>\n",
              "      <td>Website</td>\n",
              "      <td>High</td>\n",
              "      <td>7</td>\n",
              "      <td>1639</td>\n",
              "      <td>1.861</td>\n",
              "      <td>Website Activity</td>\n",
              "      <td>Yes</td>\n",
              "      <td>No</td>\n",
              "      <td>Yes</td>\n",
              "      <td>No</td>\n",
              "      <td>No</td>\n",
              "      <td>1</td>\n",
              "    </tr>\n",
              "    <tr>\n",
              "      <th>1</th>\n",
              "      <td>EXT002</td>\n",
              "      <td>56</td>\n",
              "      <td>Professional</td>\n",
              "      <td>Mobile App</td>\n",
              "      <td>Medium</td>\n",
              "      <td>2</td>\n",
              "      <td>83</td>\n",
              "      <td>0.320</td>\n",
              "      <td>Website Activity</td>\n",
              "      <td>No</td>\n",
              "      <td>No</td>\n",
              "      <td>No</td>\n",
              "      <td>Yes</td>\n",
              "      <td>No</td>\n",
              "      <td>0</td>\n",
              "    </tr>\n",
              "    <tr>\n",
              "      <th>2</th>\n",
              "      <td>EXT003</td>\n",
              "      <td>52</td>\n",
              "      <td>Professional</td>\n",
              "      <td>Website</td>\n",
              "      <td>Medium</td>\n",
              "      <td>3</td>\n",
              "      <td>330</td>\n",
              "      <td>0.074</td>\n",
              "      <td>Website Activity</td>\n",
              "      <td>No</td>\n",
              "      <td>No</td>\n",
              "      <td>Yes</td>\n",
              "      <td>No</td>\n",
              "      <td>No</td>\n",
              "      <td>0</td>\n",
              "    </tr>\n",
              "    <tr>\n",
              "      <th>3</th>\n",
              "      <td>EXT004</td>\n",
              "      <td>53</td>\n",
              "      <td>Unemployed</td>\n",
              "      <td>Website</td>\n",
              "      <td>High</td>\n",
              "      <td>4</td>\n",
              "      <td>464</td>\n",
              "      <td>2.057</td>\n",
              "      <td>Website Activity</td>\n",
              "      <td>No</td>\n",
              "      <td>No</td>\n",
              "      <td>No</td>\n",
              "      <td>No</td>\n",
              "      <td>No</td>\n",
              "      <td>1</td>\n",
              "    </tr>\n",
              "    <tr>\n",
              "      <th>4</th>\n",
              "      <td>EXT005</td>\n",
              "      <td>23</td>\n",
              "      <td>Student</td>\n",
              "      <td>Website</td>\n",
              "      <td>High</td>\n",
              "      <td>4</td>\n",
              "      <td>600</td>\n",
              "      <td>16.914</td>\n",
              "      <td>Email Activity</td>\n",
              "      <td>No</td>\n",
              "      <td>No</td>\n",
              "      <td>No</td>\n",
              "      <td>No</td>\n",
              "      <td>No</td>\n",
              "      <td>0</td>\n",
              "    </tr>\n",
              "  </tbody>\n",
              "</table>\n",
              "</div>\n",
              "      <button class=\"colab-df-convert\" onclick=\"convertToInteractive('df-49cfe6d2-1e8a-458f-aa88-4e524fe051c0')\"\n",
              "              title=\"Convert this dataframe to an interactive table.\"\n",
              "              style=\"display:none;\">\n",
              "        \n",
              "  <svg xmlns=\"http://www.w3.org/2000/svg\" height=\"24px\"viewBox=\"0 0 24 24\"\n",
              "       width=\"24px\">\n",
              "    <path d=\"M0 0h24v24H0V0z\" fill=\"none\"/>\n",
              "    <path d=\"M18.56 5.44l.94 2.06.94-2.06 2.06-.94-2.06-.94-.94-2.06-.94 2.06-2.06.94zm-11 1L8.5 8.5l.94-2.06 2.06-.94-2.06-.94L8.5 2.5l-.94 2.06-2.06.94zm10 10l.94 2.06.94-2.06 2.06-.94-2.06-.94-.94-2.06-.94 2.06-2.06.94z\"/><path d=\"M17.41 7.96l-1.37-1.37c-.4-.4-.92-.59-1.43-.59-.52 0-1.04.2-1.43.59L10.3 9.45l-7.72 7.72c-.78.78-.78 2.05 0 2.83L4 21.41c.39.39.9.59 1.41.59.51 0 1.02-.2 1.41-.59l7.78-7.78 2.81-2.81c.8-.78.8-2.07 0-2.86zM5.41 20L4 18.59l7.72-7.72 1.47 1.35L5.41 20z\"/>\n",
              "  </svg>\n",
              "      </button>\n",
              "      \n",
              "  <style>\n",
              "    .colab-df-container {\n",
              "      display:flex;\n",
              "      flex-wrap:wrap;\n",
              "      gap: 12px;\n",
              "    }\n",
              "\n",
              "    .colab-df-convert {\n",
              "      background-color: #E8F0FE;\n",
              "      border: none;\n",
              "      border-radius: 50%;\n",
              "      cursor: pointer;\n",
              "      display: none;\n",
              "      fill: #1967D2;\n",
              "      height: 32px;\n",
              "      padding: 0 0 0 0;\n",
              "      width: 32px;\n",
              "    }\n",
              "\n",
              "    .colab-df-convert:hover {\n",
              "      background-color: #E2EBFA;\n",
              "      box-shadow: 0px 1px 2px rgba(60, 64, 67, 0.3), 0px 1px 3px 1px rgba(60, 64, 67, 0.15);\n",
              "      fill: #174EA6;\n",
              "    }\n",
              "\n",
              "    [theme=dark] .colab-df-convert {\n",
              "      background-color: #3B4455;\n",
              "      fill: #D2E3FC;\n",
              "    }\n",
              "\n",
              "    [theme=dark] .colab-df-convert:hover {\n",
              "      background-color: #434B5C;\n",
              "      box-shadow: 0px 1px 3px 1px rgba(0, 0, 0, 0.15);\n",
              "      filter: drop-shadow(0px 1px 2px rgba(0, 0, 0, 0.3));\n",
              "      fill: #FFFFFF;\n",
              "    }\n",
              "  </style>\n",
              "\n",
              "      <script>\n",
              "        const buttonEl =\n",
              "          document.querySelector('#df-49cfe6d2-1e8a-458f-aa88-4e524fe051c0 button.colab-df-convert');\n",
              "        buttonEl.style.display =\n",
              "          google.colab.kernel.accessAllowed ? 'block' : 'none';\n",
              "\n",
              "        async function convertToInteractive(key) {\n",
              "          const element = document.querySelector('#df-49cfe6d2-1e8a-458f-aa88-4e524fe051c0');\n",
              "          const dataTable =\n",
              "            await google.colab.kernel.invokeFunction('convertToInteractive',\n",
              "                                                     [key], {});\n",
              "          if (!dataTable) return;\n",
              "\n",
              "          const docLinkHtml = 'Like what you see? Visit the ' +\n",
              "            '<a target=\"_blank\" href=https://colab.research.google.com/notebooks/data_table.ipynb>data table notebook</a>'\n",
              "            + ' to learn more about interactive tables.';\n",
              "          element.innerHTML = '';\n",
              "          dataTable['output_type'] = 'display_data';\n",
              "          await google.colab.output.renderOutput(dataTable, element);\n",
              "          const docLink = document.createElement('div');\n",
              "          docLink.innerHTML = docLinkHtml;\n",
              "          element.appendChild(docLink);\n",
              "        }\n",
              "      </script>\n",
              "    </div>\n",
              "  </div>\n",
              "  "
            ]
          },
          "metadata": {},
          "execution_count": 5
        }
      ],
      "source": [
        "data.head()"
      ],
      "id": "IPtLSz3UG5Nt"
    },
    {
      "cell_type": "code",
      "execution_count": 6,
      "metadata": {
        "colab": {
          "base_uri": "https://localhost:8080/",
          "height": 270
        },
        "id": "sdrYvViaG5Nu",
        "outputId": "1b01029f-cc2a-4ba0-ff24-e466a9f80e2d"
      },
      "outputs": [
        {
          "output_type": "execute_result",
          "data": {
            "text/plain": [
              "           ID  age current_occupation first_interaction profile_completed  \\\n",
              "4607  EXT4608   35         Unemployed        Mobile App            Medium   \n",
              "4608  EXT4609   55       Professional        Mobile App            Medium   \n",
              "4609  EXT4610   58       Professional           Website              High   \n",
              "4610  EXT4611   57       Professional        Mobile App            Medium   \n",
              "4611  EXT4612   55       Professional           Website            Medium   \n",
              "\n",
              "      website_visits  time_spent_on_website  page_views_per_visit  \\\n",
              "4607              15                    360                 2.170   \n",
              "4608               8                   2327                 5.393   \n",
              "4609               2                    212                 2.692   \n",
              "4610               1                    154                 3.879   \n",
              "4611               4                   2290                 2.075   \n",
              "\n",
              "         last_activity print_media_type1 print_media_type2 digital_media  \\\n",
              "4607    Phone Activity                No                No            No   \n",
              "4608    Email Activity                No                No            No   \n",
              "4609    Email Activity                No                No            No   \n",
              "4610  Website Activity               Yes                No            No   \n",
              "4611    Phone Activity                No                No            No   \n",
              "\n",
              "     educational_channels referral  status  \n",
              "4607                  Yes       No       0  \n",
              "4608                   No       No       0  \n",
              "4609                   No       No       1  \n",
              "4610                   No       No       0  \n",
              "4611                   No       No       0  "
            ],
            "text/html": [
              "\n",
              "  <div id=\"df-05dd3929-8871-4585-993d-4e24a285ec08\">\n",
              "    <div class=\"colab-df-container\">\n",
              "      <div>\n",
              "<style scoped>\n",
              "    .dataframe tbody tr th:only-of-type {\n",
              "        vertical-align: middle;\n",
              "    }\n",
              "\n",
              "    .dataframe tbody tr th {\n",
              "        vertical-align: top;\n",
              "    }\n",
              "\n",
              "    .dataframe thead th {\n",
              "        text-align: right;\n",
              "    }\n",
              "</style>\n",
              "<table border=\"1\" class=\"dataframe\">\n",
              "  <thead>\n",
              "    <tr style=\"text-align: right;\">\n",
              "      <th></th>\n",
              "      <th>ID</th>\n",
              "      <th>age</th>\n",
              "      <th>current_occupation</th>\n",
              "      <th>first_interaction</th>\n",
              "      <th>profile_completed</th>\n",
              "      <th>website_visits</th>\n",
              "      <th>time_spent_on_website</th>\n",
              "      <th>page_views_per_visit</th>\n",
              "      <th>last_activity</th>\n",
              "      <th>print_media_type1</th>\n",
              "      <th>print_media_type2</th>\n",
              "      <th>digital_media</th>\n",
              "      <th>educational_channels</th>\n",
              "      <th>referral</th>\n",
              "      <th>status</th>\n",
              "    </tr>\n",
              "  </thead>\n",
              "  <tbody>\n",
              "    <tr>\n",
              "      <th>4607</th>\n",
              "      <td>EXT4608</td>\n",
              "      <td>35</td>\n",
              "      <td>Unemployed</td>\n",
              "      <td>Mobile App</td>\n",
              "      <td>Medium</td>\n",
              "      <td>15</td>\n",
              "      <td>360</td>\n",
              "      <td>2.170</td>\n",
              "      <td>Phone Activity</td>\n",
              "      <td>No</td>\n",
              "      <td>No</td>\n",
              "      <td>No</td>\n",
              "      <td>Yes</td>\n",
              "      <td>No</td>\n",
              "      <td>0</td>\n",
              "    </tr>\n",
              "    <tr>\n",
              "      <th>4608</th>\n",
              "      <td>EXT4609</td>\n",
              "      <td>55</td>\n",
              "      <td>Professional</td>\n",
              "      <td>Mobile App</td>\n",
              "      <td>Medium</td>\n",
              "      <td>8</td>\n",
              "      <td>2327</td>\n",
              "      <td>5.393</td>\n",
              "      <td>Email Activity</td>\n",
              "      <td>No</td>\n",
              "      <td>No</td>\n",
              "      <td>No</td>\n",
              "      <td>No</td>\n",
              "      <td>No</td>\n",
              "      <td>0</td>\n",
              "    </tr>\n",
              "    <tr>\n",
              "      <th>4609</th>\n",
              "      <td>EXT4610</td>\n",
              "      <td>58</td>\n",
              "      <td>Professional</td>\n",
              "      <td>Website</td>\n",
              "      <td>High</td>\n",
              "      <td>2</td>\n",
              "      <td>212</td>\n",
              "      <td>2.692</td>\n",
              "      <td>Email Activity</td>\n",
              "      <td>No</td>\n",
              "      <td>No</td>\n",
              "      <td>No</td>\n",
              "      <td>No</td>\n",
              "      <td>No</td>\n",
              "      <td>1</td>\n",
              "    </tr>\n",
              "    <tr>\n",
              "      <th>4610</th>\n",
              "      <td>EXT4611</td>\n",
              "      <td>57</td>\n",
              "      <td>Professional</td>\n",
              "      <td>Mobile App</td>\n",
              "      <td>Medium</td>\n",
              "      <td>1</td>\n",
              "      <td>154</td>\n",
              "      <td>3.879</td>\n",
              "      <td>Website Activity</td>\n",
              "      <td>Yes</td>\n",
              "      <td>No</td>\n",
              "      <td>No</td>\n",
              "      <td>No</td>\n",
              "      <td>No</td>\n",
              "      <td>0</td>\n",
              "    </tr>\n",
              "    <tr>\n",
              "      <th>4611</th>\n",
              "      <td>EXT4612</td>\n",
              "      <td>55</td>\n",
              "      <td>Professional</td>\n",
              "      <td>Website</td>\n",
              "      <td>Medium</td>\n",
              "      <td>4</td>\n",
              "      <td>2290</td>\n",
              "      <td>2.075</td>\n",
              "      <td>Phone Activity</td>\n",
              "      <td>No</td>\n",
              "      <td>No</td>\n",
              "      <td>No</td>\n",
              "      <td>No</td>\n",
              "      <td>No</td>\n",
              "      <td>0</td>\n",
              "    </tr>\n",
              "  </tbody>\n",
              "</table>\n",
              "</div>\n",
              "      <button class=\"colab-df-convert\" onclick=\"convertToInteractive('df-05dd3929-8871-4585-993d-4e24a285ec08')\"\n",
              "              title=\"Convert this dataframe to an interactive table.\"\n",
              "              style=\"display:none;\">\n",
              "        \n",
              "  <svg xmlns=\"http://www.w3.org/2000/svg\" height=\"24px\"viewBox=\"0 0 24 24\"\n",
              "       width=\"24px\">\n",
              "    <path d=\"M0 0h24v24H0V0z\" fill=\"none\"/>\n",
              "    <path d=\"M18.56 5.44l.94 2.06.94-2.06 2.06-.94-2.06-.94-.94-2.06-.94 2.06-2.06.94zm-11 1L8.5 8.5l.94-2.06 2.06-.94-2.06-.94L8.5 2.5l-.94 2.06-2.06.94zm10 10l.94 2.06.94-2.06 2.06-.94-2.06-.94-.94-2.06-.94 2.06-2.06.94z\"/><path d=\"M17.41 7.96l-1.37-1.37c-.4-.4-.92-.59-1.43-.59-.52 0-1.04.2-1.43.59L10.3 9.45l-7.72 7.72c-.78.78-.78 2.05 0 2.83L4 21.41c.39.39.9.59 1.41.59.51 0 1.02-.2 1.41-.59l7.78-7.78 2.81-2.81c.8-.78.8-2.07 0-2.86zM5.41 20L4 18.59l7.72-7.72 1.47 1.35L5.41 20z\"/>\n",
              "  </svg>\n",
              "      </button>\n",
              "      \n",
              "  <style>\n",
              "    .colab-df-container {\n",
              "      display:flex;\n",
              "      flex-wrap:wrap;\n",
              "      gap: 12px;\n",
              "    }\n",
              "\n",
              "    .colab-df-convert {\n",
              "      background-color: #E8F0FE;\n",
              "      border: none;\n",
              "      border-radius: 50%;\n",
              "      cursor: pointer;\n",
              "      display: none;\n",
              "      fill: #1967D2;\n",
              "      height: 32px;\n",
              "      padding: 0 0 0 0;\n",
              "      width: 32px;\n",
              "    }\n",
              "\n",
              "    .colab-df-convert:hover {\n",
              "      background-color: #E2EBFA;\n",
              "      box-shadow: 0px 1px 2px rgba(60, 64, 67, 0.3), 0px 1px 3px 1px rgba(60, 64, 67, 0.15);\n",
              "      fill: #174EA6;\n",
              "    }\n",
              "\n",
              "    [theme=dark] .colab-df-convert {\n",
              "      background-color: #3B4455;\n",
              "      fill: #D2E3FC;\n",
              "    }\n",
              "\n",
              "    [theme=dark] .colab-df-convert:hover {\n",
              "      background-color: #434B5C;\n",
              "      box-shadow: 0px 1px 3px 1px rgba(0, 0, 0, 0.15);\n",
              "      filter: drop-shadow(0px 1px 2px rgba(0, 0, 0, 0.3));\n",
              "      fill: #FFFFFF;\n",
              "    }\n",
              "  </style>\n",
              "\n",
              "      <script>\n",
              "        const buttonEl =\n",
              "          document.querySelector('#df-05dd3929-8871-4585-993d-4e24a285ec08 button.colab-df-convert');\n",
              "        buttonEl.style.display =\n",
              "          google.colab.kernel.accessAllowed ? 'block' : 'none';\n",
              "\n",
              "        async function convertToInteractive(key) {\n",
              "          const element = document.querySelector('#df-05dd3929-8871-4585-993d-4e24a285ec08');\n",
              "          const dataTable =\n",
              "            await google.colab.kernel.invokeFunction('convertToInteractive',\n",
              "                                                     [key], {});\n",
              "          if (!dataTable) return;\n",
              "\n",
              "          const docLinkHtml = 'Like what you see? Visit the ' +\n",
              "            '<a target=\"_blank\" href=https://colab.research.google.com/notebooks/data_table.ipynb>data table notebook</a>'\n",
              "            + ' to learn more about interactive tables.';\n",
              "          element.innerHTML = '';\n",
              "          dataTable['output_type'] = 'display_data';\n",
              "          await google.colab.output.renderOutput(dataTable, element);\n",
              "          const docLink = document.createElement('div');\n",
              "          docLink.innerHTML = docLinkHtml;\n",
              "          element.appendChild(docLink);\n",
              "        }\n",
              "      </script>\n",
              "    </div>\n",
              "  </div>\n",
              "  "
            ]
          },
          "metadata": {},
          "execution_count": 6
        }
      ],
      "source": [
        "data.tail()"
      ],
      "id": "sdrYvViaG5Nu"
    },
    {
      "cell_type": "markdown",
      "metadata": {
        "id": "s4LnlUCGG5Nv"
      },
      "source": [
        "### Understand the shape of the dataset"
      ],
      "id": "s4LnlUCGG5Nv"
    },
    {
      "cell_type": "code",
      "execution_count": 7,
      "metadata": {
        "colab": {
          "base_uri": "https://localhost:8080/"
        },
        "id": "WhQblI6kG5Nv",
        "outputId": "7eb7b2c8-ac00-4a67-d0cf-3a191030cec5"
      },
      "outputs": [
        {
          "output_type": "execute_result",
          "data": {
            "text/plain": [
              "(4612, 15)"
            ]
          },
          "metadata": {},
          "execution_count": 7
        }
      ],
      "source": [
        "data.shape"
      ],
      "id": "WhQblI6kG5Nv"
    },
    {
      "cell_type": "markdown",
      "metadata": {
        "id": "tq8g0vmGG5Nv"
      },
      "source": [
        "* The dataset has **4612 rows and 15 columns** "
      ],
      "id": "tq8g0vmGG5Nv"
    },
    {
      "cell_type": "markdown",
      "metadata": {
        "id": "2kNXgiBkG5Nw"
      },
      "source": [
        "### Check the data types of the columns for the dataset"
      ],
      "id": "2kNXgiBkG5Nw"
    },
    {
      "cell_type": "code",
      "execution_count": 8,
      "metadata": {
        "colab": {
          "base_uri": "https://localhost:8080/"
        },
        "id": "ep_nESGpG5Nw",
        "outputId": "9b2be65c-1705-4b80-8165-fd4053780fc0"
      },
      "outputs": [
        {
          "output_type": "stream",
          "name": "stdout",
          "text": [
            "<class 'pandas.core.frame.DataFrame'>\n",
            "RangeIndex: 4612 entries, 0 to 4611\n",
            "Data columns (total 15 columns):\n",
            " #   Column                 Non-Null Count  Dtype  \n",
            "---  ------                 --------------  -----  \n",
            " 0   ID                     4612 non-null   object \n",
            " 1   age                    4612 non-null   int64  \n",
            " 2   current_occupation     4612 non-null   object \n",
            " 3   first_interaction      4612 non-null   object \n",
            " 4   profile_completed      4612 non-null   object \n",
            " 5   website_visits         4612 non-null   int64  \n",
            " 6   time_spent_on_website  4612 non-null   int64  \n",
            " 7   page_views_per_visit   4612 non-null   float64\n",
            " 8   last_activity          4612 non-null   object \n",
            " 9   print_media_type1      4612 non-null   object \n",
            " 10  print_media_type2      4612 non-null   object \n",
            " 11  digital_media          4612 non-null   object \n",
            " 12  educational_channels   4612 non-null   object \n",
            " 13  referral               4612 non-null   object \n",
            " 14  status                 4612 non-null   int64  \n",
            "dtypes: float64(1), int64(4), object(10)\n",
            "memory usage: 540.6+ KB\n"
          ]
        }
      ],
      "source": [
        "data.info()"
      ],
      "id": "ep_nESGpG5Nw"
    },
    {
      "cell_type": "markdown",
      "metadata": {
        "id": "08-_3ra_G5Nw"
      },
      "source": [
        "* `website_visits`, `time_spent_on_website`, `page_views_per_visit`, and `status` are of numeric type while rest columns are object type in nature.\n",
        "\n",
        "* There are **no null values** in the dataset."
      ],
      "id": "08-_3ra_G5Nw"
    },
    {
      "cell_type": "code",
      "execution_count": 9,
      "metadata": {
        "colab": {
          "base_uri": "https://localhost:8080/"
        },
        "id": "R0dMioNpG5Nw",
        "outputId": "45ab13e6-167e-4627-8650-32693c1db7be"
      },
      "outputs": [
        {
          "output_type": "execute_result",
          "data": {
            "text/plain": [
              "0"
            ]
          },
          "metadata": {},
          "execution_count": 9
        }
      ],
      "source": [
        "# checking for duplicate values\n",
        "data.duplicated().sum()"
      ],
      "id": "R0dMioNpG5Nw"
    },
    {
      "cell_type": "markdown",
      "metadata": {
        "id": "y_TxsZwMG5Nx"
      },
      "source": [
        "- There are **no duplicate values** in the data"
      ],
      "id": "y_TxsZwMG5Nx"
    },
    {
      "cell_type": "markdown",
      "metadata": {
        "id": "jRADVEz8G5Nx"
      },
      "source": [
        "## Exploratory Data Analysis"
      ],
      "id": "jRADVEz8G5Nx"
    },
    {
      "cell_type": "markdown",
      "metadata": {
        "id": "HWnnF0LuG5Nx"
      },
      "source": [
        "### Univariate Analysis"
      ],
      "id": "HWnnF0LuG5Nx"
    },
    {
      "cell_type": "markdown",
      "metadata": {
        "id": "w2IVKEFyG5Nx"
      },
      "source": [
        "**Let's check the statistical summary of the data.**"
      ],
      "id": "w2IVKEFyG5Nx"
    },
    {
      "cell_type": "code",
      "execution_count": 10,
      "metadata": {
        "colab": {
          "base_uri": "https://localhost:8080/",
          "height": 270
        },
        "id": "xMhFjo34G5Ny",
        "outputId": "7ed852f2-4032-480f-f62c-d581fb7add38"
      },
      "outputs": [
        {
          "output_type": "execute_result",
          "data": {
            "text/plain": [
              "                        count        mean         std   min        25%  \\\n",
              "age                    4612.0   46.201214   13.161454  18.0   36.00000   \n",
              "website_visits         4612.0    3.566782    2.829134   0.0    2.00000   \n",
              "time_spent_on_website  4612.0  724.011275  743.828683   0.0  148.75000   \n",
              "page_views_per_visit   4612.0    3.026126    1.968125   0.0    2.07775   \n",
              "status                 4612.0    0.298569    0.457680   0.0    0.00000   \n",
              "\n",
              "                           50%         75%       max  \n",
              "age                     51.000    57.00000    63.000  \n",
              "website_visits           3.000     5.00000    30.000  \n",
              "time_spent_on_website  376.000  1336.75000  2537.000  \n",
              "page_views_per_visit     2.792     3.75625    18.434  \n",
              "status                   0.000     1.00000     1.000  "
            ],
            "text/html": [
              "\n",
              "  <div id=\"df-49265e48-42ce-4845-847c-d0df45a6c890\">\n",
              "    <div class=\"colab-df-container\">\n",
              "      <div>\n",
              "<style scoped>\n",
              "    .dataframe tbody tr th:only-of-type {\n",
              "        vertical-align: middle;\n",
              "    }\n",
              "\n",
              "    .dataframe tbody tr th {\n",
              "        vertical-align: top;\n",
              "    }\n",
              "\n",
              "    .dataframe thead th {\n",
              "        text-align: right;\n",
              "    }\n",
              "</style>\n",
              "<table border=\"1\" class=\"dataframe\">\n",
              "  <thead>\n",
              "    <tr style=\"text-align: right;\">\n",
              "      <th></th>\n",
              "      <th>count</th>\n",
              "      <th>mean</th>\n",
              "      <th>std</th>\n",
              "      <th>min</th>\n",
              "      <th>25%</th>\n",
              "      <th>50%</th>\n",
              "      <th>75%</th>\n",
              "      <th>max</th>\n",
              "    </tr>\n",
              "  </thead>\n",
              "  <tbody>\n",
              "    <tr>\n",
              "      <th>age</th>\n",
              "      <td>4612.0</td>\n",
              "      <td>46.201214</td>\n",
              "      <td>13.161454</td>\n",
              "      <td>18.0</td>\n",
              "      <td>36.00000</td>\n",
              "      <td>51.000</td>\n",
              "      <td>57.00000</td>\n",
              "      <td>63.000</td>\n",
              "    </tr>\n",
              "    <tr>\n",
              "      <th>website_visits</th>\n",
              "      <td>4612.0</td>\n",
              "      <td>3.566782</td>\n",
              "      <td>2.829134</td>\n",
              "      <td>0.0</td>\n",
              "      <td>2.00000</td>\n",
              "      <td>3.000</td>\n",
              "      <td>5.00000</td>\n",
              "      <td>30.000</td>\n",
              "    </tr>\n",
              "    <tr>\n",
              "      <th>time_spent_on_website</th>\n",
              "      <td>4612.0</td>\n",
              "      <td>724.011275</td>\n",
              "      <td>743.828683</td>\n",
              "      <td>0.0</td>\n",
              "      <td>148.75000</td>\n",
              "      <td>376.000</td>\n",
              "      <td>1336.75000</td>\n",
              "      <td>2537.000</td>\n",
              "    </tr>\n",
              "    <tr>\n",
              "      <th>page_views_per_visit</th>\n",
              "      <td>4612.0</td>\n",
              "      <td>3.026126</td>\n",
              "      <td>1.968125</td>\n",
              "      <td>0.0</td>\n",
              "      <td>2.07775</td>\n",
              "      <td>2.792</td>\n",
              "      <td>3.75625</td>\n",
              "      <td>18.434</td>\n",
              "    </tr>\n",
              "    <tr>\n",
              "      <th>status</th>\n",
              "      <td>4612.0</td>\n",
              "      <td>0.298569</td>\n",
              "      <td>0.457680</td>\n",
              "      <td>0.0</td>\n",
              "      <td>0.00000</td>\n",
              "      <td>0.000</td>\n",
              "      <td>1.00000</td>\n",
              "      <td>1.000</td>\n",
              "    </tr>\n",
              "  </tbody>\n",
              "</table>\n",
              "</div>\n",
              "      <button class=\"colab-df-convert\" onclick=\"convertToInteractive('df-49265e48-42ce-4845-847c-d0df45a6c890')\"\n",
              "              title=\"Convert this dataframe to an interactive table.\"\n",
              "              style=\"display:none;\">\n",
              "        \n",
              "  <svg xmlns=\"http://www.w3.org/2000/svg\" height=\"24px\"viewBox=\"0 0 24 24\"\n",
              "       width=\"24px\">\n",
              "    <path d=\"M0 0h24v24H0V0z\" fill=\"none\"/>\n",
              "    <path d=\"M18.56 5.44l.94 2.06.94-2.06 2.06-.94-2.06-.94-.94-2.06-.94 2.06-2.06.94zm-11 1L8.5 8.5l.94-2.06 2.06-.94-2.06-.94L8.5 2.5l-.94 2.06-2.06.94zm10 10l.94 2.06.94-2.06 2.06-.94-2.06-.94-.94-2.06-.94 2.06-2.06.94z\"/><path d=\"M17.41 7.96l-1.37-1.37c-.4-.4-.92-.59-1.43-.59-.52 0-1.04.2-1.43.59L10.3 9.45l-7.72 7.72c-.78.78-.78 2.05 0 2.83L4 21.41c.39.39.9.59 1.41.59.51 0 1.02-.2 1.41-.59l7.78-7.78 2.81-2.81c.8-.78.8-2.07 0-2.86zM5.41 20L4 18.59l7.72-7.72 1.47 1.35L5.41 20z\"/>\n",
              "  </svg>\n",
              "      </button>\n",
              "      \n",
              "  <style>\n",
              "    .colab-df-container {\n",
              "      display:flex;\n",
              "      flex-wrap:wrap;\n",
              "      gap: 12px;\n",
              "    }\n",
              "\n",
              "    .colab-df-convert {\n",
              "      background-color: #E8F0FE;\n",
              "      border: none;\n",
              "      border-radius: 50%;\n",
              "      cursor: pointer;\n",
              "      display: none;\n",
              "      fill: #1967D2;\n",
              "      height: 32px;\n",
              "      padding: 0 0 0 0;\n",
              "      width: 32px;\n",
              "    }\n",
              "\n",
              "    .colab-df-convert:hover {\n",
              "      background-color: #E2EBFA;\n",
              "      box-shadow: 0px 1px 2px rgba(60, 64, 67, 0.3), 0px 1px 3px 1px rgba(60, 64, 67, 0.15);\n",
              "      fill: #174EA6;\n",
              "    }\n",
              "\n",
              "    [theme=dark] .colab-df-convert {\n",
              "      background-color: #3B4455;\n",
              "      fill: #D2E3FC;\n",
              "    }\n",
              "\n",
              "    [theme=dark] .colab-df-convert:hover {\n",
              "      background-color: #434B5C;\n",
              "      box-shadow: 0px 1px 3px 1px rgba(0, 0, 0, 0.15);\n",
              "      filter: drop-shadow(0px 1px 2px rgba(0, 0, 0, 0.3));\n",
              "      fill: #FFFFFF;\n",
              "    }\n",
              "  </style>\n",
              "\n",
              "      <script>\n",
              "        const buttonEl =\n",
              "          document.querySelector('#df-49265e48-42ce-4845-847c-d0df45a6c890 button.colab-df-convert');\n",
              "        buttonEl.style.display =\n",
              "          google.colab.kernel.accessAllowed ? 'block' : 'none';\n",
              "\n",
              "        async function convertToInteractive(key) {\n",
              "          const element = document.querySelector('#df-49265e48-42ce-4845-847c-d0df45a6c890');\n",
              "          const dataTable =\n",
              "            await google.colab.kernel.invokeFunction('convertToInteractive',\n",
              "                                                     [key], {});\n",
              "          if (!dataTable) return;\n",
              "\n",
              "          const docLinkHtml = 'Like what you see? Visit the ' +\n",
              "            '<a target=\"_blank\" href=https://colab.research.google.com/notebooks/data_table.ipynb>data table notebook</a>'\n",
              "            + ' to learn more about interactive tables.';\n",
              "          element.innerHTML = '';\n",
              "          dataTable['output_type'] = 'display_data';\n",
              "          await google.colab.output.renderOutput(dataTable, element);\n",
              "          const docLink = document.createElement('div');\n",
              "          docLink.innerHTML = docLinkHtml;\n",
              "          element.appendChild(docLink);\n",
              "        }\n",
              "      </script>\n",
              "    </div>\n",
              "  </div>\n",
              "  "
            ]
          },
          "metadata": {},
          "execution_count": 10
        }
      ],
      "source": [
        "data.describe().T"
      ],
      "id": "xMhFjo34G5Ny"
    },
    {
      "cell_type": "markdown",
      "metadata": {
        "id": "BmmBEYeNG5Ny"
      },
      "source": [
        "**Observations:**\n",
        "\n",
        "* The average age of leads in the data is 48.5 years and the median age is 51 years. This implies that the majority of leads have good work experience and they may be looking for a shift in career or upskill themselves. \n",
        "* On average a lead visits the website 3 times. There are some leads who have never visited the website.\n",
        "* On average the leads spent 724 seconds or 12 minutes on the website. There's also a very huge difference in 75th percentile and maximum value which indicates there might be outliers present in this column.\n",
        "* The distribution of the average page views per visit suggests that there might be outliers in this column."
      ],
      "id": "BmmBEYeNG5Ny"
    },
    {
      "cell_type": "code",
      "execution_count": 11,
      "metadata": {
        "colab": {
          "base_uri": "https://localhost:8080/"
        },
        "id": "Vmlj2zF2G5Ny",
        "outputId": "6ed47df5-5496-4bb8-d83b-b926650bf468"
      },
      "outputs": [
        {
          "output_type": "stream",
          "name": "stdout",
          "text": [
            "EXT001     0.000217\n",
            "EXT2884    0.000217\n",
            "EXT3080    0.000217\n",
            "EXT3079    0.000217\n",
            "EXT3078    0.000217\n",
            "             ...   \n",
            "EXT1537    0.000217\n",
            "EXT1536    0.000217\n",
            "EXT1535    0.000217\n",
            "EXT1534    0.000217\n",
            "EXT4612    0.000217\n",
            "Name: ID, Length: 4612, dtype: float64\n",
            "--------------------------------------------------\n",
            "Professional    0.567216\n",
            "Unemployed      0.312446\n",
            "Student         0.120338\n",
            "Name: current_occupation, dtype: float64\n",
            "--------------------------------------------------\n",
            "Website       0.551171\n",
            "Mobile App    0.448829\n",
            "Name: first_interaction, dtype: float64\n",
            "--------------------------------------------------\n",
            "High      0.490893\n",
            "Medium    0.485906\n",
            "Low       0.023200\n",
            "Name: profile_completed, dtype: float64\n",
            "--------------------------------------------------\n",
            "Email Activity      0.493929\n",
            "Phone Activity      0.267563\n",
            "Website Activity    0.238508\n",
            "Name: last_activity, dtype: float64\n",
            "--------------------------------------------------\n",
            "No     0.892238\n",
            "Yes    0.107762\n",
            "Name: print_media_type1, dtype: float64\n",
            "--------------------------------------------------\n",
            "No     0.94948\n",
            "Yes    0.05052\n",
            "Name: print_media_type2, dtype: float64\n",
            "--------------------------------------------------\n",
            "No     0.885733\n",
            "Yes    0.114267\n",
            "Name: digital_media, dtype: float64\n",
            "--------------------------------------------------\n",
            "No     0.847138\n",
            "Yes    0.152862\n",
            "Name: educational_channels, dtype: float64\n",
            "--------------------------------------------------\n",
            "No     0.979835\n",
            "Yes    0.020165\n",
            "Name: referral, dtype: float64\n",
            "--------------------------------------------------\n"
          ]
        }
      ],
      "source": [
        "# Making a list of all categorical variables\n",
        "cat_col = list(data.select_dtypes(\"object\").columns)\n",
        "\n",
        "# Printing count of each unique value in each categorical column\n",
        "for column in cat_col:\n",
        "    print(data[column].value_counts(normalize=True))\n",
        "    print(\"-\" * 50)"
      ],
      "id": "Vmlj2zF2G5Ny"
    },
    {
      "cell_type": "markdown",
      "metadata": {
        "id": "NT6j4QDiG5Ny"
      },
      "source": [
        "**Observations:**\n",
        "* Most of the leads are working professions.\n",
        "* As expected, majority of the leads interacted with ExtraaLearn from the website.\n",
        "* Almost an equal percentage of profile completions are categorized as high and medium that is 49.1% and 48.6%, respectively.\n",
        "* Only 2.3% of the profile completions are categorized as low.\n",
        "* 49.4% of the leads had their last activity over email, followed by 26.8% having phone activity. This implies that majority of the leads prefer to communicate via email.\n",
        "* Very few leads are acquired from print media, digital, media and referrals."
      ],
      "id": "NT6j4QDiG5Ny"
    },
    {
      "cell_type": "code",
      "execution_count": 12,
      "metadata": {
        "colab": {
          "base_uri": "https://localhost:8080/"
        },
        "id": "_vG0fVN7G5Nz",
        "outputId": "d85f1fcd-f68a-4b03-c507-e8e7bb36be27"
      },
      "outputs": [
        {
          "output_type": "execute_result",
          "data": {
            "text/plain": [
              "4612"
            ]
          },
          "metadata": {},
          "execution_count": 12
        }
      ],
      "source": [
        "# checking the number of unique values\n",
        "data[\"ID\"].nunique()"
      ],
      "id": "_vG0fVN7G5Nz"
    },
    {
      "cell_type": "markdown",
      "metadata": {
        "id": "Y8K10gbEG5Nz"
      },
      "source": [
        "* All the values in the case id column are unique.\n",
        "* We can drop this column."
      ],
      "id": "Y8K10gbEG5Nz"
    },
    {
      "cell_type": "code",
      "execution_count": 13,
      "metadata": {
        "id": "9KOfNgsRG5Nz"
      },
      "outputs": [],
      "source": [
        "data.drop([\"ID\"], axis=1, inplace=True)"
      ],
      "id": "9KOfNgsRG5Nz"
    },
    {
      "cell_type": "markdown",
      "metadata": {
        "id": "zNGNOodxG5Nz"
      },
      "source": [
        "**Let's check how many leads have been converted**"
      ],
      "id": "zNGNOodxG5Nz"
    },
    {
      "cell_type": "code",
      "execution_count": 14,
      "metadata": {
        "colab": {
          "base_uri": "https://localhost:8080/",
          "height": 388
        },
        "id": "X6nSmjSRG5Nz",
        "outputId": "696112f9-0f00-4886-c87c-7c76a2145b60"
      },
      "outputs": [
        {
          "output_type": "display_data",
          "data": {
            "text/plain": [
              "<Figure size 720x432 with 1 Axes>"
            ],
            "image/png": "[encoded data removed]"
          },
          "metadata": {
            "needs_background": "light"
          }
        }
      ],
      "source": [
        "plt.figure(figsize=(10, 6))\n",
        "sns.countplot(x='status', data=data)\n",
        "plt.show()"
      ],
      "id": "X6nSmjSRG5Nz"
    },
    {
      "cell_type": "markdown",
      "metadata": {
        "id": "fPtO7uQVG5N0"
      },
      "source": [
        "- The above plot shows that number of leads converted are significantly less than number of leads not converted which can be expected.\n",
        "- The plot indicates that ~30% of leads have been converted."
      ],
      "id": "fPtO7uQVG5N0"
    },
    {
      "cell_type": "markdown",
      "metadata": {
        "id": "zxBoLuDpG5N0"
      },
      "source": [
        "#### Let's check the distribution and outliers for numerical columns in the data"
      ],
      "id": "zxBoLuDpG5N0"
    },
    {
      "cell_type": "markdown",
      "metadata": {
        "id": "Y9CT-lZpG5N0"
      },
      "source": [
        "### **Distribution plots and box plots**"
      ],
      "id": "Y9CT-lZpG5N0"
    },
    {
      "cell_type": "code",
      "execution_count": 15,
      "metadata": {
        "colab": {
          "base_uri": "https://localhost:8080/",
          "height": 1000
        },
        "id": "Xw1r2o7TG5N0",
        "outputId": "5e63ed5b-70a8-43b0-9dd5-edf04f779187"
      },
      "outputs": [
        {
          "output_type": "stream",
          "name": "stdout",
          "text": [
            "age\n",
            "Skew : -0.72\n"
          ]
        },
        {
          "output_type": "display_data",
          "data": {
            "text/plain": [
              "<Figure size 1080x288 with 2 Axes>"
            ],
            "image/png": "[encoded data removed]"
          },
          "metadata": {
            "needs_background": "light"
          }
        },
        {
          "output_type": "stream",
          "name": "stdout",
          "text": [
            "website_visits\n",
            "Skew : 2.16\n"
          ]
        },
        {
          "output_type": "display_data",
          "data": {
            "text/plain": [
              "<Figure size 1080x288 with 2 Axes>"
            ],
            "image/png": "[encoded data removed]"
          },
          "metadata": {
            "needs_background": "light"
          }
        },
        {
          "output_type": "stream",
          "name": "stdout",
          "text": [
            "time_spent_on_website\n",
            "Skew : 0.95\n"
          ]
        },
        {
          "output_type": "display_data",
          "data": {
            "text/plain": [
              "<Figure size 1080x288 with 2 Axes>"
            ],
            "image/png": "[encoded data removed]"
          },
          "metadata": {
            "needs_background": "light"
          }
        },
        {
          "output_type": "stream",
          "name": "stdout",
          "text": [
            "page_views_per_visit\n",
            "Skew : 1.27\n"
          ]
        },
        {
          "output_type": "display_data",
          "data": {
            "text/plain": [
              "<Figure size 1080x288 with 2 Axes>"
            ],
            "image/png": "[encoded data removed]"
          },
          "metadata": {
            "needs_background": "light"
          }
        }
      ],
      "source": [
        "for col in ['age', 'website_visits', 'time_spent_on_website', 'page_views_per_visit']:\n",
        "    print(col)\n",
        "    print('Skew :',round(data[col].skew(),2))\n",
        "    plt.figure(figsize=(15,4))\n",
        "    plt.subplot(1,2,1)\n",
        "    data[col].hist(bins=10, grid=False)\n",
        "    plt.ylabel('count')\n",
        "    plt.subplot(1,2,2)\n",
        "    sns.boxplot(x=data[col])\n",
        "    plt.show()"
      ],
      "id": "Xw1r2o7TG5N0"
    },
    {
      "cell_type": "markdown",
      "metadata": {
        "id": "KVsgXStMG5N0"
      },
      "source": [
        "**Observations:**\n",
        "- Age is left skewed with the age of most people who constitute leads being 55-60 years old\n",
        "- The number of website visits is right skewed with a good number of outliers with > 10 web visits\n",
        "- Time spent on the website is also skewed right with no outliers\n",
        "- Page views per visit seems to be approximately normal with the exclusion of the outliers"
      ],
      "id": "KVsgXStMG5N0"
    },
    {
      "cell_type": "markdown",
      "metadata": {
        "id": "Ql5S-MT5G5N0"
      },
      "source": [
        "### Bivariate Analysis"
      ],
      "id": "Ql5S-MT5G5N0"
    },
    {
      "cell_type": "markdown",
      "metadata": {
        "id": "0CESyMWZG5N0"
      },
      "source": [
        "**We are done with univariate analysis and data preprocessing. Let's explore the data a bit more with bivariate analysis.**\n",
        "\n",
        "Leads will have different expectations from the outcome of the course and the current occupation may play a key role for them to take the program. Let's analyze it"
      ],
      "id": "0CESyMWZG5N0"
    },
    {
      "cell_type": "code",
      "execution_count": 16,
      "metadata": {
        "colab": {
          "base_uri": "https://localhost:8080/",
          "height": 389
        },
        "id": "DSMveZhdG5N1",
        "outputId": "7c580840-5131-4221-e12d-fa44ca2b0d38"
      },
      "outputs": [
        {
          "output_type": "display_data",
          "data": {
            "text/plain": [
              "<Figure size 720x432 with 1 Axes>"
            ],
            "image/png": "[encoded data removed]"
          },
          "metadata": {
            "needs_background": "light"
          }
        }
      ],
      "source": [
        "plt.figure(figsize=(10, 6))\n",
        "sns.countplot(x='current_occupation', hue='status', data=data)\n",
        "plt.show()"
      ],
      "id": "DSMveZhdG5N1"
    },
    {
      "cell_type": "markdown",
      "metadata": {
        "id": "c8-2cfTRG5N1"
      },
      "source": [
        "- The plot shows that working professional leads are more likely to opt for a course offered by the organization and the students are least likely to be converted. \n",
        "- This shows that the currently offered program is more oriented towards working professionals or unemployed personnels. The program might be suitable for the working professionals who might want to transition to a new role or take up more responsibility in the current role. And also focused on skills that are in high demand making it more suitable for working professionals or currently unemployed leads."
      ],
      "id": "c8-2cfTRG5N1"
    },
    {
      "cell_type": "markdown",
      "metadata": {
        "id": "73B-BYhtG5N1"
      },
      "source": [
        "**Age can also be a good factor to differentiate between such leads. Let's explore this**"
      ],
      "id": "73B-BYhtG5N1"
    },
    {
      "cell_type": "code",
      "execution_count": 17,
      "metadata": {
        "colab": {
          "base_uri": "https://localhost:8080/",
          "height": 335
        },
        "id": "FTnrTb-VG5N1",
        "outputId": "9ef558a1-eef0-4ba7-e809-0908b573242d"
      },
      "outputs": [
        {
          "output_type": "display_data",
          "data": {
            "text/plain": [
              "<Figure size 720x360 with 1 Axes>"
            ],
            "image/png": "[encoded data removed]"
          },
          "metadata": {
            "needs_background": "light"
          }
        }
      ],
      "source": [
        "plt.figure(figsize=(10, 5))\n",
        "sns.boxplot(data[\"current_occupation\"], data[\"age\"])\n",
        "plt.show()"
      ],
      "id": "FTnrTb-VG5N1"
    },
    {
      "cell_type": "code",
      "execution_count": 18,
      "metadata": {
        "colab": {
          "base_uri": "https://localhost:8080/",
          "height": 175
        },
        "id": "DikNiDeqG5N1",
        "outputId": "aeecaaa3-097a-4902-dd3b-45847b5092e4"
      },
      "outputs": [
        {
          "output_type": "execute_result",
          "data": {
            "text/plain": [
              "                     count       mean       std   min   25%   50%   75%   max\n",
              "current_occupation                                                           \n",
              "Professional        2616.0  49.347477  9.890744  25.0  42.0  54.0  57.0  60.0\n",
              "Student              555.0  21.144144  2.001114  18.0  19.0  21.0  23.0  25.0\n",
              "Unemployed          1441.0  50.140180  9.999503  32.0  42.0  54.0  58.0  63.0"
            ],
            "text/html": [
              "\n",
              "  <div id=\"df-c3fd12e6-7cb9-4cc6-84ec-19cd8944ec4f\">\n",
              "    <div class=\"colab-df-container\">\n",
              "      <div>\n",
              "<style scoped>\n",
              "    .dataframe tbody tr th:only-of-type {\n",
              "        vertical-align: middle;\n",
              "    }\n",
              "\n",
              "    .dataframe tbody tr th {\n",
              "        vertical-align: top;\n",
              "    }\n",
              "\n",
              "    .dataframe thead th {\n",
              "        text-align: right;\n",
              "    }\n",
              "</style>\n",
              "<table border=\"1\" class=\"dataframe\">\n",
              "  <thead>\n",
              "    <tr style=\"text-align: right;\">\n",
              "      <th></th>\n",
              "      <th>count</th>\n",
              "      <th>mean</th>\n",
              "      <th>std</th>\n",
              "      <th>min</th>\n",
              "      <th>25%</th>\n",
              "      <th>50%</th>\n",
              "      <th>75%</th>\n",
              "      <th>max</th>\n",
              "    </tr>\n",
              "    <tr>\n",
              "      <th>current_occupation</th>\n",
              "      <th></th>\n",
              "      <th></th>\n",
              "      <th></th>\n",
              "      <th></th>\n",
              "      <th></th>\n",
              "      <th></th>\n",
              "      <th></th>\n",
              "      <th></th>\n",
              "    </tr>\n",
              "  </thead>\n",
              "  <tbody>\n",
              "    <tr>\n",
              "      <th>Professional</th>\n",
              "      <td>2616.0</td>\n",
              "      <td>49.347477</td>\n",
              "      <td>9.890744</td>\n",
              "      <td>25.0</td>\n",
              "      <td>42.0</td>\n",
              "      <td>54.0</td>\n",
              "      <td>57.0</td>\n",
              "      <td>60.0</td>\n",
              "    </tr>\n",
              "    <tr>\n",
              "      <th>Student</th>\n",
              "      <td>555.0</td>\n",
              "      <td>21.144144</td>\n",
              "      <td>2.001114</td>\n",
              "      <td>18.0</td>\n",
              "      <td>19.0</td>\n",
              "      <td>21.0</td>\n",
              "      <td>23.0</td>\n",
              "      <td>25.0</td>\n",
              "    </tr>\n",
              "    <tr>\n",
              "      <th>Unemployed</th>\n",
              "      <td>1441.0</td>\n",
              "      <td>50.140180</td>\n",
              "      <td>9.999503</td>\n",
              "      <td>32.0</td>\n",
              "      <td>42.0</td>\n",
              "      <td>54.0</td>\n",
              "      <td>58.0</td>\n",
              "      <td>63.0</td>\n",
              "    </tr>\n",
              "  </tbody>\n",
              "</table>\n",
              "</div>\n",
              "      <button class=\"colab-df-convert\" onclick=\"convertToInteractive('df-c3fd12e6-7cb9-4cc6-84ec-19cd8944ec4f')\"\n",
              "              title=\"Convert this dataframe to an interactive table.\"\n",
              "              style=\"display:none;\">\n",
              "        \n",
              "  <svg xmlns=\"http://www.w3.org/2000/svg\" height=\"24px\"viewBox=\"0 0 24 24\"\n",
              "       width=\"24px\">\n",
              "    <path d=\"M0 0h24v24H0V0z\" fill=\"none\"/>\n",
              "    <path d=\"M18.56 5.44l.94 2.06.94-2.06 2.06-.94-2.06-.94-.94-2.06-.94 2.06-2.06.94zm-11 1L8.5 8.5l.94-2.06 2.06-.94-2.06-.94L8.5 2.5l-.94 2.06-2.06.94zm10 10l.94 2.06.94-2.06 2.06-.94-2.06-.94-.94-2.06-.94 2.06-2.06.94z\"/><path d=\"M17.41 7.96l-1.37-1.37c-.4-.4-.92-.59-1.43-.59-.52 0-1.04.2-1.43.59L10.3 9.45l-7.72 7.72c-.78.78-.78 2.05 0 2.83L4 21.41c.39.39.9.59 1.41.59.51 0 1.02-.2 1.41-.59l7.78-7.78 2.81-2.81c.8-.78.8-2.07 0-2.86zM5.41 20L4 18.59l7.72-7.72 1.47 1.35L5.41 20z\"/>\n",
              "  </svg>\n",
              "      </button>\n",
              "      \n",
              "  <style>\n",
              "    .colab-df-container {\n",
              "      display:flex;\n",
              "      flex-wrap:wrap;\n",
              "      gap: 12px;\n",
              "    }\n",
              "\n",
              "    .colab-df-convert {\n",
              "      background-color: #E8F0FE;\n",
              "      border: none;\n",
              "      border-radius: 50%;\n",
              "      cursor: pointer;\n",
              "      display: none;\n",
              "      fill: #1967D2;\n",
              "      height: 32px;\n",
              "      padding: 0 0 0 0;\n",
              "      width: 32px;\n",
              "    }\n",
              "\n",
              "    .colab-df-convert:hover {\n",
              "      background-color: #E2EBFA;\n",
              "      box-shadow: 0px 1px 2px rgba(60, 64, 67, 0.3), 0px 1px 3px 1px rgba(60, 64, 67, 0.15);\n",
              "      fill: #174EA6;\n",
              "    }\n",
              "\n",
              "    [theme=dark] .colab-df-convert {\n",
              "      background-color: #3B4455;\n",
              "      fill: #D2E3FC;\n",
              "    }\n",
              "\n",
              "    [theme=dark] .colab-df-convert:hover {\n",
              "      background-color: #434B5C;\n",
              "      box-shadow: 0px 1px 3px 1px rgba(0, 0, 0, 0.15);\n",
              "      filter: drop-shadow(0px 1px 2px rgba(0, 0, 0, 0.3));\n",
              "      fill: #FFFFFF;\n",
              "    }\n",
              "  </style>\n",
              "\n",
              "      <script>\n",
              "        const buttonEl =\n",
              "          document.querySelector('#df-c3fd12e6-7cb9-4cc6-84ec-19cd8944ec4f button.colab-df-convert');\n",
              "        buttonEl.style.display =\n",
              "          google.colab.kernel.accessAllowed ? 'block' : 'none';\n",
              "\n",
              "        async function convertToInteractive(key) {\n",
              "          const element = document.querySelector('#df-c3fd12e6-7cb9-4cc6-84ec-19cd8944ec4f');\n",
              "          const dataTable =\n",
              "            await google.colab.kernel.invokeFunction('convertToInteractive',\n",
              "                                                     [key], {});\n",
              "          if (!dataTable) return;\n",
              "\n",
              "          const docLinkHtml = 'Like what you see? Visit the ' +\n",
              "            '<a target=\"_blank\" href=https://colab.research.google.com/notebooks/data_table.ipynb>data table notebook</a>'\n",
              "            + ' to learn more about interactive tables.';\n",
              "          element.innerHTML = '';\n",
              "          dataTable['output_type'] = 'display_data';\n",
              "          await google.colab.output.renderOutput(dataTable, element);\n",
              "          const docLink = document.createElement('div');\n",
              "          docLink.innerHTML = docLinkHtml;\n",
              "          element.appendChild(docLink);\n",
              "        }\n",
              "      </script>\n",
              "    </div>\n",
              "  </div>\n",
              "  "
            ]
          },
          "metadata": {},
          "execution_count": 18
        }
      ],
      "source": [
        "data.groupby([\"current_occupation\"])[\"age\"].describe()"
      ],
      "id": "DikNiDeqG5N1"
    },
    {
      "cell_type": "markdown",
      "metadata": {
        "id": "Md2h-62ZG5N2"
      },
      "source": [
        "* The range of age for students is 18 to 25 years.\n",
        "* The range of age for professionals vary from 25 years to 60 years.\n",
        "* The currently unemployed leads have age range from 32 to 63 years.\n",
        "* The average age of working professionals and unemployed leads is almost equal to 50 years."
      ],
      "id": "Md2h-62ZG5N2"
    },
    {
      "cell_type": "markdown",
      "metadata": {
        "id": "UlqRylhKG5N2"
      },
      "source": [
        "**The company's first interaction with leads should be compelling and persuasive. Let's see if the channels of the first interaction have an impact on the conversion of leads**"
      ],
      "id": "UlqRylhKG5N2"
    },
    {
      "cell_type": "code",
      "execution_count": 19,
      "metadata": {
        "colab": {
          "base_uri": "https://localhost:8080/",
          "height": 389
        },
        "id": "cWQWhzVMG5N2",
        "outputId": "964ef3d5-5e48-4e53-be47-5e1721e06df2"
      },
      "outputs": [
        {
          "output_type": "display_data",
          "data": {
            "text/plain": [
              "<Figure size 720x432 with 1 Axes>"
            ],
            "image/png": "[encoded data removed]"
          },
          "metadata": {
            "needs_background": "light"
          }
        }
      ],
      "source": [
        "plt.figure(figsize=(10, 6))\n",
        "sns.countplot(x='first_interaction', hue='status', data=data)\n",
        "plt.show()"
      ],
      "id": "cWQWhzVMG5N2"
    },
    {
      "cell_type": "markdown",
      "metadata": {
        "id": "4mpLM1B6G5N2"
      },
      "source": [
        "* The website seems to be doing a good job as compared to mobile app as there is a huge difference in the percentage of conversions of the leads who first interacted with the company through website and those who interacted through mobile application.\n",
        "* Majority of the leads who interacted through websites were converted to paid customers while only around a small number of the leads who interacted through mobile app converted."
      ],
      "id": "4mpLM1B6G5N2"
    },
    {
      "cell_type": "markdown",
      "metadata": {
        "id": "-ziRjFG-G5N2"
      },
      "source": [
        "**We saw earlier that there is a positive correlation between status and time spent on the website. Let's analyze it further**"
      ],
      "id": "-ziRjFG-G5N2"
    },
    {
      "cell_type": "markdown",
      "metadata": {
        "id": "MieYWNO1G5N2"
      },
      "source": [
        "### **Create a boxplot for variables 'status' and 'time_spent_on_website'**"
      ],
      "id": "MieYWNO1G5N2"
    },
    {
      "cell_type": "code",
      "execution_count": 20,
      "metadata": {
        "colab": {
          "base_uri": "https://localhost:8080/",
          "height": 334
        },
        "id": "gPUnt5HRG5N3",
        "outputId": "93cc7139-df0b-40bc-d03a-9500376eda2d"
      },
      "outputs": [
        {
          "output_type": "display_data",
          "data": {
            "text/plain": [
              "<Figure size 720x360 with 1 Axes>"
            ],
            "image/png": "[encoded data removed]"
          },
          "metadata": {
            "needs_background": "light"
          }
        }
      ],
      "source": [
        "plt.figure(figsize=(10, 5))\n",
        "sns.boxplot(data[\"status\"], data[\"time_spent_on_website\"])\n",
        "plt.show()"
      ],
      "id": "gPUnt5HRG5N3"
    },
    {
      "cell_type": "markdown",
      "metadata": {
        "id": "xCytfKjfG5N3"
      },
      "source": [
        "**Observations:**\n",
        "- Customers who converted tend to spend more time on the website than those who do not convert\n",
        "- Although there are some non-converting customers who spend just as much time on the site as the highest 25% of those who converted, however they are outliers"
      ],
      "id": "xCytfKjfG5N3"
    },
    {
      "cell_type": "markdown",
      "metadata": {
        "id": "7RQtEAG1G5N3"
      },
      "source": [
        "**People browsing the website or the mobile app are generally required to create a profile by sharing their personal details before they can access more information. Let's see if the profile completion level has an impact on lead status**"
      ],
      "id": "7RQtEAG1G5N3"
    },
    {
      "cell_type": "code",
      "execution_count": 21,
      "metadata": {
        "colab": {
          "base_uri": "https://localhost:8080/",
          "height": 389
        },
        "id": "t_mXFJrWG5N3",
        "outputId": "43af8617-d85d-43f7-ba45-a378771c3d66"
      },
      "outputs": [
        {
          "output_type": "display_data",
          "data": {
            "text/plain": [
              "<Figure size 720x432 with 1 Axes>"
            ],
            "image/png": "[encoded data removed]"
          },
          "metadata": {
            "needs_background": "light"
          }
        }
      ],
      "source": [
        "plt.figure(figsize=(10, 6))\n",
        "sns.countplot(x='profile_completed', hue='status', data=data)\n",
        "plt.show()"
      ],
      "id": "t_mXFJrWG5N3"
    },
    {
      "cell_type": "markdown",
      "metadata": {
        "id": "MR0AYJcHG5N3"
      },
      "source": [
        "* The leads who have shared their complete details with the company converted more as compared to other levels of profile completion.\n",
        "* The medium and low levels of profile completion saw comparatively very less conversions.\n",
        "* The high level of profile completion might indicate a lead's intent to pursue the course which results in high conversion."
      ],
      "id": "MR0AYJcHG5N3"
    },
    {
      "cell_type": "markdown",
      "metadata": {
        "id": "s-apAReEG5N3"
      },
      "source": [
        "**Referrals from a converted lead can be a good source of income with very low cost of advertisement. Let's see how referrals impacts lead conversion status**"
      ],
      "id": "s-apAReEG5N3"
    },
    {
      "cell_type": "code",
      "execution_count": 22,
      "metadata": {
        "colab": {
          "base_uri": "https://localhost:8080/",
          "height": 388
        },
        "id": "lyL5XyHpG5N3",
        "outputId": "9f764974-9570-4ff1-e349-5c0bf4be441c"
      },
      "outputs": [
        {
          "output_type": "display_data",
          "data": {
            "text/plain": [
              "<Figure size 720x432 with 1 Axes>"
            ],
            "image/png": "[encoded data removed]"
          },
          "metadata": {
            "needs_background": "light"
          }
        }
      ],
      "source": [
        "plt.figure(figsize=(10, 6))\n",
        "sns.countplot(x='referral', hue='status', data=data)\n",
        "plt.show()"
      ],
      "id": "lyL5XyHpG5N3"
    },
    {
      "cell_type": "markdown",
      "metadata": {
        "id": "pQcNQTV8G5N4"
      },
      "source": [
        "**Observations:**\n",
        "* There are very less number of referrals but the conversion percentage is high. \n",
        "* Company should try to get more leads through referrals by promoting rewards for existing customer base when they refer someone."
      ],
      "id": "pQcNQTV8G5N4"
    },
    {
      "cell_type": "markdown",
      "metadata": {
        "id": "aaCwbBelG5N4"
      },
      "source": [
        "**We have explored different combinations of variables. Now, let's see the pairwise correlations between all the numerical variables.**"
      ],
      "id": "aaCwbBelG5N4"
    },
    {
      "cell_type": "code",
      "execution_count": 23,
      "metadata": {
        "colab": {
          "base_uri": "https://localhost:8080/",
          "height": 527
        },
        "id": "eynxt34_G5N4",
        "outputId": "392e204b-5ed2-424e-8539-5b18c32d3e7b"
      },
      "outputs": [
        {
          "output_type": "display_data",
          "data": {
            "text/plain": [
              "<Figure size 864x504 with 2 Axes>"
            ],
            "image/png": "[encoded data removed]"
          },
          "metadata": {
            "needs_background": "light"
          }
        }
      ],
      "source": [
        "plt.figure(figsize=(12, 7))\n",
        "sns.heatmap(data.corr(), annot=True, fmt=\".2f\")\n",
        "plt.show()"
      ],
      "id": "eynxt34_G5N4"
    },
    {
      "cell_type": "markdown",
      "metadata": {
        "id": "31ZTWTnpG5N4"
      },
      "source": [
        "* There's a weak positive correlation between status and time spent on website. This implies that a person spending more time on website is more likely to bet converted. \n",
        "* There's no correlation between any independent variable."
      ],
      "id": "31ZTWTnpG5N4"
    },
    {
      "cell_type": "markdown",
      "metadata": {
        "id": "xOM5lE8XG5N4"
      },
      "source": [
        "### Data Preparation for modeling\n",
        "\n",
        "- We want to predict which lead is more likely to be converted.\n",
        "- Before we proceed to build a model, we'll have to encode categorical features.\n",
        "- We'll split the data into train and test to be able to evaluate the model that we build on the train data."
      ],
      "id": "xOM5lE8XG5N4"
    },
    {
      "cell_type": "code",
      "execution_count": 24,
      "metadata": {
        "id": "c-o8ijEVG5N4"
      },
      "outputs": [],
      "source": [
        "#Separating target variable and other variables\n",
        "X=data.drop(columns='status')\n",
        "Y=data['status']"
      ],
      "id": "c-o8ijEVG5N4"
    },
    {
      "cell_type": "code",
      "execution_count": 25,
      "metadata": {
        "id": "fZGgW1UIG5N5"
      },
      "outputs": [],
      "source": [
        "#Creating dummy variables \n",
        "#drop_first=True is used to avoid redundant variables\n",
        "X = pd.get_dummies(X, drop_first=True)"
      ],
      "id": "fZGgW1UIG5N5"
    },
    {
      "cell_type": "code",
      "execution_count": 26,
      "metadata": {
        "id": "P2FV3PPdG5N5"
      },
      "outputs": [],
      "source": [
        "#Splitting the data into train and test sets\n",
        "X_train,X_test,y_train,y_test=train_test_split(X, Y, test_size=0.30, random_state=1)"
      ],
      "id": "P2FV3PPdG5N5"
    },
    {
      "cell_type": "markdown",
      "metadata": {
        "id": "bGaHVhNpG5N5"
      },
      "source": [
        "**Checking the shape of the train and test data**"
      ],
      "id": "bGaHVhNpG5N5"
    },
    {
      "cell_type": "code",
      "execution_count": 27,
      "metadata": {
        "colab": {
          "base_uri": "https://localhost:8080/"
        },
        "id": "4a9R9yZ0G5N5",
        "outputId": "90fecac2-78c7-4917-887a-63a0769b3bc5"
      },
      "outputs": [
        {
          "output_type": "stream",
          "name": "stdout",
          "text": [
            "Shape of Training set :  (3228, 16)\n",
            "Shape of test set :  (1384, 16)\n",
            "Percentage of classes in training set:\n",
            "0    0.704151\n",
            "1    0.295849\n",
            "Name: status, dtype: float64\n",
            "Percentage of classes in test set:\n",
            "0    0.695087\n",
            "1    0.304913\n",
            "Name: status, dtype: float64\n"
          ]
        }
      ],
      "source": [
        "print(\"Shape of Training set : \", X_train.shape)\n",
        "print(\"Shape of test set : \", X_test.shape)\n",
        "print(\"Percentage of classes in training set:\")\n",
        "print(y_train.value_counts(normalize=True))\n",
        "print(\"Percentage of classes in test set:\")\n",
        "print(y_test.value_counts(normalize=True))"
      ],
      "id": "4a9R9yZ0G5N5"
    },
    {
      "cell_type": "markdown",
      "metadata": {
        "id": "H8j_un2pG5N5"
      },
      "source": [
        "## Building Classification Models"
      ],
      "id": "H8j_un2pG5N5"
    },
    {
      "cell_type": "markdown",
      "metadata": {
        "id": "tSbF9zD3G5N5"
      },
      "source": [
        "**Before training the model, let's choose the appropriate model evaluation criterion as per the problem at hand.**\n",
        "\n",
        "### Model evaluation criterion\n",
        "\n",
        "### Model can make wrong predictions as:\n",
        "\n",
        "1. Predicting a lead will not converted to a paid customer in reality, the lead would have converted to a paid customer.\n",
        "2. Predicting a lead will converted to a paid customer in reality, the lead would not have converted to a paid customer. \n",
        "\n",
        "### Which case is more important? \n",
        "\n",
        "* If we predict that a lead will not get converted and the lead would have converted then the company will lose a potential customer. \n",
        "\n",
        "* If we predict that a lead will get converted and the lead doesn't get converted the company might lose resources by nurturing false positive cases.\n",
        "\n",
        "Losing a potential customer is a greater loss for the organization.\n",
        "\n",
        "### How to reduce the losses?\n",
        "\n",
        "* Company would want `Recall` to be maximized, greater the Recall score higher are the chances of minimizing False Negatives. "
      ],
      "id": "tSbF9zD3G5N5"
    },
    {
      "cell_type": "markdown",
      "metadata": {
        "id": "9JpNi2uvG5N5"
      },
      "source": [
        "**Also, let's create a function to calculate and print the classification report and confusion matrix so that we don't have to rewrite the same code repeatedly for each model.**"
      ],
      "id": "9JpNi2uvG5N5"
    },
    {
      "cell_type": "code",
      "execution_count": 28,
      "metadata": {
        "id": "Y9Y2EOXaG5N6"
      },
      "outputs": [],
      "source": [
        "#function to print classification report and get confusion matrix in a proper format\n",
        "\n",
        "def metrics_score(actual, predicted):\n",
        "    print(classification_report(actual, predicted))\n",
        "    cm = confusion_matrix(actual, predicted)\n",
        "    plt.figure(figsize=(8,5))\n",
        "    sns.heatmap(cm, annot=True,  fmt='.2f', xticklabels=['Not Converted', 'Converted'], yticklabels=['Not Converted', 'Converted'])\n",
        "    plt.ylabel('Actual')\n",
        "    plt.xlabel('Predicted')\n",
        "    plt.show()"
      ],
      "id": "Y9Y2EOXaG5N6"
    },
    {
      "cell_type": "markdown",
      "metadata": {
        "id": "Life-8RbG5N6"
      },
      "source": [
        "### Decision Tree\n",
        "- **Fit the decision tree classifier on the training data**\n",
        "- **Check the performance on both training and testing data**\n"
      ],
      "id": "Life-8RbG5N6"
    },
    {
      "cell_type": "code",
      "execution_count": 29,
      "metadata": {
        "colab": {
          "base_uri": "https://localhost:8080/"
        },
        "id": "Ey6d8RL_G5N6",
        "outputId": "29c322ed-c68d-4b9c-a1ee-db1d1093ca29"
      },
      "outputs": [
        {
          "output_type": "execute_result",
          "data": {
            "text/plain": [
              "DecisionTreeClassifier(random_state=7)"
            ]
          },
          "metadata": {},
          "execution_count": 29
        }
      ],
      "source": [
        "#Fitting the decision tree classifier on the training data\n",
        "d_tree =  DecisionTreeClassifier(random_state=7)\n",
        "\n",
        "d_tree.fit(X_train,y_train)"
      ],
      "id": "Ey6d8RL_G5N6"
    },
    {
      "cell_type": "markdown",
      "metadata": {
        "id": "ntVlaRbVG5N6"
      },
      "source": [
        "**Let's check the performance on the training data:**"
      ],
      "id": "ntVlaRbVG5N6"
    },
    {
      "cell_type": "code",
      "execution_count": 30,
      "metadata": {
        "colab": {
          "base_uri": "https://localhost:8080/",
          "height": 495
        },
        "id": "QsnMf9GRG5N6",
        "outputId": "93f84b32-5f86-4ff0-e501-e231c1d105b4"
      },
      "outputs": [
        {
          "output_type": "stream",
          "name": "stdout",
          "text": [
            "              precision    recall  f1-score   support\n",
            "\n",
            "           0       1.00      1.00      1.00      2273\n",
            "           1       1.00      1.00      1.00       955\n",
            "\n",
            "    accuracy                           1.00      3228\n",
            "   macro avg       1.00      1.00      1.00      3228\n",
            "weighted avg       1.00      1.00      1.00      3228\n",
            "\n"
          ]
        },
        {
          "output_type": "display_data",
          "data": {
            "text/plain": [
              "<Figure size 576x360 with 2 Axes>"
            ],
            "image/png": "[encoded data removed]"
          },
          "metadata": {
            "needs_background": "light"
          }
        }
      ],
      "source": [
        "#Checking performance on the training data\n",
        "y_pred_train1 = d_tree.predict(X_train)\n",
        "metrics_score(y_train,y_pred_train1)"
      ],
      "id": "QsnMf9GRG5N6"
    },
    {
      "cell_type": "markdown",
      "metadata": {
        "id": "fdZUtcCLG5N6"
      },
      "source": [
        "**Observations:**\n",
        "- This model is working perfectly on the training data\n",
        "- However, it may be overfitting"
      ],
      "id": "fdZUtcCLG5N6"
    },
    {
      "cell_type": "markdown",
      "metadata": {
        "id": "Jd0Uqq0LG5N7"
      },
      "source": [
        "**Let's check the performance on test data to see if the model is overfitting.**"
      ],
      "id": "Jd0Uqq0LG5N7"
    },
    {
      "cell_type": "code",
      "execution_count": 31,
      "metadata": {
        "scrolled": false,
        "colab": {
          "base_uri": "https://localhost:8080/",
          "height": 495
        },
        "id": "I7iVWNSiG5N7",
        "outputId": "f61a44e8-9825-43b2-de07-c13ec213c1c0"
      },
      "outputs": [
        {
          "output_type": "stream",
          "name": "stdout",
          "text": [
            "              precision    recall  f1-score   support\n",
            "\n",
            "           0       0.87      0.86      0.87       962\n",
            "           1       0.69      0.70      0.70       422\n",
            "\n",
            "    accuracy                           0.81      1384\n",
            "   macro avg       0.78      0.78      0.78      1384\n",
            "weighted avg       0.81      0.81      0.81      1384\n",
            "\n"
          ]
        },
        {
          "output_type": "display_data",
          "data": {
            "text/plain": [
              "<Figure size 576x360 with 2 Axes>"
            ],
            "image/png": "[encoded data removed]"
          },
          "metadata": {
            "needs_background": "light"
          }
        }
      ],
      "source": [
        "#Checking performance on the testing data\n",
        "y_pred_test1 = d_tree.predict(X_test)\n",
        "metrics_score(y_test,y_pred_test1)"
      ],
      "id": "I7iVWNSiG5N7"
    },
    {
      "cell_type": "markdown",
      "metadata": {
        "id": "HcVhb9uPG5N7"
      },
      "source": [
        "**Observations:**\n",
        "- Whereas the recall for the training data is 1, the recall is 0.7 for the test data\n",
        "- This means that the training data is overfitting on the data"
      ],
      "id": "HcVhb9uPG5N7"
    },
    {
      "cell_type": "markdown",
      "metadata": {
        "id": "9MNAjtR1G5N7"
      },
      "source": [
        "**Let's try hyperparameter tuning using GridSearchCV to find the optimal max_depth** in order to reduce overfitting of the model. We can tune some other hyperparameters as well."
      ],
      "id": "9MNAjtR1G5N7"
    },
    {
      "cell_type": "markdown",
      "metadata": {
        "id": "XIKVpy70G5N7"
      },
      "source": [
        "### **Decision Tree - Hyperparameter Tuning**\n",
        "\n",
        "We will use the class_weight hyperparameter with value equal to {0:0.3, 1:0.7} which is approximately the opposite of the imbalance in the original data. \n",
        "\n",
        "**This would tell the model that 1 is the important class here.**"
      ],
      "id": "XIKVpy70G5N7"
    },
    {
      "cell_type": "code",
      "execution_count": 32,
      "metadata": {
        "colab": {
          "base_uri": "https://localhost:8080/"
        },
        "id": "a_q9LqG_G5N7",
        "outputId": "080a738c-09eb-4df6-85fa-e5dec759f601"
      },
      "outputs": [
        {
          "output_type": "execute_result",
          "data": {
            "text/plain": [
              "DecisionTreeClassifier(class_weight={0: 0.3, 1: 0.7}, criterion='entropy',\n",
              "                       max_depth=3, min_samples_leaf=5, random_state=7)"
            ]
          },
          "metadata": {},
          "execution_count": 32
        }
      ],
      "source": [
        "# Choose the type of classifier \n",
        "d_tree_tuned = DecisionTreeClassifier(random_state=7, class_weight={0:0.3, 1:0.7})\n",
        "\n",
        "# Grid of parameters to choose from\n",
        "parameters = {'max_depth': np.arange(2,10), \n",
        "              'criterion': ['gini', 'entropy'],\n",
        "              'min_samples_leaf': [5, 10, 20, 25]\n",
        "             }\n",
        "\n",
        "# Type of scoring used to compare parameter combinations - recall score for class 1\n",
        "scorer = metrics.make_scorer(recall_score, pos_label=1)\n",
        "\n",
        "# Run the grid search\n",
        "grid_obj = GridSearchCV(d_tree_tuned, parameters, scoring=scorer, cv=5)\n",
        "grid_obj = grid_obj.fit(X_train, y_train)\n",
        "\n",
        "# Set the classifier to the best combination of parameters\n",
        "d_tree_tuned = grid_obj.best_estimator_\n",
        "\n",
        "# Fit the best algorithm to the data\n",
        "d_tree_tuned.fit(X_train, y_train)"
      ],
      "id": "a_q9LqG_G5N7"
    },
    {
      "cell_type": "markdown",
      "metadata": {
        "id": "eSD8yI1WG5N7"
      },
      "source": [
        "We have tuned the model and fit the tuned model on the training data. Now, **let's check the model performance on the training and testing data.**"
      ],
      "id": "eSD8yI1WG5N7"
    },
    {
      "cell_type": "markdown",
      "metadata": {
        "id": "eqT8wV19G5N7"
      },
      "source": [
        "### **Review the Performance:**\n",
        "- **Check the performance on both training and testing data**\n",
        "- **Compare the results with the results from the decision tree model with default parameters**"
      ],
      "id": "eqT8wV19G5N7"
    },
    {
      "cell_type": "code",
      "execution_count": 33,
      "metadata": {
        "colab": {
          "base_uri": "https://localhost:8080/",
          "height": 495
        },
        "id": "ZQIsRtseG5N8",
        "outputId": "4fb72ae3-4dde-41c5-8155-1c659c7eca3e"
      },
      "outputs": [
        {
          "output_type": "stream",
          "name": "stdout",
          "text": [
            "              precision    recall  f1-score   support\n",
            "\n",
            "           0       0.94      0.77      0.85      2273\n",
            "           1       0.62      0.88      0.73       955\n",
            "\n",
            "    accuracy                           0.80      3228\n",
            "   macro avg       0.78      0.83      0.79      3228\n",
            "weighted avg       0.84      0.80      0.81      3228\n",
            "\n"
          ]
        },
        {
          "output_type": "display_data",
          "data": {
            "text/plain": [
              "<Figure size 576x360 with 2 Axes>"
            ],
            "image/png": "[encoded data removed]"
          },
          "metadata": {
            "needs_background": "light"
          }
        }
      ],
      "source": [
        "#Checking performance on the training data\n",
        "y_pred_train2 = d_tree_tuned.predict(X_train)\n",
        "metrics_score(y_train,y_pred_train2)"
      ],
      "id": "ZQIsRtseG5N8"
    },
    {
      "cell_type": "markdown",
      "metadata": {
        "id": "91oAc83zG5N8"
      },
      "source": [
        "**Observations:**\n",
        "- The performance on the training data has been reduced but hopefully this means it'll perform better on the test data"
      ],
      "id": "91oAc83zG5N8"
    },
    {
      "cell_type": "markdown",
      "metadata": {
        "id": "7PfzJCWrG5N8"
      },
      "source": [
        "**Let's check the model performance on the testing data**"
      ],
      "id": "7PfzJCWrG5N8"
    },
    {
      "cell_type": "code",
      "execution_count": 34,
      "metadata": {
        "colab": {
          "base_uri": "https://localhost:8080/",
          "height": 495
        },
        "id": "0ojwOxuPG5N8",
        "outputId": "e80551b1-9412-44f7-f8df-68fa74e47c3b"
      },
      "outputs": [
        {
          "output_type": "stream",
          "name": "stdout",
          "text": [
            "              precision    recall  f1-score   support\n",
            "\n",
            "           0       0.93      0.77      0.84       962\n",
            "           1       0.62      0.86      0.72       422\n",
            "\n",
            "    accuracy                           0.80      1384\n",
            "   macro avg       0.77      0.82      0.78      1384\n",
            "weighted avg       0.83      0.80      0.80      1384\n",
            "\n"
          ]
        },
        {
          "output_type": "display_data",
          "data": {
            "text/plain": [
              "<Figure size 576x360 with 2 Axes>"
            ],
            "image/png": "[encoded data removed]"
          },
          "metadata": {
            "needs_background": "light"
          }
        }
      ],
      "source": [
        "#Checking performance on the testing data\n",
        "y_pred_test2 = d_tree_tuned.predict(X_test)\n",
        "metrics_score(y_test,y_pred_test2)"
      ],
      "id": "0ojwOxuPG5N8"
    },
    {
      "cell_type": "markdown",
      "metadata": {
        "id": "FnE-3QDkG5N8"
      },
      "source": [
        "**Observations:**\n",
        "- Just as we'd hoped, the tuning helped to increase the performance on the test data with a reduction in overfitting\n",
        "- The recall on the test data has increased to 0.88 from 0.70"
      ],
      "id": "FnE-3QDkG5N8"
    },
    {
      "cell_type": "markdown",
      "metadata": {
        "id": "kltTqMODG5N8"
      },
      "source": [
        "**Let's visualize the tuned decision tree** and observe the decision rules:"
      ],
      "id": "kltTqMODG5N8"
    },
    {
      "cell_type": "markdown",
      "metadata": {
        "id": "9bKhzWJsG5N8"
      },
      "source": [
        "### **Tuned decision tree visualization**"
      ],
      "id": "9bKhzWJsG5N8"
    },
    {
      "cell_type": "code",
      "execution_count": 35,
      "metadata": {
        "colab": {
          "base_uri": "https://localhost:8080/",
          "height": 729
        },
        "id": "RvM9KimeG5N8",
        "outputId": "2315f3b7-b0df-41fc-cfc5-dc509f4cb55f"
      },
      "outputs": [
        {
          "output_type": "display_data",
          "data": {
            "text/plain": [
              "<Figure size 1440x1440 with 1 Axes>"
            ],
            "image/png": "[encoded data removed]"
          },
          "metadata": {
            "needs_background": "light"
          }
        }
      ],
      "source": [
        "features = list(X.columns)\n",
        "\n",
        "plt.figure(figsize=(20,20))\n",
        "\n",
        "tree.plot_tree(d_tree_tuned,feature_names=features,filled=True,fontsize=9,node_ids=True,class_names=True)\n",
        "plt.show()"
      ],
      "id": "RvM9KimeG5N8"
    },
    {
      "cell_type": "markdown",
      "metadata": {
        "id": "0uXWqjeqG5N9"
      },
      "source": [
        "**Note:** Blue leaves represent the converted customers i.e. **y[1]**, while the orange leaves represent the nont converted customers i.e. **y[0]**. Also, the more the number of observations in a leaf, the darker its color gets.\n",
        "\n",
        "**Observations:**\n"
      ],
      "id": "0uXWqjeqG5N9"
    },
    {
      "cell_type": "markdown",
      "metadata": {
        "id": "M5IU4Z_FG5N9"
      },
      "source": [
        "**Let's look at the feature importance** of the tuned decision tree model:\n",
        "- Leads whose first interaction is on the website, time spent on the website is >415.5, and are older than 25 years old are likely to convert.\n",
        "-- A major exception to the above are users who have only completed between  50-75% of their profile. Even if they have spent >415.5 on the website and are older than 25, they are still unlikely to convert if they only have 50-75% of their profile completed\n",
        "- Leads whose first touch is not on the website and spend < 419.5 on the website once they get there are likely to never convert\n",
        "-- The only potential exclusion to the above might be leads whose last interaction with ExtraaLearn was on the website "
      ],
      "id": "M5IU4Z_FG5N9"
    },
    {
      "cell_type": "code",
      "execution_count": 36,
      "metadata": {
        "colab": {
          "base_uri": "https://localhost:8080/"
        },
        "id": "5DmHdXgLG5N9",
        "outputId": "ea0c287d-fa88-49fa-9c63-e8d9f2fc6943"
      },
      "outputs": [
        {
          "output_type": "stream",
          "name": "stdout",
          "text": [
            "                                     Imp\n",
            "time_spent_on_website           0.348142\n",
            "first_interaction_Website       0.327181\n",
            "profile_completed_Medium        0.239274\n",
            "age                             0.063893\n",
            "last_activity_Website Activity  0.021511\n",
            "website_visits                  0.000000\n",
            "page_views_per_visit            0.000000\n",
            "current_occupation_Student      0.000000\n",
            "current_occupation_Unemployed   0.000000\n",
            "profile_completed_Low           0.000000\n",
            "last_activity_Phone Activity    0.000000\n",
            "print_media_type1_Yes           0.000000\n",
            "print_media_type2_Yes           0.000000\n",
            "digital_media_Yes               0.000000\n",
            "educational_channels_Yes        0.000000\n",
            "referral_Yes                    0.000000\n"
          ]
        }
      ],
      "source": [
        "# Importance of features in the tree building\n",
        "\n",
        "print (pd.DataFrame(d_tree_tuned.feature_importances_, columns = [\"Imp\"], index = X_train.columns).sort_values(by = 'Imp', ascending = False))"
      ],
      "id": "5DmHdXgLG5N9"
    },
    {
      "cell_type": "code",
      "execution_count": 37,
      "metadata": {
        "colab": {
          "base_uri": "https://localhost:8080/",
          "height": 611
        },
        "id": "gz34S4r0G5N9",
        "outputId": "21a01b7c-9b16-4b15-9c5f-9e303fc2ddc2"
      },
      "outputs": [
        {
          "output_type": "display_data",
          "data": {
            "text/plain": [
              "<Figure size 720x720 with 1 Axes>"
            ],
            "image/png": "[encoded data removed]"
          },
          "metadata": {
            "needs_background": "light"
          }
        }
      ],
      "source": [
        "#Plotting the feature importance\n",
        "importances = d_tree_tuned.feature_importances_\n",
        "indices = np.argsort(importances)\n",
        "\n",
        "plt.figure(figsize=(10,10))\n",
        "plt.title('Feature Importances')\n",
        "plt.barh(range(len(indices)), importances[indices], color='violet', align='center')\n",
        "plt.yticks(range(len(indices)), [features[i] for i in indices])\n",
        "plt.xlabel('Relative Importance')\n",
        "plt.show()"
      ],
      "id": "gz34S4r0G5N9"
    },
    {
      "cell_type": "markdown",
      "metadata": {
        "id": "8VjwoDY6G5N9"
      },
      "source": [
        "**Observations:**\n",
        "- **Time spent on the website and first_interaction_website are the most important features** **followed by profile_completed, age, and last_activity**.\n",
        "- **The rest of the variables have no impact in this model, while deciding whether a lead will be converted or not**.\n",
        "\n",
        "Now let's build another model - **a random forest classifier**"
      ],
      "id": "8VjwoDY6G5N9"
    },
    {
      "cell_type": "markdown",
      "metadata": {
        "id": "-TyfolXKG5N9"
      },
      "source": [
        "### **Random Forest Classifier**\n",
        "\n",
        "\n",
        "- **Fit the random forest classifier on the training data**\n",
        "- **Check the performance on both training and testing data**"
      ],
      "id": "-TyfolXKG5N9"
    },
    {
      "cell_type": "code",
      "execution_count": 38,
      "metadata": {
        "colab": {
          "base_uri": "https://localhost:8080/"
        },
        "id": "qK4re_XhG5N9",
        "outputId": "e19835d4-ecec-4ad0-ba8e-d0dd46021d78"
      },
      "outputs": [
        {
          "output_type": "execute_result",
          "data": {
            "text/plain": [
              "RandomForestClassifier(random_state=7)"
            ]
          },
          "metadata": {},
          "execution_count": 38
        }
      ],
      "source": [
        "#Fitting the decision tree classifier on the training data\n",
        "rf_estimator = RandomForestClassifier(random_state=7)\n",
        "\n",
        "rf_estimator.fit(X_train,y_train)"
      ],
      "id": "qK4re_XhG5N9"
    },
    {
      "cell_type": "markdown",
      "metadata": {
        "id": "tOLuC5tYG5N-"
      },
      "source": [
        "**Let's check the performance of the model on the training data:**"
      ],
      "id": "tOLuC5tYG5N-"
    },
    {
      "cell_type": "code",
      "execution_count": 39,
      "metadata": {
        "colab": {
          "base_uri": "https://localhost:8080/",
          "height": 495
        },
        "id": "J8Hs3gImG5N-",
        "outputId": "4b55f57e-1450-489a-ee38-aaa7e3dc2e32"
      },
      "outputs": [
        {
          "output_type": "stream",
          "name": "stdout",
          "text": [
            "              precision    recall  f1-score   support\n",
            "\n",
            "           0       1.00      1.00      1.00      2273\n",
            "           1       1.00      1.00      1.00       955\n",
            "\n",
            "    accuracy                           1.00      3228\n",
            "   macro avg       1.00      1.00      1.00      3228\n",
            "weighted avg       1.00      1.00      1.00      3228\n",
            "\n"
          ]
        },
        {
          "output_type": "display_data",
          "data": {
            "text/plain": [
              "<Figure size 576x360 with 2 Axes>"
            ],
            "image/png": "[encoded data removed]"
          },
          "metadata": {
            "needs_background": "light"
          }
        }
      ],
      "source": [
        "#Checking performance on the training data\n",
        "y_pred_train3 = rf_estimator.predict(X_train)\n",
        "metrics_score(y_train,y_pred_train3)"
      ],
      "id": "J8Hs3gImG5N-"
    },
    {
      "cell_type": "markdown",
      "metadata": {
        "id": "ndjkf3W8G5N-"
      },
      "source": [
        "**Observations:**\n",
        "- The random forest model is performing perfectly on the training data"
      ],
      "id": "ndjkf3W8G5N-"
    },
    {
      "cell_type": "markdown",
      "metadata": {
        "id": "NyGlpcixG5N-"
      },
      "source": [
        "**Let's confirm this by checking its performance on the testing data:**"
      ],
      "id": "NyGlpcixG5N-"
    },
    {
      "cell_type": "code",
      "execution_count": 40,
      "metadata": {
        "colab": {
          "base_uri": "https://localhost:8080/",
          "height": 495
        },
        "id": "ohpUUYPwG5N-",
        "outputId": "00d79e7d-8aad-4072-9563-a2e4a0b095e0"
      },
      "outputs": [
        {
          "output_type": "stream",
          "name": "stdout",
          "text": [
            "              precision    recall  f1-score   support\n",
            "\n",
            "           0       0.87      0.92      0.90       962\n",
            "           1       0.80      0.69      0.74       422\n",
            "\n",
            "    accuracy                           0.85      1384\n",
            "   macro avg       0.84      0.81      0.82      1384\n",
            "weighted avg       0.85      0.85      0.85      1384\n",
            "\n"
          ]
        },
        {
          "output_type": "display_data",
          "data": {
            "text/plain": [
              "<Figure size 576x360 with 2 Axes>"
            ],
            "image/png": "[encoded data removed]"
          },
          "metadata": {
            "needs_background": "light"
          }
        }
      ],
      "source": [
        "#Checking performance on the testing data\n",
        "y_pred_test3 = rf_estimator.predict(X_test)\n",
        "metrics_score(y_test,y_pred_test3)"
      ],
      "id": "ohpUUYPwG5N-"
    },
    {
      "cell_type": "markdown",
      "metadata": {
        "id": "QiPk63ztG5N-"
      },
      "source": [
        "**Observations:**\n",
        "- The random forest is overfitting the training data since it performs so well for the training data and so poorly for the test data\n",
        "- It had a recall of 1 on the training data and 0.69 on the test data"
      ],
      "id": "QiPk63ztG5N-"
    },
    {
      "cell_type": "markdown",
      "metadata": {
        "id": "58zOA2RHG5N-"
      },
      "source": [
        "**Let's see if we can get a better model by tuning the random forest classifier:**"
      ],
      "id": "58zOA2RHG5N-"
    },
    {
      "cell_type": "markdown",
      "metadata": {
        "id": "hFUhJrNyG5N-"
      },
      "source": [
        "### **Random Forest Classifier - Hyperparameter Tuning**"
      ],
      "id": "hFUhJrNyG5N-"
    },
    {
      "cell_type": "markdown",
      "metadata": {
        "id": "V8Feak0jG5N-"
      },
      "source": [
        "Let's try **tuning some of the important hyperparameters of the Random Forest Classifier**. \n",
        "\n",
        "We will **not** tune the `criterion` hyperparameter as we know from hyperparameter tuning for decision trees that `entropy` is a better splitting criterion for this data."
      ],
      "id": "V8Feak0jG5N-"
    },
    {
      "cell_type": "code",
      "execution_count": 41,
      "metadata": {
        "id": "w58uQdhsG5N_"
      },
      "outputs": [],
      "source": [
        "# Choose the type of classifier\n",
        "rf_estimator_tuned = RandomForestClassifier(criterion=\"entropy\", random_state=7)\n",
        "\n",
        "# Grid of parameters to choose from\n",
        "parameters = {\"n_estimators\": [100, 110, 120],\n",
        "    \"max_depth\": [5, 6, 7],\n",
        "    \"max_features\": [0.8, 0.9, 1]\n",
        "             }\n",
        "\n",
        "# Type of scoring used to compare parameter combinations - recall score for class 1\n",
        "scorer = metrics.make_scorer(recall_score, pos_label=1)\n",
        "\n",
        "# Run the grid search\n",
        "grid_obj = GridSearchCV(rf_estimator_tuned, parameters, scoring=scorer, cv=5)\n",
        "grid_obj = grid_obj.fit(X_train, y_train)\n",
        "\n",
        "# Set the classifier to the best combination of parameters\n",
        "rf_estimator_tuned = grid_obj.best_estimator_"
      ],
      "id": "w58uQdhsG5N_"
    },
    {
      "cell_type": "code",
      "execution_count": 42,
      "metadata": {
        "colab": {
          "base_uri": "https://localhost:8080/"
        },
        "id": "qPrFO_bqG5N_",
        "outputId": "88d668f6-778c-4c95-823a-821e6b394471"
      },
      "outputs": [
        {
          "output_type": "execute_result",
          "data": {
            "text/plain": [
              "RandomForestClassifier(criterion='entropy', max_depth=6, max_features=0.8,\n",
              "                       n_estimators=110, random_state=7)"
            ]
          },
          "metadata": {},
          "execution_count": 42
        }
      ],
      "source": [
        "#Fitting the best algorithm to the training data\n",
        "rf_estimator_tuned.fit(X_train, y_train)"
      ],
      "id": "qPrFO_bqG5N_"
    },
    {
      "cell_type": "code",
      "execution_count": 43,
      "metadata": {
        "colab": {
          "base_uri": "https://localhost:8080/",
          "height": 495
        },
        "id": "8tJKy1VNG5N_",
        "outputId": "752b59a2-500d-4a97-c69b-180110f02c7b"
      },
      "outputs": [
        {
          "output_type": "stream",
          "name": "stdout",
          "text": [
            "              precision    recall  f1-score   support\n",
            "\n",
            "           0       0.91      0.92      0.91      2273\n",
            "           1       0.80      0.78      0.79       955\n",
            "\n",
            "    accuracy                           0.88      3228\n",
            "   macro avg       0.86      0.85      0.85      3228\n",
            "weighted avg       0.88      0.88      0.88      3228\n",
            "\n"
          ]
        },
        {
          "output_type": "display_data",
          "data": {
            "text/plain": [
              "<Figure size 576x360 with 2 Axes>"
            ],
            "image/png": "[encoded data removed]"
          },
          "metadata": {
            "needs_background": "light"
          }
        }
      ],
      "source": [
        "#Checking performance on the training data\n",
        "y_pred_train4 = rf_estimator_tuned.predict(X_train)\n",
        "metrics_score(y_train, y_pred_train4)"
      ],
      "id": "8tJKy1VNG5N_"
    },
    {
      "cell_type": "markdown",
      "metadata": {
        "id": "bK2Yn2SNG5N_"
      },
      "source": [
        "**Observations:**\n",
        "- We can see that after hyperparameter tuning, the model is performing poorly on the train data as well.\n",
        "- We can try adding some other hyperparameters and/or changing values of some hyperparameters to tune the model and see if we can get a better performance.\n",
        "\n",
        "**Note:** **GridSearchCV can take a long time to run** depending on the number of hyperparameters and the number of values tried for each hyperparameter. **Therefore, we have reduced the number of values passed to each hyperparameter.** "
      ],
      "id": "bK2Yn2SNG5N_"
    },
    {
      "cell_type": "markdown",
      "metadata": {
        "id": "X6B1bqIaG5N_"
      },
      "source": [
        "### **Tune the random forest classifier**\n",
        "- **Check the performance on both training and testing data**\n",
        "- **Compare the results with the results from the random forest model with default parameters**"
      ],
      "id": "X6B1bqIaG5N_"
    },
    {
      "cell_type": "code",
      "execution_count": 44,
      "metadata": {
        "colab": {
          "base_uri": "https://localhost:8080/"
        },
        "id": "03ObuTvWG5N_",
        "outputId": "b7e71c1a-0559-4dd4-e58b-219f8ffff72c"
      },
      "outputs": [
        {
          "output_type": "execute_result",
          "data": {
            "text/plain": [
              "RandomForestClassifier(class_weight='balanced', criterion='entropy',\n",
              "                       max_depth=6, max_features=0.8, max_samples=0.9,\n",
              "                       min_samples_leaf=25, n_estimators=120, random_state=7)"
            ]
          },
          "metadata": {},
          "execution_count": 44
        }
      ],
      "source": [
        "# Choose the type of classifier\n",
        "rf_estimator_tuned = RandomForestClassifier(criterion=\"entropy\", random_state=7)\n",
        "\n",
        "# Grid of parameters to choose from\n",
        "parameters = {\"n_estimators\": [110, 120],\n",
        "    \"max_depth\": [6, 7],\n",
        "    \"min_samples_leaf\": [20, 25],\n",
        "    \"max_features\": [0.8, 0.9],\n",
        "    \"max_samples\": [0.9, 1],\n",
        "    \"class_weight\": [{0:0.7, 1:0.3}, \"balanced\", {0:0.4, 1:0.1}]\n",
        "             }\n",
        "\n",
        "# Type of scoring used to compare parameter combinations - recall score for class 1\n",
        "scorer = metrics.make_scorer(recall_score, pos_label=1)\n",
        "\n",
        "# Run the grid search on the training data using scorer=scorer and cv=5\n",
        "grid_obj = GridSearchCV(rf_estimator_tuned,parameters,scoring=scorer,cv=5)\n",
        "grid_obj = grid_obj.fit(X_train,y_train)\n",
        "\n",
        "# Save the best estimator to variable rf_estimator_tuned\n",
        "rf_estimator_tuned = grid_obj.best_estimator_\n",
        "\n",
        "#Fit the best estimator to the training data\n",
        "rf_estimator_tuned.fit(X_train,y_train)"
      ],
      "id": "03ObuTvWG5N_"
    },
    {
      "cell_type": "markdown",
      "metadata": {
        "id": "JiFD94EoG5OA"
      },
      "source": [
        "**Let's check the performance of the tuned model:**"
      ],
      "id": "JiFD94EoG5OA"
    },
    {
      "cell_type": "code",
      "execution_count": 45,
      "metadata": {
        "colab": {
          "base_uri": "https://localhost:8080/",
          "height": 495
        },
        "id": "176TnEfZG5OA",
        "outputId": "f9563366-2933-41d1-a1ae-a199d48a9265"
      },
      "outputs": [
        {
          "output_type": "stream",
          "name": "stdout",
          "text": [
            "              precision    recall  f1-score   support\n",
            "\n",
            "           0       0.94      0.83      0.88      2273\n",
            "           1       0.68      0.87      0.76       955\n",
            "\n",
            "    accuracy                           0.84      3228\n",
            "   macro avg       0.81      0.85      0.82      3228\n",
            "weighted avg       0.86      0.84      0.84      3228\n",
            "\n"
          ]
        },
        {
          "output_type": "display_data",
          "data": {
            "text/plain": [
              "<Figure size 576x360 with 2 Axes>"
            ],
            "image/png": "[encoded data removed]"
          },
          "metadata": {
            "needs_background": "light"
          }
        }
      ],
      "source": [
        "#Checking performance on the training data\n",
        "y_pred_train5 = rf_estimator_tuned.predict(X_train)\n",
        "metrics_score(y_train,y_pred_train5)"
      ],
      "id": "176TnEfZG5OA"
    },
    {
      "cell_type": "markdown",
      "metadata": {
        "id": "QJ3Qi6v0G5OA"
      },
      "source": [
        "**Observations:**\n",
        "- This model is performing better than the previous on the training data\n",
        "- If it performs well on the testing data, this could be a viable model"
      ],
      "id": "QJ3Qi6v0G5OA"
    },
    {
      "cell_type": "markdown",
      "metadata": {
        "id": "HPICkKLcG5OA"
      },
      "source": [
        "**Let's check the model performance on the test data:**"
      ],
      "id": "HPICkKLcG5OA"
    },
    {
      "cell_type": "code",
      "execution_count": 46,
      "metadata": {
        "colab": {
          "base_uri": "https://localhost:8080/",
          "height": 495
        },
        "id": "vjuYDrroG5OA",
        "outputId": "4ff689d8-c4ec-49c8-edf7-4c672993b3a4"
      },
      "outputs": [
        {
          "output_type": "stream",
          "name": "stdout",
          "text": [
            "              precision    recall  f1-score   support\n",
            "\n",
            "           0       0.93      0.83      0.87       962\n",
            "           1       0.68      0.85      0.76       422\n",
            "\n",
            "    accuracy                           0.83      1384\n",
            "   macro avg       0.81      0.84      0.82      1384\n",
            "weighted avg       0.85      0.83      0.84      1384\n",
            "\n"
          ]
        },
        {
          "output_type": "display_data",
          "data": {
            "text/plain": [
              "<Figure size 576x360 with 2 Axes>"
            ],
            "image/png": "[encoded data removed]"
          },
          "metadata": {
            "needs_background": "light"
          }
        }
      ],
      "source": [
        "#Checking performance on the testing data\n",
        "y_pred_test5 = rf_estimator_tuned.predict(X_test)\n",
        "metrics_score(y_test,y_pred_test5)"
      ],
      "id": "vjuYDrroG5OA"
    },
    {
      "cell_type": "markdown",
      "metadata": {
        "id": "D9NcGxWHG5OA"
      },
      "source": [
        "**Observations:**\n",
        "- The recall is 0.85 which is pretty close to the recall on the training data\n",
        "- This model performs decently well on both the training and test data"
      ],
      "id": "D9NcGxWHG5OA"
    },
    {
      "cell_type": "markdown",
      "metadata": {
        "id": "uNyR2YY6G5OA"
      },
      "source": [
        "**One of the drawbacks of ensemble models is that we lose the ability to obtain an interpretation of the model. We cannot observe the decision rules for random forests the way we did for decision trees. So, let's just check the feature importances of the model.**"
      ],
      "id": "uNyR2YY6G5OA"
    },
    {
      "cell_type": "code",
      "execution_count": 47,
      "metadata": {
        "colab": {
          "base_uri": "https://localhost:8080/",
          "height": 627
        },
        "id": "3vAQ4XING5OA",
        "outputId": "a969424d-6f3b-491b-bc62-e622a228a9b9"
      },
      "outputs": [
        {
          "output_type": "display_data",
          "data": {
            "text/plain": [
              "<Figure size 864x864 with 1 Axes>"
            ],
            "image/png": "[encoded data removed]"
          },
          "metadata": {
            "needs_background": "light"
          }
        }
      ],
      "source": [
        "importances = rf_estimator_tuned.feature_importances_\n",
        "indices = np.argsort(importances)\n",
        "feature_names = list(X.columns)\n",
        "\n",
        "plt.figure(figsize=(12,12))\n",
        "plt.title('Feature Importances')\n",
        "plt.barh(range(len(indices)), importances[indices], color='violet', align='center')\n",
        "plt.yticks(range(len(indices)), [feature_names[i] for i in indices])\n",
        "plt.xlabel('Relative Importance')\n",
        "plt.show()"
      ],
      "id": "3vAQ4XING5OA"
    },
    {
      "cell_type": "markdown",
      "metadata": {
        "id": "RosynEaNG5OB"
      },
      "source": [
        "**Observations:**\n",
        "- Similar to the decision tree model, **time spent on website, first_interaction_website, profile_completed, and age are the top four features** that help to distinguish between not converted and converted leads.\n",
        "- Unlike the decision tree, **the random forest gives some importance to other variables like occupation, page_views_per_visit, as well.** This implies that the random forest is giving importance to more factors in comparison to the decision tree."
      ],
      "id": "RosynEaNG5OB"
    },
    {
      "cell_type": "markdown",
      "metadata": {
        "id": "j5-NNwMRG5OB"
      },
      "source": [
        "## **Conclusion and Recommendations**"
      ],
      "id": "j5-NNwMRG5OB"
    },
    {
      "cell_type": "markdown",
      "metadata": {
        "id": "ipT8jOAPG5OB"
      },
      "source": [
        "**Conclusions on the key factors that drive the conversion of leads and recommendations to the business on how can they improve the conversion rate**"
      ],
      "id": "ipT8jOAPG5OB"
    },
    {
      "cell_type": "markdown",
      "metadata": {
        "id": "nWGXLLubG5OB"
      },
      "source": [
        "**Conclusions:**\n",
        "- We have created 2 nearly equally performing models\n",
        "- Our best performing decision tree has a recall of 86% on test data and our best performing random foresr gas a recall of 85% on data\n",
        "- Either of these models will work decently well in predicting whether or not a lead will convert\n",
        "- Time spent on the website, the first interaction being on the website, profile amount completed, and age seem to be the most important characteristics in determing whether or not someone will convert \n",
        "\n",
        "**Recommendations:**\n",
        "- After a customer has made contact, it is first of all important to direct the lead to the website. This should be factored in when working on remarkting plans\n",
        "- Additionally, once a person has completed some of their profile, it might be worth sending them a reminder email or calling them telling them that they should complete their profile since profile completion amount seems to be tied to the eventual conversion\n",
        "- If a customer is over 25, had their first hit on the website and have not completed their profile, it could be smart to redirect them to the website with a followup to complete their profile to increase their likelihood of converting\n"
      ],
      "id": "nWGXLLubG5OB"
    }
  ],
  "metadata": {
    "kernelspec": {
      "display_name": "Python 3",
      "language": "python",
      "name": "python3"
    },
    "language_info": {
      "codemirror_mode": {
        "name": "ipython",
        "version": 3
      },
      "file_extension": ".py",
      "mimetype": "text/x-python",
      "name": "python",
      "nbconvert_exporter": "python",
      "pygments_lexer": "ipython3",
      "version": "3.8.3"
    },
    "colab": {
      "name": "06 decision trees and random forest.ipynb",
      "provenance": [],
      "collapsed_sections": [
        "zxBoLuDpG5N0"
      ]
    }
  },
  "nbformat": 4,
  "nbformat_minor": 5
}