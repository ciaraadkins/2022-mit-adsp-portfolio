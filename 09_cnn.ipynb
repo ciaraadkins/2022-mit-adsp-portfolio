{
  "cells": [
    {
      "cell_type": "markdown",
      "metadata": {
        "id": "Q91KqmCRu64D"
      },
      "source": [
        "# **Convolutional Neural Networks: Street View Housing Number Digit Recognition**\n",
        "\n",
        "-----------------------------\n",
        "\n",
        "**Author**: Ciara Adkins\n",
        "\n",
        "**Email**: adkins.ciara@gmail.com\n",
        "\n",
        "**LinkedIn**: https://www.linkedin.com/in/ciara-adkins/\n",
        "\n",
        "-----------------------------\n",
        "\n",
        "This is the project on classification using Convolutional Neural Networks. We will continue to work with the Street View Housing Numbers (SVHN) image dataset for this project.\n",
        "\n",
        "\n",
        "Completed as a part of the MIT Applied Data Science course in the Spring of 2022. Full e-portfolio can be viewed here: https://eportfolio.mygreatlearning.com/ciara-adkins\n",
        "\n",
        "--------------\n",
        "### **Context:** \n",
        "--------------\n",
        "\n",
        "One of the most interesting tasks in deep learning is to recognize objects in natural scenes. The ability to process visual information using machine learning algorithms can be very useful as demonstrated in various applications.\n",
        "\n",
        "The SVHN dataset contains over 600,000 labeled digits cropped from street-level photos. It is one of the most popular image recognition datasets. It has been used in neural networks created by Google to improve map quality by automatically transcribing the address numbers from a patch of pixels. The transcribed number with a known street address helps pinpoint the location of the building it represents. \n",
        "\n",
        "----------------\n",
        "### **Objective:**\n",
        "----------------\n",
        "\n",
        "Build a CNN model that can identify the digits in the images.\n",
        "\n",
        "-------------\n",
        "### **Dataset**\n",
        "-------------\n",
        "Here, we will use a subset of the original data to save some computation time. The dataset is provided as a .h5 file. The basic preprocessing steps have been done."
      ]
    },
    {
      "cell_type": "markdown",
      "metadata": {
        "id": "8z2Z7-OAs8QG"
      },
      "source": [
        "## **Mount the drive**\n",
        "Let us start by mounting the drive and importing the necessary libraries."
      ]
    },
    {
      "cell_type": "code",
      "execution_count": 1,
      "metadata": {
        "colab": {
          "base_uri": "https://localhost:8080/"
        },
        "id": "03lDyQUuef7z",
        "outputId": "0caac91b-dbbf-4290-870a-9875ac7b1da9"
      },
      "outputs": [
        {
          "output_type": "stream",
          "name": "stdout",
          "text": [
            "Mounted at /content/drive\n"
          ]
        }
      ],
      "source": [
        "from google.colab import drive\n",
        "drive.mount('/content/drive')"
      ]
    },
    {
      "cell_type": "markdown",
      "metadata": {
        "id": "C8U3DUa3eNsT"
      },
      "source": [
        "## **Importing libraries**"
      ]
    },
    {
      "cell_type": "code",
      "execution_count": 2,
      "metadata": {
        "id": "-dVzeuF3eQx1"
      },
      "outputs": [],
      "source": [
        "import numpy as np\n",
        "import pandas as pd\n",
        "import matplotlib.pyplot as plt\n",
        "import seaborn as sns\n",
        "\n",
        "from sklearn.model_selection import train_test_split\n",
        "from sklearn.preprocessing import MinMaxScaler\n",
        "\n",
        "import tensorflow as tf\n",
        "from tensorflow.keras.models import Sequential\n",
        "from tensorflow.keras.layers import Dense, Conv2D, MaxPool2D, BatchNormalization, Dropout, Flatten, LeakyReLU\n",
        "from tensorflow.keras.utils import to_categorical"
      ]
    },
    {
      "cell_type": "markdown",
      "metadata": {
        "id": "ucnevGLoyKf_"
      },
      "source": [
        "Let us check for the version of TensorFlow."
      ]
    },
    {
      "cell_type": "code",
      "execution_count": 3,
      "metadata": {
        "colab": {
          "base_uri": "https://localhost:8080/"
        },
        "id": "W5as47YxyJVk",
        "outputId": "bbdc9655-7425-4633-bf6b-bde7ff84dcdf"
      },
      "outputs": [
        {
          "output_type": "stream",
          "name": "stdout",
          "text": [
            "2.8.0\n"
          ]
        }
      ],
      "source": [
        "print(tf.__version__)"
      ]
    },
    {
      "cell_type": "markdown",
      "metadata": {
        "id": "8lsux2ZwyTTR"
      },
      "source": [
        "## **Load the dataset**\n",
        "- Let us now load the dataset that is available as a .h5 file.\n",
        "- Split the data into train and the test dataset"
      ]
    },
    {
      "cell_type": "code",
      "execution_count": 4,
      "metadata": {
        "id": "BApX9qgNsqV0",
        "scrolled": true
      },
      "outputs": [],
      "source": [
        "import h5py\n",
        "\n",
        "# Open the file as read only\n",
        "# User can make changes in the path as required\n",
        "h5f = h5py.File('/content/drive/MyDrive/mit_adsp_2022/SVHN_single_grey1.h5', 'r')\n",
        "\n",
        "# Load the training and the test set\n",
        "X_train = h5f['X_train'][:]\n",
        "y_train = h5f['y_train'][:]\n",
        "X_test = h5f['X_test'][:]\n",
        "y_test = h5f['y_test'][:]\n",
        "\n",
        "\n",
        "# Close this file\n",
        "h5f.close()"
      ]
    },
    {
      "cell_type": "markdown",
      "metadata": {
        "id": "hVe0CYpUgj7w"
      },
      "source": [
        "Let's check the number of images in the training and testing data."
      ]
    },
    {
      "cell_type": "code",
      "execution_count": 5,
      "metadata": {
        "colab": {
          "base_uri": "https://localhost:8080/"
        },
        "id": "y3lwKpOefkpA",
        "outputId": "a790649c-e306-43d3-de9e-05066c576fad"
      },
      "outputs": [
        {
          "output_type": "execute_result",
          "data": {
            "text/plain": [
              "(42000, 18000)"
            ]
          },
          "metadata": {},
          "execution_count": 5
        }
      ],
      "source": [
        "len(X_train), len(X_test)"
      ]
    },
    {
      "cell_type": "markdown",
      "metadata": {
        "id": "akTUOfLlgwoM"
      },
      "source": [
        "**Observations**\n",
        "- There are 42,000 images in the training data and 18,000 images in the testing data. "
      ]
    },
    {
      "cell_type": "markdown",
      "metadata": {
        "id": "kxODV6HKykuc"
      },
      "source": [
        "## **Visualizing images**\n",
        "- Use X_train to visualize the first 10 images\n",
        "- Use Y_train to print the first 10 labels"
      ]
    },
    {
      "cell_type": "markdown",
      "metadata": {
        "id": "Rn5IZYv-e2TC"
      },
      "source": [
        "#### **Visualize the first 10 images from the training data**"
      ]
    },
    {
      "cell_type": "code",
      "execution_count": 6,
      "metadata": {
        "colab": {
          "base_uri": "https://localhost:8080/",
          "height": 96
        },
        "id": "Bvsc8ytHsqWD",
        "outputId": "e28a6b57-0d60-4c8b-a3ef-ca6527720be3"
      },
      "outputs": [
        {
          "output_type": "display_data",
          "data": {
            "text/plain": [
              "<Figure size 720x72 with 10 Axes>"
            ],
            "image/png": "[encoded data removed]"
          },
          "metadata": {
            "needs_background": "light"
          }
        },
        {
          "output_type": "stream",
          "name": "stdout",
          "text": [
            "label for each of the above image: [2 6 7 4 4 0 3 0 7 3]\n"
          ]
        }
      ],
      "source": [
        "# visualizing the first 10 images in the dataset and their labels\n",
        "plt.figure(figsize=(10, 1))\n",
        "\n",
        "for i in range(10):\n",
        "    plt.subplot(1, 10, i+1)\n",
        "    plt.imshow(X_train[i], cmap=\"gray\") # the function to visualize images\n",
        "    plt.axis('off')\n",
        "\n",
        "plt.show()\n",
        "print('label for each of the above image: %s' % (y_train[0:10]))"
      ]
    },
    {
      "cell_type": "markdown",
      "metadata": {
        "id": "kzoyeXHOy80N"
      },
      "source": [
        "## **Data Preparation**\n",
        "\n",
        "- Print the first image in the train image and figure out the shape of the images\n",
        "- Reshape the train and the test dataset to make them fit the first convolutional operation that we will create later. Figure out the required shape\n",
        "- Normalize the train and the test dataset by dividing by 255\n",
        "- Print the new shapes of the train and the test set\n",
        "- One-hot encode the target variable"
      ]
    },
    {
      "cell_type": "code",
      "execution_count": 7,
      "metadata": {
        "colab": {
          "base_uri": "https://localhost:8080/"
        },
        "id": "NqndzQXng9rL",
        "outputId": "9e6ef7c5-5f42-453a-a01c-d1618a4f7b3e"
      },
      "outputs": [
        {
          "output_type": "stream",
          "name": "stdout",
          "text": [
            "Shape: (32, 32)\n",
            "\n",
            "First image:\n",
            " [[ 33.0704  30.2601  26.852  ...  71.4471  58.2204  42.9939]\n",
            " [ 25.2283  25.5533  29.9765 ... 113.0209 103.3639  84.2949]\n",
            " [ 26.2775  22.6137  40.4763 ... 113.3028 121.775  115.4228]\n",
            " ...\n",
            " [ 28.5502  36.212   45.0801 ...  24.1359  25.0927  26.0603]\n",
            " [ 38.4352  26.4733  23.2717 ...  28.1094  29.4683  30.0661]\n",
            " [ 50.2984  26.0773  24.0389 ...  49.6682  50.853   53.0377]]\n"
          ]
        }
      ],
      "source": [
        "# Shape of the images and the first image\n",
        "\n",
        "print(\"Shape:\", X_train[0].shape)\n",
        "print()\n",
        "print(\"First image:\\n\", X_train[0])"
      ]
    },
    {
      "cell_type": "code",
      "execution_count": 8,
      "metadata": {
        "id": "D9YPwf9ysqWU"
      },
      "outputs": [],
      "source": [
        "# Reshaping the dataset to flatten them. Remember that we always have to give a 4D array as input to CNNs\n",
        "\n",
        "X_train = X_train.reshape(X_train.shape[0], 32,32,1)\n",
        "X_test = X_test.reshape(X_test.shape[0], 32,32,1)"
      ]
    },
    {
      "cell_type": "code",
      "execution_count": 9,
      "metadata": {
        "id": "q_yUUTp_mUzB"
      },
      "outputs": [],
      "source": [
        "# Normalize inputs from 0-255 to 0-1\n",
        "\n",
        "X_train = X_train / 255.0\n",
        "X_test = X_test / 255.0"
      ]
    },
    {
      "cell_type": "code",
      "execution_count": 10,
      "metadata": {
        "colab": {
          "base_uri": "https://localhost:8080/"
        },
        "id": "t7FSqOpamWkH",
        "outputId": "997edbbd-2900-4626-e246-19a95b992f94"
      },
      "outputs": [
        {
          "output_type": "stream",
          "name": "stdout",
          "text": [
            "Training set: (42000, 32, 32, 1) (42000,)\n",
            "Test set: (18000, 32, 32, 1) (18000,)\n"
          ]
        }
      ],
      "source": [
        "# New shape \n",
        "\n",
        "print('Training set:', X_train.shape, y_train.shape)\n",
        "print('Test set:', X_test.shape, y_test.shape)"
      ]
    },
    {
      "cell_type": "markdown",
      "metadata": {
        "id": "YP92jacue2TE"
      },
      "source": [
        "#### **One-hot encode the labels in the target variable y_train and y_test**"
      ]
    },
    {
      "cell_type": "code",
      "execution_count": 11,
      "metadata": {
        "colab": {
          "base_uri": "https://localhost:8080/"
        },
        "id": "zL0lYER4sqWw",
        "outputId": "7cfeb725-6f85-4a45-85eb-dd5772bca2ad"
      },
      "outputs": [
        {
          "output_type": "execute_result",
          "data": {
            "text/plain": [
              "array([[0., 1., 0., ..., 0., 0., 0.],\n",
              "       [0., 0., 0., ..., 1., 0., 0.],\n",
              "       [0., 0., 1., ..., 0., 0., 0.],\n",
              "       ...,\n",
              "       [0., 0., 0., ..., 1., 0., 0.],\n",
              "       [0., 0., 0., ..., 0., 0., 1.],\n",
              "       [0., 0., 1., ..., 0., 0., 0.]], dtype=float32)"
            ]
          },
          "metadata": {},
          "execution_count": 11
        }
      ],
      "source": [
        "# write the function and appropriate variable name to one-hot encode the output\n",
        "\n",
        "y_train = tf.keras.utils.to_categorical(y_train)\n",
        "y_test = tf.keras.utils.to_categorical(y_test)\n",
        "\n",
        "#test labels\n",
        "y_test"
      ]
    },
    {
      "cell_type": "markdown",
      "metadata": {
        "id": "ViqPOTquCF76"
      },
      "source": [
        "- Notice that each entry of y_test is a one-hot encoded vector instead of a single label."
      ]
    },
    {
      "cell_type": "markdown",
      "metadata": {
        "id": "yH-gVrzuByNA"
      },
      "source": [
        "## **Model Building**\n",
        "\n",
        "Now, we have done data preprocessing, let's build a CNN model."
      ]
    },
    {
      "cell_type": "code",
      "execution_count": 12,
      "metadata": {
        "id": "eaGr-3Noe2TF"
      },
      "outputs": [],
      "source": [
        "#Fixing the seed for random number generators\n",
        "np.random.seed(42)\n",
        "import random\n",
        "random.seed(42)\n",
        "tf.random.set_seed(42)"
      ]
    },
    {
      "cell_type": "markdown",
      "metadata": {
        "id": "UJDUoaEj1d6e"
      },
      "source": [
        "### **Model Architecture**\n",
        "- Write a function that returns a sequential model with the following architecture\n",
        " - First Convolutional layer with **16 filters and kernel size of 3x3**. Use the **'same' padding** and provide an **apt input shape**\n",
        " - Add a **LeakyRelu layer** with the **slope equal to 0.1**\n",
        " - Second Convolutional layer with **32 filters and kernel size of 3x3 with 'same' padding**\n",
        " - Another **LeakyRelu** with the **slope equal to 0.1**\n",
        " - A **max-pooling layer** with a **pool size of 2x2**\n",
        " - **Flatten** the output from the previous layer\n",
        " - Add a **dense layer with 32 nodes**\n",
        " - Add a **LeakyRelu layer with slope equal to 0.1**\n",
        " - Add the final **output layer with nodes equal to the number of classes** and **softmax activation**\n",
        " - Compile the model with the **categorical_crossentropy loss, adam optimizers (learning_rate = 0.001), and accuracy metric**. Do not fit the model here, just return the compiled model\n",
        "- Call the function and store the model in a new variable\n",
        "- Print the summary of the model.\n",
        "- Fit the model on the train data with a **validation split of 0.2, batch size = 32, verbose = 1, and 20 epochs**. Store the model building history to use later for visualization."
      ]
    },
    {
      "cell_type": "markdown",
      "metadata": {
        "id": "Uw8pZcNwe2TG"
      },
      "source": [
        "#### **Build and train a CNN model as per the above mentioned architecture**"
      ]
    },
    {
      "cell_type": "code",
      "execution_count": 13,
      "metadata": {
        "id": "Cmi81Gr5sqW-"
      },
      "outputs": [],
      "source": [
        "#Importing losses and optimizers modules\n",
        "from tensorflow.keras import losses\n",
        "from tensorflow.keras import optimizers\n",
        "from keras.layers import LeakyReLU,MaxPooling2D\n",
        "from tensorflow.keras.optimizers import Adam\n",
        "\n",
        "#Define the function\n",
        "def cnn_model_1():\n",
        "    model = Sequential() \n",
        "    #Add layers as per the architecture mentioned above in the same sequence\n",
        "    #convolutional layer 1 -> filters: 16, kernel size: 3x3, padding: 'same', apt input shape, leaky relu w/ 0.1 slope\n",
        "    model.add(Conv2D(filters=16,kernel_size=(3,3),activation=LeakyReLU(0.1),padding='same',input_shape=(32,32,1)))\n",
        "\n",
        "    # cv1 = model.add(Conv2D(filters=16,kernal_size=(3,3),padding='same',input_shape=(32,32,1)))\n",
        "    # cv1 = LeakyReLU(0.1)(cv1)\n",
        "\n",
        "    #convolutional layer 2 -> filters: 32, kernel size: 3x3, padding: 'same', leaky relu w/ 0.1 slope\n",
        "    model.add(Conv2D(filters=32,kernel_size=(3,3),activation=LeakyReLU(0.1),padding='same'))\n",
        "\n",
        "    # cv2 = model.add(Conv2D(filters=32,kernel_size=(3,3),padding='same'))\n",
        "    # cv2 = LeakyReLU(0.1)(cv2)\n",
        "\n",
        "    #max pooling layer -> pool size: 2x2\n",
        "    model.add(MaxPooling2D(pool_size=(2,2)))\n",
        "    \n",
        "    #flatten output from previous layer\n",
        "    model.add(Flatten())\n",
        "\n",
        "    #dense layer w/ 32 nodes\n",
        "    #leaky relu w/ slope 0.1\n",
        "    model.add(Dense(32,activation=LeakyReLU(0.1)))\n",
        "\n",
        "    #final output layer w/ nodes = number of classes & softmax activation\n",
        "    model.add(Dense(10, activation='softmax'))\n",
        "    \n",
        "    #declare adam optimizer with learning rate of 0.001 \n",
        "    adam = Adam(learning_rate=0.001)\n",
        "    \n",
        "    #compile the model\n",
        "    model.compile(optimizer=adam,loss=\"categorical_crossentropy\", metrics=[\"accuracy\"])\n",
        "    \n",
        "    return model"
      ]
    },
    {
      "cell_type": "code",
      "execution_count": 14,
      "metadata": {
        "id": "bGCUI_xsImnH"
      },
      "outputs": [],
      "source": [
        "#Build the model\n",
        "model_1 = cnn_model_1()"
      ]
    },
    {
      "cell_type": "code",
      "execution_count": 15,
      "metadata": {
        "id": "ckJsLdmdQadZ",
        "colab": {
          "base_uri": "https://localhost:8080/"
        },
        "outputId": "2b482088-a049-4358-b967-86232f8a0db8"
      },
      "outputs": [
        {
          "output_type": "stream",
          "name": "stdout",
          "text": [
            "Model: \"sequential\"\n",
            "_________________________________________________________________\n",
            " Layer (type)                Output Shape              Param #   \n",
            "=================================================================\n",
            " conv2d (Conv2D)             (None, 32, 32, 16)        160       \n",
            "                                                                 \n",
            " conv2d_1 (Conv2D)           (None, 32, 32, 32)        4640      \n",
            "                                                                 \n",
            " max_pooling2d (MaxPooling2D  (None, 16, 16, 32)       0         \n",
            " )                                                               \n",
            "                                                                 \n",
            " flatten (Flatten)           (None, 8192)              0         \n",
            "                                                                 \n",
            " dense (Dense)               (None, 32)                262176    \n",
            "                                                                 \n",
            " dense_1 (Dense)             (None, 10)                330       \n",
            "                                                                 \n",
            "=================================================================\n",
            "Total params: 267,306\n",
            "Trainable params: 267,306\n",
            "Non-trainable params: 0\n",
            "_________________________________________________________________\n"
          ]
        }
      ],
      "source": [
        "#Print the model summary\n",
        "model_1.summary()"
      ]
    },
    {
      "cell_type": "code",
      "execution_count": 16,
      "metadata": {
        "id": "3Fy3Dif_zcCk",
        "colab": {
          "base_uri": "https://localhost:8080/"
        },
        "outputId": "d6e7d98e-36a1-40ae-eb7f-fbdd4040b70e"
      },
      "outputs": [
        {
          "output_type": "stream",
          "name": "stdout",
          "text": [
            "Epoch 1/20\n",
            "1050/1050 [==============================] - 13s 4ms/step - loss: 1.2072 - accuracy: 0.5997 - val_loss: 0.6497 - val_accuracy: 0.8133\n",
            "Epoch 2/20\n",
            "1050/1050 [==============================] - 4s 4ms/step - loss: 0.5378 - accuracy: 0.8472 - val_loss: 0.5036 - val_accuracy: 0.8604\n",
            "Epoch 3/20\n",
            "1050/1050 [==============================] - 4s 4ms/step - loss: 0.4411 - accuracy: 0.8703 - val_loss: 0.4921 - val_accuracy: 0.8608\n",
            "Epoch 4/20\n",
            "1050/1050 [==============================] - 4s 4ms/step - loss: 0.3829 - accuracy: 0.8869 - val_loss: 0.4510 - val_accuracy: 0.8714\n",
            "Epoch 5/20\n",
            "1050/1050 [==============================] - 4s 4ms/step - loss: 0.3381 - accuracy: 0.8987 - val_loss: 0.4647 - val_accuracy: 0.8706\n",
            "Epoch 6/20\n",
            "1050/1050 [==============================] - 4s 4ms/step - loss: 0.2959 - accuracy: 0.9123 - val_loss: 0.4886 - val_accuracy: 0.8635\n",
            "Epoch 7/20\n",
            "1050/1050 [==============================] - 4s 4ms/step - loss: 0.2681 - accuracy: 0.9200 - val_loss: 0.4462 - val_accuracy: 0.8768\n",
            "Epoch 8/20\n",
            "1050/1050 [==============================] - 4s 4ms/step - loss: 0.2376 - accuracy: 0.9272 - val_loss: 0.4900 - val_accuracy: 0.8680\n",
            "Epoch 9/20\n",
            "1050/1050 [==============================] - 4s 4ms/step - loss: 0.2171 - accuracy: 0.9340 - val_loss: 0.5107 - val_accuracy: 0.8702\n",
            "Epoch 10/20\n",
            "1050/1050 [==============================] - 4s 4ms/step - loss: 0.1949 - accuracy: 0.9411 - val_loss: 0.4971 - val_accuracy: 0.8801\n",
            "Epoch 11/20\n",
            "1050/1050 [==============================] - 4s 4ms/step - loss: 0.1715 - accuracy: 0.9473 - val_loss: 0.5588 - val_accuracy: 0.8707\n",
            "Epoch 12/20\n",
            "1050/1050 [==============================] - 4s 4ms/step - loss: 0.1579 - accuracy: 0.9517 - val_loss: 0.5675 - val_accuracy: 0.8714\n",
            "Epoch 13/20\n",
            "1050/1050 [==============================] - 4s 4ms/step - loss: 0.1415 - accuracy: 0.9558 - val_loss: 0.6105 - val_accuracy: 0.8661\n",
            "Epoch 14/20\n",
            "1050/1050 [==============================] - 4s 4ms/step - loss: 0.1260 - accuracy: 0.9612 - val_loss: 0.6382 - val_accuracy: 0.8583\n",
            "Epoch 15/20\n",
            "1050/1050 [==============================] - 4s 4ms/step - loss: 0.1193 - accuracy: 0.9622 - val_loss: 0.6594 - val_accuracy: 0.8675\n",
            "Epoch 16/20\n",
            "1050/1050 [==============================] - 4s 4ms/step - loss: 0.1051 - accuracy: 0.9659 - val_loss: 0.6920 - val_accuracy: 0.8701\n",
            "Epoch 17/20\n",
            "1050/1050 [==============================] - 4s 4ms/step - loss: 0.0970 - accuracy: 0.9684 - val_loss: 0.7516 - val_accuracy: 0.8599\n",
            "Epoch 18/20\n",
            "1050/1050 [==============================] - 4s 4ms/step - loss: 0.0919 - accuracy: 0.9703 - val_loss: 0.7194 - val_accuracy: 0.8701\n",
            "Epoch 19/20\n",
            "1050/1050 [==============================] - 4s 4ms/step - loss: 0.0790 - accuracy: 0.9737 - val_loss: 0.7922 - val_accuracy: 0.8645\n",
            "Epoch 20/20\n",
            "1050/1050 [==============================] - 4s 4ms/step - loss: 0.0732 - accuracy: 0.9756 - val_loss: 0.7932 - val_accuracy: 0.8669\n"
          ]
        }
      ],
      "source": [
        "# Fit the model\n",
        "#Fit the model on the train data with a validation split of 0.2, batch size = 32, verbose = 1, and 20 epochs\n",
        "#Store the model building history to use later for visualization.\n",
        "history_model_1 = model_1.fit(X_train,y_train,validation_data=(X_test,y_test),validation_split=0.2,verbose=1,batch_size=32,epochs=20)"
      ]
    },
    {
      "cell_type": "markdown",
      "metadata": {
        "id": "tKOckG-KPyLg"
      },
      "source": [
        "### **Plotting the validation and training accuracies**"
      ]
    },
    {
      "cell_type": "code",
      "execution_count": 17,
      "metadata": {
        "id": "lt77zgGMP4yw",
        "colab": {
          "base_uri": "https://localhost:8080/",
          "height": 497
        },
        "outputId": "b916c1ed-49b2-4b33-cc1f-863040ca68d6"
      },
      "outputs": [
        {
          "output_type": "display_data",
          "data": {
            "text/plain": [
              "<Figure size 576x576 with 1 Axes>"
            ],
            "image/png": "[encoded data removed]"
          },
          "metadata": {
            "needs_background": "light"
          }
        }
      ],
      "source": [
        "# plotting the accuracies - ORIGINAL FOR COMPARISON\n",
        "\n",
        "dict_hist = history_model_1.history\n",
        "list_ep = [i for i in range(1,21)]\n",
        "\n",
        "plt.figure(figsize = (8,8))\n",
        "plt.plot(list_ep,dict_hist['accuracy'],ls = '--', label = 'accuracy')\n",
        "plt.plot(list_ep,dict_hist['val_accuracy'],ls = '--', label = 'val_accuracy')\n",
        "plt.ylabel('Accuracy')\n",
        "plt.xlabel('Epochs')\n",
        "plt.legend()\n",
        "plt.show()"
      ]
    },
    {
      "cell_type": "markdown",
      "metadata": {
        "id": "pGBbQpLONX7k"
      },
      "source": [
        "**Observations:**\n",
        "- The model's accuracy gets to nearly 95% accuracy for the training data by the 15th epoch\n",
        "- However, the accuracy for the validation data levels off a little greater than 85% and fluctuates around this value\n",
        "- Since the validation accuracy levels off at a lower value than the training data, it looks like the model is likely overfitting to the training data"
      ]
    },
    {
      "cell_type": "markdown",
      "metadata": {
        "id": "z0qgLMBZm5-K"
      },
      "source": [
        "Let's build another model and see if we can get a better model with generalized performance.\n",
        "\n",
        "First, we need to clear the previous model's history from the keras backend. Also, let's fix the seed again after clearing the backend."
      ]
    },
    {
      "cell_type": "code",
      "execution_count": 18,
      "metadata": {
        "id": "y98BpLxsok_H"
      },
      "outputs": [],
      "source": [
        "#Clearing backend\n",
        "from tensorflow.keras import backend\n",
        "backend.clear_session()"
      ]
    },
    {
      "cell_type": "code",
      "execution_count": 19,
      "metadata": {
        "id": "HbKi93HTolGW"
      },
      "outputs": [],
      "source": [
        "#Fixing the seed for random number generators\n",
        "np.random.seed(42)\n",
        "import random\n",
        "random.seed(42)\n",
        "tf.random.set_seed(42)"
      ]
    },
    {
      "cell_type": "markdown",
      "metadata": {
        "id": "lT6o3TIKuCtk"
      },
      "source": [
        "### **Second Model Architecture**\n",
        "- Write a function that returns a sequential model with the following architecture\n",
        " - First Convolutional layer with **16 filters and kernel size of 3x3**. Use the **'same' padding** and provide an **apt input shape**\n",
        " - Add a **LeakyRelu layer** with the **slope equal to 0.1**\n",
        " - Second Convolutional layer with **32 filters and kernel size of 3x3 with 'same' padding**\n",
        " - Add **LeakyRelu** with the **slope equal to 0.1**\n",
        " - Add a **max-pooling layer** with a **pool size of 2x2**\n",
        " - Add a **BatchNormalization layer**\n",
        " - Third Convolutional layer with **32 filters and kernel size of 3x3 with 'same' padding**\n",
        " - Add a **LeakyRelu layer with slope equal to 0.1**\n",
        " - Fourth Convolutional layer **64 filters and kernel size of 3x3 with 'same' padding** \n",
        " - Add a **LeakyRelu layer with slope equal to 0.1**\n",
        " - Add a **max-pooling layer** with a **pool size of 2x2**\n",
        " - Add a **BatchNormalization layer**\n",
        " - **Flatten** the output from the previous layer\n",
        " - Add a **dense layer with 32 nodes**\n",
        " - Add a **LeakyRelu layer with slope equal to 0.1**\n",
        " - Add a **dropout layer with rate equal to 0.5**\n",
        " - Add the final **output layer with nodes equal to the number of classes** and **softmax activation**\n",
        " - Compile the model with the **categorical_crossentropy loss, adam optimizers (learning_rate = 0.001), and accuracy metric**. Do not fit the model here, just return the compiled model\n",
        "- Call the function and store the model in a new variable\n",
        "- Print the summary of the model.\n",
        "- Fit the model on the train data with a **validation split of 0.2, batch size = 128, verbose = 1, and 30 epochs**. Store the model building history to use later for visualization."
      ]
    },
    {
      "cell_type": "markdown",
      "metadata": {
        "id": "Sr-bwBT2e2TJ"
      },
      "source": [
        "#### **Build and train the second CNN model as per the above mentioned architecture**"
      ]
    },
    {
      "cell_type": "code",
      "execution_count": 20,
      "metadata": {
        "id": "EEPYLFIPnSDP"
      },
      "outputs": [],
      "source": [
        "# Importing all the different layers and optimizers\n",
        "from tensorflow.keras.layers import Dense, Dropout, Flatten, Conv2D, MaxPooling2D, BatchNormalization\n",
        "from tensorflow.keras.optimizers import Adam\n",
        "\n",
        "#Define the function\n",
        "def cnn_model_2():\n",
        "    model = Sequential() \n",
        "    #Add layers as per the architecture mentioned above in the same sequence\n",
        "\n",
        "    # First Convolutional layer with 16 filters and kernel size of 3x3. Use the 'same' padding and provide an apt input shape\n",
        "    # Add a LeakyRelu layer with the slope equal to 0.1\n",
        "    model.add(Conv2D(filters=16,kernel_size=(3,3),activation=LeakyReLU(0.1),padding='same',input_shape=(32,32,1)))\n",
        "\n",
        "    # Second Convolutional layer with 32 filters and kernel size of 3x3 with 'same' padding\n",
        "    # Add LeakyRelu with the slope equal to 0.1\n",
        "    model.add(Conv2D(filters=32,kernel_size=(3,3),activation=LeakyReLU(0.1),padding='same'))\n",
        "\n",
        "    # Add a max-pooling layer with a pool size of 2x2\n",
        "    model.add(MaxPooling2D(pool_size=(2,2)))\n",
        "\n",
        "    # Add a BatchNormalization layer\n",
        "    model.add(BatchNormalization())\n",
        "\n",
        "    # Third Convolutional layer with 32 filters and kernel size of 3x3 with 'same' padding\n",
        "    # Add a LeakyRelu layer with slope equal to 0.1\n",
        "    model.add(Conv2D(filters=32,kernel_size=(3,3),activation=LeakyReLU(0.1),padding='same'))\n",
        "\n",
        "    # Fourth Convolutional layer 64 filters and kernel size of 3x3 with 'same' padding\n",
        "    # Add a LeakyRelu layer with slope equal to 0.1\n",
        "    model.add(Conv2D(filters=64,kernel_size=(3,3),activation=LeakyReLU(0.1),padding='same'))\n",
        "\n",
        "    # Add a max-pooling layer with a pool size of 2x2\n",
        "    model.add(MaxPooling2D(pool_size=(2,2)))\n",
        "\n",
        "    # Add a BatchNormalization layer\n",
        "    model.add(BatchNormalization())\n",
        "    \n",
        "    # Flatten the output from the previous layer\n",
        "    model.add(Flatten())\n",
        "\n",
        "    # Add a dense layer with 32 nodes\n",
        "    # Add a LeakyRelu layer with slope equal to 0.1\n",
        "    model.add(Dense(32,activation=LeakyReLU(0.1)))\n",
        "\n",
        "    # Add a dropout layer with rate equal to 0.5\n",
        "    model.add(Dropout(0.5))\n",
        "\n",
        "    # Add the final output layer with nodes equal to the number of classes and softmax activation\n",
        "    model.add(Dense(10, activation='softmax'))\n",
        "\n",
        "    # Compile the model with the categorical_crossentropy loss, adam optimizers (learning_rate = 0.001), and accuracy metric. Do not fit the model here, just return the compiled model\n",
        "    #declare adam optimizer with learning rate of 0.001 \n",
        "    adam = Adam(learning_rate=0.001)\n",
        "    \n",
        "    #compile the model\n",
        "    model.compile(optimizer=adam,loss=\"categorical_crossentropy\", metrics=[\"accuracy\"])\n",
        "    \n",
        "    return model"
      ]
    },
    {
      "cell_type": "code",
      "execution_count": 21,
      "metadata": {
        "id": "AKjDY4plnSFl"
      },
      "outputs": [],
      "source": [
        "# Build the model\n",
        "model_2 = cnn_model_2()"
      ]
    },
    {
      "cell_type": "code",
      "execution_count": 22,
      "metadata": {
        "id": "gz_6SVrU2swZ",
        "colab": {
          "base_uri": "https://localhost:8080/"
        },
        "outputId": "57752204-1bb6-47f6-afd6-2a7db66d5aa0"
      },
      "outputs": [
        {
          "output_type": "stream",
          "name": "stdout",
          "text": [
            "Model: \"sequential\"\n",
            "_________________________________________________________________\n",
            " Layer (type)                Output Shape              Param #   \n",
            "=================================================================\n",
            " conv2d (Conv2D)             (None, 32, 32, 16)        160       \n",
            "                                                                 \n",
            " conv2d_1 (Conv2D)           (None, 32, 32, 32)        4640      \n",
            "                                                                 \n",
            " max_pooling2d (MaxPooling2D  (None, 16, 16, 32)       0         \n",
            " )                                                               \n",
            "                                                                 \n",
            " batch_normalization (BatchN  (None, 16, 16, 32)       128       \n",
            " ormalization)                                                   \n",
            "                                                                 \n",
            " conv2d_2 (Conv2D)           (None, 16, 16, 32)        9248      \n",
            "                                                                 \n",
            " conv2d_3 (Conv2D)           (None, 16, 16, 64)        18496     \n",
            "                                                                 \n",
            " max_pooling2d_1 (MaxPooling  (None, 8, 8, 64)         0         \n",
            " 2D)                                                             \n",
            "                                                                 \n",
            " batch_normalization_1 (Batc  (None, 8, 8, 64)         256       \n",
            " hNormalization)                                                 \n",
            "                                                                 \n",
            " flatten (Flatten)           (None, 4096)              0         \n",
            "                                                                 \n",
            " dense (Dense)               (None, 32)                131104    \n",
            "                                                                 \n",
            " dropout (Dropout)           (None, 32)                0         \n",
            "                                                                 \n",
            " dense_1 (Dense)             (None, 10)                330       \n",
            "                                                                 \n",
            "=================================================================\n",
            "Total params: 164,362\n",
            "Trainable params: 164,170\n",
            "Non-trainable params: 192\n",
            "_________________________________________________________________\n"
          ]
        }
      ],
      "source": [
        "#Print the summary\n",
        "model_2.summary()"
      ]
    },
    {
      "cell_type": "code",
      "execution_count": 23,
      "metadata": {
        "id": "IQ0Sc4R-y-uu",
        "colab": {
          "base_uri": "https://localhost:8080/"
        },
        "outputId": "ca6f478f-3368-47e9-c49c-c48402debd72"
      },
      "outputs": [
        {
          "output_type": "stream",
          "name": "stdout",
          "text": [
            "Epoch 1/30\n",
            "263/263 [==============================] - 3s 9ms/step - loss: 1.4706 - accuracy: 0.5004 - val_loss: 3.2626 - val_accuracy: 0.1694\n",
            "Epoch 2/30\n",
            "263/263 [==============================] - 2s 7ms/step - loss: 0.6927 - accuracy: 0.7865 - val_loss: 0.5679 - val_accuracy: 0.8360\n",
            "Epoch 3/30\n",
            "263/263 [==============================] - 2s 8ms/step - loss: 0.5571 - accuracy: 0.8306 - val_loss: 0.4985 - val_accuracy: 0.8576\n",
            "Epoch 4/30\n",
            "263/263 [==============================] - 2s 8ms/step - loss: 0.5016 - accuracy: 0.8479 - val_loss: 0.4967 - val_accuracy: 0.8510\n",
            "Epoch 5/30\n",
            "263/263 [==============================] - 2s 7ms/step - loss: 0.4473 - accuracy: 0.8642 - val_loss: 0.3920 - val_accuracy: 0.8958\n",
            "Epoch 6/30\n",
            "263/263 [==============================] - 2s 7ms/step - loss: 0.4123 - accuracy: 0.8715 - val_loss: 0.3966 - val_accuracy: 0.8873\n",
            "Epoch 7/30\n",
            "263/263 [==============================] - 2s 7ms/step - loss: 0.3892 - accuracy: 0.8800 - val_loss: 0.4603 - val_accuracy: 0.8735\n",
            "Epoch 8/30\n",
            "263/263 [==============================] - 2s 7ms/step - loss: 0.3609 - accuracy: 0.8875 - val_loss: 0.4177 - val_accuracy: 0.8894\n",
            "Epoch 9/30\n",
            "263/263 [==============================] - 2s 7ms/step - loss: 0.3348 - accuracy: 0.8958 - val_loss: 0.4195 - val_accuracy: 0.8832\n",
            "Epoch 10/30\n",
            "263/263 [==============================] - 2s 8ms/step - loss: 0.3201 - accuracy: 0.9016 - val_loss: 0.3902 - val_accuracy: 0.8926\n",
            "Epoch 11/30\n",
            "263/263 [==============================] - 2s 7ms/step - loss: 0.2994 - accuracy: 0.9036 - val_loss: 0.3580 - val_accuracy: 0.9051\n",
            "Epoch 12/30\n",
            "263/263 [==============================] - 2s 8ms/step - loss: 0.2843 - accuracy: 0.9115 - val_loss: 0.3542 - val_accuracy: 0.9081\n",
            "Epoch 13/30\n",
            "263/263 [==============================] - 2s 8ms/step - loss: 0.2729 - accuracy: 0.9143 - val_loss: 0.3929 - val_accuracy: 0.9050\n",
            "Epoch 14/30\n",
            "263/263 [==============================] - 2s 7ms/step - loss: 0.2651 - accuracy: 0.9152 - val_loss: 0.3843 - val_accuracy: 0.9010\n",
            "Epoch 15/30\n",
            "263/263 [==============================] - 2s 7ms/step - loss: 0.2525 - accuracy: 0.9185 - val_loss: 0.3806 - val_accuracy: 0.9081\n",
            "Epoch 16/30\n",
            "263/263 [==============================] - 2s 7ms/step - loss: 0.2421 - accuracy: 0.9212 - val_loss: 0.4147 - val_accuracy: 0.8830\n",
            "Epoch 17/30\n",
            "263/263 [==============================] - 2s 7ms/step - loss: 0.2291 - accuracy: 0.9259 - val_loss: 0.4025 - val_accuracy: 0.9032\n",
            "Epoch 18/30\n",
            "263/263 [==============================] - 2s 7ms/step - loss: 0.2205 - accuracy: 0.9274 - val_loss: 0.3903 - val_accuracy: 0.9090\n",
            "Epoch 19/30\n",
            "263/263 [==============================] - 2s 8ms/step - loss: 0.2179 - accuracy: 0.9289 - val_loss: 0.4106 - val_accuracy: 0.9070\n",
            "Epoch 20/30\n",
            "263/263 [==============================] - 2s 7ms/step - loss: 0.2044 - accuracy: 0.9348 - val_loss: 0.4869 - val_accuracy: 0.8786\n",
            "Epoch 21/30\n",
            "263/263 [==============================] - 2s 8ms/step - loss: 0.2043 - accuracy: 0.9330 - val_loss: 0.3733 - val_accuracy: 0.9086\n",
            "Epoch 22/30\n",
            "263/263 [==============================] - 2s 7ms/step - loss: 0.1901 - accuracy: 0.9368 - val_loss: 0.4553 - val_accuracy: 0.9063\n",
            "Epoch 23/30\n",
            "263/263 [==============================] - 2s 7ms/step - loss: 0.1852 - accuracy: 0.9398 - val_loss: 0.4235 - val_accuracy: 0.9069\n",
            "Epoch 24/30\n",
            "263/263 [==============================] - 2s 7ms/step - loss: 0.1828 - accuracy: 0.9400 - val_loss: 0.4268 - val_accuracy: 0.9069\n",
            "Epoch 25/30\n",
            "263/263 [==============================] - 2s 8ms/step - loss: 0.1658 - accuracy: 0.9453 - val_loss: 0.4298 - val_accuracy: 0.9111\n",
            "Epoch 26/30\n",
            "263/263 [==============================] - 2s 8ms/step - loss: 0.1700 - accuracy: 0.9439 - val_loss: 0.3929 - val_accuracy: 0.9070\n",
            "Epoch 27/30\n",
            "263/263 [==============================] - 2s 8ms/step - loss: 0.1590 - accuracy: 0.9460 - val_loss: 0.4772 - val_accuracy: 0.8893\n",
            "Epoch 28/30\n",
            "263/263 [==============================] - 2s 7ms/step - loss: 0.1603 - accuracy: 0.9465 - val_loss: 0.5027 - val_accuracy: 0.9039\n",
            "Epoch 29/30\n",
            "263/263 [==============================] - 2s 8ms/step - loss: 0.1579 - accuracy: 0.9459 - val_loss: 0.4727 - val_accuracy: 0.9095\n",
            "Epoch 30/30\n",
            "263/263 [==============================] - 2s 9ms/step - loss: 0.1548 - accuracy: 0.9474 - val_loss: 0.4651 - val_accuracy: 0.9108\n"
          ]
        }
      ],
      "source": [
        "# Fit the model\n",
        "# validation split of 0.2, batch size = 128, verbose = 1, and 30 epochs\n",
        "history_model_2 = model_2.fit(X_train,y_train,validation_data=(X_test,y_test),validation_split=0.2,verbose=1,batch_size=128,epochs=30)"
      ]
    },
    {
      "cell_type": "markdown",
      "metadata": {
        "id": "0_f1EXmTe2TK"
      },
      "source": [
        "### **Plotting the validation and training accuracies**"
      ]
    },
    {
      "cell_type": "code",
      "execution_count": 24,
      "metadata": {
        "id": "01ig6BrF1KVy",
        "colab": {
          "base_uri": "https://localhost:8080/",
          "height": 497
        },
        "outputId": "302d6633-a7bc-4de2-edf8-6267e795e34c"
      },
      "outputs": [
        {
          "output_type": "display_data",
          "data": {
            "text/plain": [
              "<Figure size 576x576 with 1 Axes>"
            ],
            "image/png": "[encoded data removed]"
          },
          "metadata": {
            "needs_background": "light"
          }
        }
      ],
      "source": [
        "# plotting the accuracies\n",
        "\n",
        "dict_hist = history_model_2.history\n",
        "list_ep = [i for i in range(1,31)]\n",
        "\n",
        "plt.figure(figsize = (8,8))\n",
        "plt.plot(list_ep,dict_hist['accuracy'],ls = '--', label = 'accuracy')\n",
        "plt.plot(list_ep,dict_hist['val_accuracy'],ls = '--', label = 'val_accuracy')\n",
        "plt.ylabel('Accuracy')\n",
        "plt.xlabel('Epochs')\n",
        "plt.legend()\n",
        "plt.show()"
      ]
    },
    {
      "cell_type": "markdown",
      "metadata": {
        "id": "VPW1LlD61RDn"
      },
      "source": [
        "**Observations:**\n",
        "- This new model is now performing much better for the validation data set\n",
        "- Although the validation accuracy levels off around the 5th epoch (unlike the training accuracy which continues to steadily rise), the validation accuracy now sits close to 90% which is an improvement\n",
        "- It even performs a bit better for the validation set than the training set from the 3-10 epoch range"
      ]
    },
    {
      "cell_type": "markdown",
      "metadata": {
        "id": "8kuXx9Bvu00f"
      },
      "source": [
        "## **Predictions on the test data**\n",
        "\n",
        "- Make predictions on the test set using the second model\n",
        "- Print the obtained results using the classification report and the confusion matrix\n",
        "- Final observations from the obtained results"
      ]
    },
    {
      "cell_type": "markdown",
      "metadata": {
        "id": "yfZwC9OUe2TL"
      },
      "source": [
        "#### **Make predictions on the test data using the second model**"
      ]
    },
    {
      "cell_type": "code",
      "execution_count": 25,
      "metadata": {
        "id": "xbWMEtTj5Ad0"
      },
      "outputs": [],
      "source": [
        "#Make prediction on the test data using model_2 \n",
        "test_pred = model_2.predict(X_test)\n",
        "\n",
        "test_pred = np.argmax(test_pred, axis=-1)"
      ]
    },
    {
      "cell_type": "markdown",
      "metadata": {
        "id": "i3li8Ib08yts"
      },
      "source": [
        "**Note:** Earlier, we noticed that each entry of the test data is a one-hot encoded vector but to print the classification report and confusion matrix, we must convert each entry of y_test to a single label."
      ]
    },
    {
      "cell_type": "code",
      "execution_count": 26,
      "metadata": {
        "id": "NByu7uAQ8x9P"
      },
      "outputs": [],
      "source": [
        "#Converting each entry to single label from one-hot encoded vector\n",
        "y_test = np.argmax(y_test, axis=-1)"
      ]
    },
    {
      "cell_type": "markdown",
      "metadata": {
        "id": "yHDUEma0e2TM"
      },
      "source": [
        "#### **Final observations on the performance of the model on the test data**"
      ]
    },
    {
      "cell_type": "code",
      "execution_count": 27,
      "metadata": {
        "id": "xRddeJ-3EHT1",
        "colab": {
          "base_uri": "https://localhost:8080/",
          "height": 638
        },
        "outputId": "ad42ed23-98ee-4cfb-a7ea-5f95f0dbdc2d"
      },
      "outputs": [
        {
          "output_type": "stream",
          "name": "stdout",
          "text": [
            "              precision    recall  f1-score   support\n",
            "\n",
            "           0       0.92      0.94      0.93      1814\n",
            "           1       0.91      0.92      0.91      1828\n",
            "           2       0.92      0.93      0.93      1803\n",
            "           3       0.92      0.87      0.89      1719\n",
            "           4       0.92      0.93      0.92      1812\n",
            "           5       0.91      0.90      0.91      1768\n",
            "           6       0.89      0.89      0.89      1832\n",
            "           7       0.94      0.93      0.93      1808\n",
            "           8       0.88      0.91      0.89      1812\n",
            "           9       0.91      0.90      0.90      1804\n",
            "\n",
            "    accuracy                           0.91     18000\n",
            "   macro avg       0.91      0.91      0.91     18000\n",
            "weighted avg       0.91      0.91      0.91     18000\n",
            "\n"
          ]
        },
        {
          "output_type": "display_data",
          "data": {
            "text/plain": [
              "<Figure size 576x360 with 2 Axes>"
            ],
            "image/png": "[encoded data removed]"
          },
          "metadata": {
            "needs_background": "light"
          }
        }
      ],
      "source": [
        "#importing required functions\n",
        "from sklearn.metrics import classification_report\n",
        "from sklearn.metrics import confusion_matrix\n",
        "\n",
        "#Printing the classification report\n",
        "print(classification_report(y_test, test_pred))\n",
        "\n",
        "#Plotting the heatmap using confusion matrix\n",
        "cm = confusion_matrix(y_test, test_pred)\n",
        "plt.figure(figsize=(8,5))\n",
        "sns.heatmap(cm, annot=True,  fmt='.0f')\n",
        "plt.ylabel('Actual')\n",
        "plt.xlabel('Predicted')\n",
        "plt.show()"
      ]
    },
    {
      "cell_type": "markdown",
      "metadata": {
        "id": "DjErl4GA2u9s"
      },
      "source": [
        "#### **Observations:**\n",
        "- The avg precision and recall over all digits for the final model is 91% for both metrics respectively\n",
        "- After reworking our model and tweaking some of the hyperparameters we were able to increase the validation accuracy from 86% to 89%\n",
        "- In order to improve the accuracy there are a handlful of additional things we could try like adding more nodes, adjusting the hyperparameters, or adding more convolutional filters."
      ]
    }
  ],
  "metadata": {
    "accelerator": "GPU",
    "colab": {
      "collapsed_sections": [],
      "name": "09 cnn.ipynb",
      "provenance": []
    },
    "kernelspec": {
      "display_name": "Python 3",
      "language": "python",
      "name": "python3"
    },
    "language_info": {
      "codemirror_mode": {
        "name": "ipython",
        "version": 3
      },
      "file_extension": ".py",
      "mimetype": "text/x-python",
      "name": "python",
      "nbconvert_exporter": "python",
      "pygments_lexer": "ipython3",
      "version": "3.8.8"
    }
  },
  "nbformat": 4,
  "nbformat_minor": 0
}